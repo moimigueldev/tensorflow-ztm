{
  "nbformat": 4,
  "nbformat_minor": 0,
  "metadata": {
    "colab": {
      "name": "handwritten-digits-deep-learning.ipynb",
      "provenance": [],
      "collapsed_sections": [],
      "authorship_tag": "ABX9TyPV3PnFnyVl7oeOJNpqhk2u",
      "include_colab_link": true
    },
    "kernelspec": {
      "name": "python3",
      "display_name": "Python 3"
    },
    "language_info": {
      "name": "python"
    }
  },
  "cells": [
    {
      "cell_type": "markdown",
      "metadata": {
        "id": "view-in-github",
        "colab_type": "text"
      },
      "source": [
        "<a href=\"https://colab.research.google.com/github/moimigueldev/tensorflow-ztm/blob/main/handwritten_digits_deep_learning.ipynb\" target=\"_parent\"><img src=\"https://colab.research.google.com/assets/colab-badge.svg\" alt=\"Open In Colab\"/></a>"
      ]
    },
    {
      "cell_type": "markdown",
      "source": [
        "# Goal\n",
        "\n",
        "> The goal of this notebook is to use the famous keras mnist dataset to create a deep learning model to ID hand written digits 1-9"
      ],
      "metadata": {
        "id": "PLGQ7QAeRmaM"
      }
    },
    {
      "cell_type": "code",
      "source": [
        "import pandas as pd\n",
        "import numpy as np\n",
        "import matplotlib.pyplot as plt\n",
        "import tensorflow as tf\n",
        "from sklearn.metrics import confusion_matrix\n"
      ],
      "metadata": {
        "id": "VFEhyD1cR94z"
      },
      "execution_count": 1,
      "outputs": []
    },
    {
      "cell_type": "code",
      "source": [
        "(X_train, y_train), (X_test, y_test) = tf.keras.datasets.mnist.load_data()\n",
        "X_train.shape, X_test.shape\n"
      ],
      "metadata": {
        "colab": {
          "base_uri": "https://localhost:8080/"
        },
        "id": "k3RrtFkvSV9s",
        "outputId": "8489229c-1f7e-41f7-bff2-23135a3a5dbf"
      },
      "execution_count": 2,
      "outputs": [
        {
          "output_type": "stream",
          "name": "stdout",
          "text": [
            "Downloading data from https://storage.googleapis.com/tensorflow/tf-keras-datasets/mnist.npz\n",
            "11493376/11490434 [==============================] - 0s 0us/step\n",
            "11501568/11490434 [==============================] - 0s 0us/step\n"
          ]
        },
        {
          "output_type": "execute_result",
          "data": {
            "text/plain": [
              "((60000, 28, 28), (10000, 28, 28))"
            ]
          },
          "metadata": {},
          "execution_count": 2
        }
      ]
    },
    {
      "cell_type": "markdown",
      "source": [
        "# Explore data (Visualize it)\n"
      ],
      "metadata": {
        "id": "RODHFB6fScml"
      }
    },
    {
      "cell_type": "code",
      "source": [
        "y_train, y_test.shape"
      ],
      "metadata": {
        "colab": {
          "base_uri": "https://localhost:8080/"
        },
        "id": "7VWUzmxkSzCk",
        "outputId": "50524589-9f40-4b5e-ea51-5e39954b2e64"
      },
      "execution_count": 3,
      "outputs": [
        {
          "output_type": "execute_result",
          "data": {
            "text/plain": [
              "(array([5, 0, 4, ..., 5, 6, 8], dtype=uint8), (10000,))"
            ]
          },
          "metadata": {},
          "execution_count": 3
        }
      ]
    },
    {
      "cell_type": "code",
      "source": [
        "y_train[0]"
      ],
      "metadata": {
        "colab": {
          "base_uri": "https://localhost:8080/"
        },
        "id": "J7bFwXGsSz9w",
        "outputId": "b38e67f5-9ce8-4504-8616-7a4477ee6e1a"
      },
      "execution_count": 4,
      "outputs": [
        {
          "output_type": "execute_result",
          "data": {
            "text/plain": [
              "5"
            ]
          },
          "metadata": {},
          "execution_count": 4
        }
      ]
    },
    {
      "cell_type": "code",
      "source": [
        "# plt.figure(figsize=(10, 17))\n",
        "plt.imshow(X_train[0], cmap=plt.cm.binary)\n"
      ],
      "metadata": {
        "colab": {
          "base_uri": "https://localhost:8080/",
          "height": 282
        },
        "id": "2YpaQTBwS7dR",
        "outputId": "c95fe204-b650-4648-c5ea-e498b893e5b2"
      },
      "execution_count": 5,
      "outputs": [
        {
          "output_type": "execute_result",
          "data": {
            "text/plain": [
              "<matplotlib.image.AxesImage at 0x7f02493f2290>"
            ]
          },
          "metadata": {},
          "execution_count": 5
        },
        {
          "output_type": "display_data",
          "data": {
            "text/plain": [
              "<Figure size 432x288 with 1 Axes>"
            ],
            "image/png": "[encoded data removed]"
          },
          "metadata": {
            "needs_background": "light"
          }
        }
      ]
    },
    {
      "cell_type": "code",
      "source": [
        "X_train[0].shape"
      ],
      "metadata": {
        "colab": {
          "base_uri": "https://localhost:8080/"
        },
        "id": "Czo_7-SVTYI1",
        "outputId": "dbdd250d-d73c-4ea1-9ca6-59a02963580c"
      },
      "execution_count": 6,
      "outputs": [
        {
          "output_type": "execute_result",
          "data": {
            "text/plain": [
              "(28, 28)"
            ]
          },
          "metadata": {},
          "execution_count": 6
        }
      ]
    },
    {
      "cell_type": "markdown",
      "source": [
        " We have images in 28 x 28 format. Lets create a function to quickly look at different samples"
      ],
      "metadata": {
        "id": "koTP9v64Tqji"
      }
    },
    {
      "cell_type": "code",
      "source": [
        "import random\n",
        "\n",
        "def see_sample():\n",
        "  index = random.randint(0, len(X_train))\n",
        "  \n",
        "  plt.imshow(X_train[index])\n",
        "  plt.title(f'Showing: {y_train[index]}')\n",
        "\n",
        "see_sample()"
      ],
      "metadata": {
        "colab": {
          "base_uri": "https://localhost:8080/"
        },
        "id": "PCJnOnHWT1_t",
        "outputId": "6aa47274-0619-424f-a14b-30341076128d"
      },
      "execution_count": null,
      "outputs": [
        {
          "output_type": "display_data",
          "data": {
            "text/plain": [
              "<Figure size 432x288 with 1 Axes>"
            ],
            "image/png": "[encoded data removed]"
          },
          "metadata": {
            "needs_background": "light"
          }
        }
      ]
    },
    {
      "cell_type": "markdown",
      "source": [
        "# Models\n",
        "\n",
        "First we are going to run a model without normalization to see how it compares to normalization after"
      ],
      "metadata": {
        "id": "SKc2MlfQUB36"
      }
    },
    {
      "cell_type": "code",
      "source": [
        "tf.random.set_seed(42)\n",
        "\n",
        "model_1 = tf.keras.Sequential([\n",
        "      tf.keras.layers.Flatten(input_shape=(28, 28)),\n",
        "      tf.keras.layers.Dense(10, activation='softmax')\n",
        "])\n",
        "\n",
        "model_1.compile(loss=tf.keras.losses.SparseCategoricalCrossentropy(), optimizer=tf.keras.optimizers.Adam(), metrics=['accuracy'])\n",
        "\n",
        "\n",
        "history_1 = model_1.fit(X_train, y_train, epochs=5, validation_data=(X_test, y_test))\n",
        "pd.DataFrame(history_1.history).plot()"
      ],
      "metadata": {
        "id": "BJcgJrQpVQiS"
      },
      "execution_count": null,
      "outputs": []
    },
    {
      "cell_type": "markdown",
      "source": [
        "From the first model we can see that we get pretty good results with the bare minimum. \n",
        "Let's normalize the data and compare results"
      ],
      "metadata": {
        "id": "SVr_fM6KWN8q"
      }
    },
    {
      "cell_type": "markdown",
      "source": [
        "### Normalize"
      ],
      "metadata": {
        "id": "zbO3s2sXbz0a"
      }
    },
    {
      "cell_type": "code",
      "source": [
        "# Normalizing the data\n",
        "\n",
        "X_train_norm = X_train / X_train.max()\n",
        "X_test_norm = X_test / X_test.max()\n"
      ],
      "metadata": {
        "id": "sm9FTRxnXuLc"
      },
      "execution_count": null,
      "outputs": []
    },
    {
      "cell_type": "code",
      "source": [
        "tf.random.set_seed(42)\n",
        "\n",
        "model_2 = tf.keras.Sequential([\n",
        "      tf.keras.layers.Flatten(input_shape=(28, 28)),\n",
        "      tf.keras.layers.Dense(10, activation='softmax')\n",
        "])\n",
        "\n",
        "model_2.compile(loss=tf.keras.losses.SparseCategoricalCrossentropy(), optimizer=tf.keras.optimizers.Adam(), metrics=['accuracy'])\n",
        "\n",
        "\n",
        "history_2 = model_2.fit(X_train_norm, y_train, epochs=5, validation_data=(X_test_norm, y_test))\n",
        "pd.DataFrame(history_2.history).plot()"
      ],
      "metadata": {
        "id": "cNZRFbOlZDvs"
      },
      "execution_count": null,
      "outputs": []
    },
    {
      "cell_type": "markdown",
      "source": [
        "By normalizing the data our results improve a significant amount. \n",
        "Let's play around with the layers to see if we can improve the model further \n",
        "\n",
        "The loss dramatically reduces "
      ],
      "metadata": {
        "id": "STlBqH4FaW1C"
      }
    },
    {
      "cell_type": "code",
      "source": [
        "tf.random.set_seed(42)\n",
        "\n",
        "model_3 = tf.keras.Sequential([\n",
        "      tf.keras.layers.Flatten(input_shape=(28, 28)),\n",
        "      tf.keras.layers.Dense(10, activation='relu'),\n",
        "      tf.keras.layers.Dense(10, activation='relu'),\n",
        "      tf.keras.layers.Dense(10, activation='softmax')\n",
        "])\n",
        "\n",
        "model_3.compile(loss=tf.keras.losses.SparseCategoricalCrossentropy(), optimizer=tf.keras.optimizers.Adam(), metrics=['accuracy'])\n",
        "\n",
        "\n",
        "history_3 = model_3.fit(X_train_norm, y_train, epochs=5, validation_data=(X_test_norm, y_test))\n",
        "pd.DataFrame(history_3.history).plot()"
      ],
      "metadata": {
        "id": "dnGHyrCzboJR"
      },
      "execution_count": null,
      "outputs": []
    },
    {
      "cell_type": "markdown",
      "source": [
        "By adding 2 hidden layes with 10 neurons each. We are able to improve the model \n"
      ],
      "metadata": {
        "id": "9_xOqanPb-_5"
      }
    },
    {
      "cell_type": "markdown",
      "source": [
        "### Find the optimal learning rate\n",
        "\n",
        "Let's run a schedular to find the learning"
      ],
      "metadata": {
        "id": "jZDp-arqcz7d"
      }
    },
    {
      "cell_type": "code",
      "source": [
        "tf.random.set_seed(42)\n",
        "\n",
        "model_4 = tf.keras.Sequential([\n",
        "      tf.keras.layers.Flatten(input_shape=(28, 28)),\n",
        "      tf.keras.layers.Dense(10, activation='relu'),\n",
        "      tf.keras.layers.Dense(10, activation='relu'),\n",
        "      tf.keras.layers.Dense(10, activation='softmax')\n",
        "])\n",
        "\n",
        "model_4.compile(loss=tf.keras.losses.SparseCategoricalCrossentropy(), optimizer=tf.keras.optimizers.Adam(), metrics=['accuracy'])\n",
        "\n",
        "lr_scheduler = tf.keras.callbacks.LearningRateScheduler(lambda epoch: 1e-3 * 10**(epoch/20))\n",
        "\n",
        "\n",
        "history_4 = model_4.fit(X_train_norm, y_train, epochs=40, validation_data=(X_test_norm, y_test), callbacks=[lr_scheduler])\n",
        "pd.DataFrame(history_4.history).plot()"
      ],
      "metadata": {
        "id": "SrUyp9n8c3re"
      },
      "execution_count": null,
      "outputs": []
    },
    {
      "cell_type": "code",
      "source": [
        "# Plot the learning rate decay curve\n",
        "lrs = 1e-3 * (10**(tf.range(40)/20))\n",
        "plt.semilogx(lrs, history_3.history['loss'])\n",
        "plt.title('Finding the learning rate')\n",
        "plt.xlabel('Learning Rate')\n",
        "plt.ylabel('loss')"
      ],
      "metadata": {
        "id": "6Ox_EHpVhOTO"
      },
      "execution_count": null,
      "outputs": []
    },
    {
      "cell_type": "markdown",
      "source": [
        "The Learning Rate schedular shows us that the adam default learning rate is working fine for the model"
      ],
      "metadata": {
        "id": "mptfkbRti8Ou"
      }
    },
    {
      "cell_type": "code",
      "source": [
        "tf.random.set_seed(42)\n",
        "\n",
        "model_5 = tf.keras.Sequential([\n",
        "      tf.keras.layers.Flatten(input_shape=(28, 28)),\n",
        "      tf.keras.layers.Dense(10, activation='relu'),\n",
        "      tf.keras.layers.Dense(10, activation='relu'),\n",
        "      tf.keras.layers.Dense(10, activation='softmax')\n",
        "])\n",
        "\n",
        "model_5.compile(loss=tf.keras.losses.SparseCategoricalCrossentropy(), optimizer=tf.keras.optimizers.Adam(learning_rate=0.001), metrics=['accuracy'])\n",
        "\n",
        "\n",
        "\n",
        "history_5 = model_5.fit(X_train_norm, y_train, epochs=5, validation_data=(X_test_norm, y_test))\n",
        "pd.DataFrame(history_5.history).plot()"
      ],
      "metadata": {
        "id": "lqzUkkvk51UD"
      },
      "execution_count": null,
      "outputs": []
    },
    {
      "cell_type": "code",
      "source": [
        "import itertools\n",
        "from sklearn.metrics import confusion_matrix\n",
        "\n",
        "\n",
        "def make_confusion_matrix(y_true, y_pred, classes=None, figsize=(10, 10), text_size=15):\n",
        "\n",
        "  # Create the confusion matrix\n",
        "  cm = confusion_matrix(y_true, y_pred)\n",
        "  cm_norm = cm.astype(\"float\") / cm.sum(axis=1)[:, np.newaxis] # normalize it\n",
        "  n_classes = cm.shape[0]\n",
        "\n",
        "  # Let's prettify it\n",
        "  fig, ax = plt.subplots(figsize=figsize)\n",
        "  # Create a matrix plot\n",
        "  cax = ax.matshow(cm, cmap=plt.cm.Blues) # https://matplotlib.org/3.2.0/api/_as_gen/matplotlib.axes.Axes.matshow.html\n",
        "  fig.colorbar(cax)\n",
        "\n",
        "  \n",
        "  # Set labels to be classes\n",
        "  if classes:\n",
        "    labels = classes\n",
        "  else:\n",
        "    labels = np.arange(cm.shape[0])\n",
        "\n",
        "  # Label the axes\n",
        "  ax.set(title=\"Confusion Matrix\",\n",
        "        xlabel=\"Predicted label\",\n",
        "        ylabel=\"True label\",\n",
        "        xticks=np.arange(n_classes),\n",
        "        yticks=np.arange(n_classes),\n",
        "        xticklabels=labels,\n",
        "        yticklabels=labels)\n",
        "\n",
        "  # Set x-axis labels to bottom\n",
        "  ax.xaxis.set_label_position(\"bottom\")\n",
        "  ax.xaxis.tick_bottom()\n",
        "\n",
        "  # Adjust label size\n",
        "  ax.xaxis.label.set_size(text_size)\n",
        "  ax.yaxis.label.set_size(text_size)\n",
        "  ax.title.set_size(text_size)\n",
        "\n",
        "  # Set threshold for different colors\n",
        "  threshold = (cm.max() + cm.min()) / 2.\n",
        "\n",
        "  # Plot the text on each cell\n",
        "  for i, j in itertools.product(range(cm.shape[0]), range(cm.shape[1])):\n",
        "    plt.text(j, i, f\"{cm[i, j]} ({cm_norm[i, j]*100:.1f}%)\",\n",
        "            horizontalalignment=\"center\",\n",
        "            color=\"white\" if cm[i, j] > threshold else \"black\",\n",
        "            size=text_size)"
      ],
      "metadata": {
        "id": "l8XhV1aZ9Boz"
      },
      "execution_count": null,
      "outputs": []
    },
    {
      "cell_type": "code",
      "source": [
        "# Evaluate model_5 with a confusion matrix\n",
        "y_pred = model_5.predict(X_test_norm)\n",
        "y_pred = y_pred.argmax(axis=1)\n",
        "y_pred\n"
      ],
      "metadata": {
        "id": "hPJz9XU57rF4"
      },
      "execution_count": null,
      "outputs": []
    },
    {
      "cell_type": "code",
      "source": [
        "confusion_matrix(y_test, y_pred)"
      ],
      "metadata": {
        "id": "ZRL33-Pu8lEo"
      },
      "execution_count": null,
      "outputs": []
    },
    {
      "cell_type": "code",
      "source": [
        "\n",
        "\n",
        "make_confusion_matrix(y_test, y_pred, classes=[0,1,2,3,4,5,6,7,8,9], figsize=(15, 10), text_size=9)"
      ],
      "metadata": {
        "id": "DnZj8T2v8qMF"
      },
      "execution_count": null,
      "outputs": []
    },
    {
      "cell_type": "code",
      "source": [
        "def make_rand_pred(model):\n",
        "  index = random.randint(0, len(X_test_norm))\n",
        "  probs = model.predict(X_test_norm[index].reshape(1, 28, 28))\n",
        "  plt.imshow(X_test_norm[index], cmap=plt.cm.binary)\n",
        "  classes=[0,1,2,3,4,5,6,7,8,9]\n",
        "\n",
        "  plt.title(f'{y_test[index]}: prob: {100*tf.reduce_max(probs): .2f}%', fontsize=20)\n",
        "\n",
        "make_rand_pred(model_5)"
      ],
      "metadata": {
        "id": "GDYdVhj39JIN"
      },
      "execution_count": null,
      "outputs": []
    },
    {
      "cell_type": "code",
      "source": [
        "model_5.save('./saved_model.hdf5')"
      ],
      "metadata": {
        "id": "_49sY41Z9_lS"
      },
      "execution_count": null,
      "outputs": []
    },
    {
      "cell_type": "code",
      "source": [
        ""
      ],
      "metadata": {
        "id": "4sluaEJaBKDQ"
      },
      "execution_count": null,
      "outputs": []
    }
  ]
}