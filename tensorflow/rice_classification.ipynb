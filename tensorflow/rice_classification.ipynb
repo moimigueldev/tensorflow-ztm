{
  "nbformat": 4,
  "nbformat_minor": 0,
  "metadata": {
    "colab": {
      "name": "rice-classification",
      "provenance": [],
      "collapsed_sections": [],
      "machine_shape": "hm",
      "toc_visible": true,
      "authorship_tag": "ABX9TyNV7U0784o90l8FDGxUnrL1",
      "include_colab_link": true
    },
    "kernelspec": {
      "name": "python3",
      "display_name": "Python 3"
    },
    "language_info": {
      "name": "python"
    },
    "accelerator": "GPU"
  },
  "cells": [
    {
      "cell_type": "markdown",
      "metadata": {
        "id": "view-in-github",
        "colab_type": "text"
      },
      "source": [
        "<a href=\"https://colab.research.google.com/github/moimigueldev/tensorflow-ztm/blob/main/tensorflow/rice_classification.ipynb\" target=\"_parent\"><img src=\"https://colab.research.google.com/assets/colab-badge.svg\" alt=\"Open In Colab\"/></a>"
      ]
    },
    {
      "cell_type": "markdown",
      "source": [
        "# Classify 5 types of rice\n",
        "\n",
        "[Kaggle Dataset](https://www.kaggle.com/datasets/muratkokludataset/rice-image-dataset)"
      ],
      "metadata": {
        "id": "cBwzwyY097dq"
      }
    },
    {
      "cell_type": "markdown",
      "source": [
        "# import data and helpers"
      ],
      "metadata": {
        "id": "3gRZurZH-zFL"
      }
    },
    {
      "cell_type": "code",
      "source": [
        "# Download Helper File & Rice Data\n",
        "!wget https://raw.githubusercontent.com/mrdbourke/tensorflow-deep-learning/main/extras/helper_functions.py\n",
        "!wget https://www.dropbox.com/s/sd69bn3a5iq70wk/rice-images.zip?dl=0"
      ],
      "metadata": {
        "colab": {
          "base_uri": "https://localhost:8080/"
        },
        "id": "7lAf_6HFSy_h",
        "outputId": "226517a2-b4f9-449c-f590-c2b6b20ff9a2"
      },
      "execution_count": 2,
      "outputs": [
        {
          "output_type": "stream",
          "name": "stdout",
          "text": [
            "--2022-06-03 15:59:44--  https://raw.githubusercontent.com/mrdbourke/tensorflow-deep-learning/main/extras/helper_functions.py\n",
            "Resolving raw.githubusercontent.com (raw.githubusercontent.com)... 185.199.108.133, 185.199.109.133, 185.199.110.133, ...\n",
            "Connecting to raw.githubusercontent.com (raw.githubusercontent.com)|185.199.108.133|:443... connected.\n",
            "HTTP request sent, awaiting response... 200 OK\n",
            "Length: 10246 (10K) [text/plain]\n",
            "Saving to: ‘helper_functions.py’\n",
            "\n",
            "helper_functions.py 100%[===================>]  10.01K  --.-KB/s    in 0s      \n",
            "\n",
            "2022-06-03 15:59:44 (110 MB/s) - ‘helper_functions.py’ saved [10246/10246]\n",
            "\n",
            "--2022-06-03 15:59:44--  https://www.dropbox.com/s/sd69bn3a5iq70wk/rice-images.zip?dl=0\n",
            "Resolving www.dropbox.com (www.dropbox.com)... 162.125.81.18, 2620:100:6017:18::a27d:212\n",
            "Connecting to www.dropbox.com (www.dropbox.com)|162.125.81.18|:443... connected.\n",
            "HTTP request sent, awaiting response... 301 Moved Permanently\n",
            "Location: /s/raw/sd69bn3a5iq70wk/rice-images.zip [following]\n",
            "--2022-06-03 15:59:45--  https://www.dropbox.com/s/raw/sd69bn3a5iq70wk/rice-images.zip\n",
            "Reusing existing connection to www.dropbox.com:443.\n",
            "HTTP request sent, awaiting response... 302 Found\n",
            "Location: https://uc8eb68e7cf02729f559db808f14.dl.dropboxusercontent.com/cd/0/inline/Bmh69EMQp6u7Sjb_gNOLMlHPumiHkj5P3ZidDFrfdacZmRl-fWLrREIz3vRKS3UvhT1l9QepmGfvPnKUYeTjKgi7LypOnT3GJDFLNlAJMQZ_52uPjBV_dj2dOC-dNUQwTMzHnOkH3CMHT7chkyupka5wiVRhT5hJP7HR0n-AWseCmg/file# [following]\n",
            "--2022-06-03 15:59:45--  https://uc8eb68e7cf02729f559db808f14.dl.dropboxusercontent.com/cd/0/inline/Bmh69EMQp6u7Sjb_gNOLMlHPumiHkj5P3ZidDFrfdacZmRl-fWLrREIz3vRKS3UvhT1l9QepmGfvPnKUYeTjKgi7LypOnT3GJDFLNlAJMQZ_52uPjBV_dj2dOC-dNUQwTMzHnOkH3CMHT7chkyupka5wiVRhT5hJP7HR0n-AWseCmg/file\n",
            "Resolving uc8eb68e7cf02729f559db808f14.dl.dropboxusercontent.com (uc8eb68e7cf02729f559db808f14.dl.dropboxusercontent.com)... 162.125.81.15, 2620:100:6017:15::a27d:20f\n",
            "Connecting to uc8eb68e7cf02729f559db808f14.dl.dropboxusercontent.com (uc8eb68e7cf02729f559db808f14.dl.dropboxusercontent.com)|162.125.81.15|:443... connected.\n",
            "HTTP request sent, awaiting response... 302 Found\n",
            "Location: /cd/0/inline2/BmjozSqSJaqLvBLPpEEUBVBurWz7x-dX1Aw8C2udeWfwdMyuM2413y1O2egmsMBG0yh1WrmNe01XBkas3x3S6fmbq-mHI4HpxKe8f4BNeyS3yl7YbAK4hQxEEM_tKGOwkoXVHTQQdzokpo9AUg2wFrYhlhAgfErO-nNeHff17Y9fnFw-o3t1Nqc0hxE5a59mLHZoQmFrrqfh1ZV6QHsePFbRnPpl6jqFZbrd_8wdw5EdegSkGyNedGJ_b3_-YC8HR1F4DEXdOIGTWlfo5tpAWM5GvC1s9gn0iYiPAE70I_WDZIO6ryliOd0LwQ75pL3Z0DqxCfzEIwomrzCIyBNeFZ7pDDqKb0Z1f4KJlqPeQtZIWfklHSbDSXv64cpwVGR_UMvdKqx6Wq-R1l6Ej1DaNAMCI2DdC0rYD85szaHsOcNvQA/file [following]\n",
            "--2022-06-03 15:59:46--  https://uc8eb68e7cf02729f559db808f14.dl.dropboxusercontent.com/cd/0/inline2/BmjozSqSJaqLvBLPpEEUBVBurWz7x-dX1Aw8C2udeWfwdMyuM2413y1O2egmsMBG0yh1WrmNe01XBkas3x3S6fmbq-mHI4HpxKe8f4BNeyS3yl7YbAK4hQxEEM_tKGOwkoXVHTQQdzokpo9AUg2wFrYhlhAgfErO-nNeHff17Y9fnFw-o3t1Nqc0hxE5a59mLHZoQmFrrqfh1ZV6QHsePFbRnPpl6jqFZbrd_8wdw5EdegSkGyNedGJ_b3_-YC8HR1F4DEXdOIGTWlfo5tpAWM5GvC1s9gn0iYiPAE70I_WDZIO6ryliOd0LwQ75pL3Z0DqxCfzEIwomrzCIyBNeFZ7pDDqKb0Z1f4KJlqPeQtZIWfklHSbDSXv64cpwVGR_UMvdKqx6Wq-R1l6Ej1DaNAMCI2DdC0rYD85szaHsOcNvQA/file\n",
            "Reusing existing connection to uc8eb68e7cf02729f559db808f14.dl.dropboxusercontent.com:443.\n",
            "HTTP request sent, awaiting response... 200 OK\n",
            "Length: 93543628 (89M) [application/zip]\n",
            "Saving to: ‘rice-images.zip?dl=0’\n",
            "\n",
            "rice-images.zip?dl= 100%[===================>]  89.21M  16.4MB/s    in 6.3s    \n",
            "\n",
            "2022-06-03 15:59:53 (14.2 MB/s) - ‘rice-images.zip?dl=0’ saved [93543628/93543628]\n",
            "\n"
          ]
        }
      ]
    },
    {
      "cell_type": "code",
      "source": [
        "# Imports\n",
        "from helper_functions import create_tensorboard_callback, plot_loss_curves, unzip_data, walk_through_dir\n",
        "import tensorflow as tf\n",
        "from tensorflow.keras.preprocessing import image_dataset_from_directory"
      ],
      "metadata": {
        "id": "7y1FuAPc-3mO"
      },
      "execution_count": 3,
      "outputs": []
    },
    {
      "cell_type": "code",
      "source": [
        "# unzip rice-data\n",
        "# I preprocessed the data by splitting them into testing and training \n",
        "#   directories each at a different percentage to help train faster.\n",
        "unzip_data('rice-images.zip?dl=0')"
      ],
      "metadata": {
        "id": "lzDW-3XemNwR"
      },
      "execution_count": 6,
      "outputs": []
    },
    {
      "cell_type": "code",
      "source": [
        "# training data at 3%\n",
        "walk_through_dir('train_3')"
      ],
      "metadata": {
        "colab": {
          "base_uri": "https://localhost:8080/"
        },
        "id": "pj8CjSNGmT1C",
        "outputId": "f58712f6-398d-4248-eb43-cad63ef1008c"
      },
      "execution_count": 10,
      "outputs": [
        {
          "output_type": "stream",
          "name": "stdout",
          "text": [
            "There are 5 directories and 1 images in 'train_3'.\n",
            "There are 0 directories and 450 images in 'train_3/Jasmine'.\n",
            "There are 0 directories and 450 images in 'train_3/Ipsala'.\n",
            "There are 0 directories and 450 images in 'train_3/Arborio'.\n",
            "There are 0 directories and 450 images in 'train_3/Karacadag'.\n",
            "There are 0 directories and 450 images in 'train_3/Basmati'.\n"
          ]
        }
      ]
    },
    {
      "cell_type": "markdown",
      "source": [
        "# Data Preprocessing"
      ],
      "metadata": {
        "id": "V1sFgozj1hwB"
      }
    },
    {
      "cell_type": "code",
      "source": [
        "IMG_SHAPE = (224, 224)\n",
        "BATCH_SIZE = 32\n",
        "RANDOM_STATE = 42\n",
        "LABEL_NAMES = ['Arborio', 'Basmati', 'Ipsala', 'Jasmine', 'Karacadag']"
      ],
      "metadata": {
        "id": "Wg-pDusiV4SI"
      },
      "execution_count": 22,
      "outputs": []
    },
    {
      "cell_type": "code",
      "source": [
        "train_3_percent = tf.keras.preprocessing.image_dataset_from_directory(\n",
        "    'train_3',\n",
        "    label_mode='categorical',\n",
        "    image_size= IMG_SHAPE,\n",
        "    batch_size= BATCH_SIZE\n",
        ")\n",
        "\n",
        "train_5_percent = tf.keras.preprocessing.image_dataset_from_directory(\n",
        "    'train_5',\n",
        "    label_mode='categorical',\n",
        "    image_size= IMG_SHAPE,\n",
        "    batch_size= BATCH_SIZE\n",
        ")\n",
        "\n",
        "train_80_percent = tf.keras.preprocessing.image_dataset_from_directory(\n",
        "    'train_80',\n",
        "    label_mode='categorical',\n",
        "    image_size= IMG_SHAPE,\n",
        "    batch_size= BATCH_SIZE\n",
        ")\n",
        "\n",
        "test_20_percent = tf.keras.preprocessing.image_dataset_from_directory(\n",
        "    'test_20',\n",
        "    label_mode='categorical',\n",
        "    image_size= IMG_SHAPE,\n",
        "    batch_size= BATCH_SIZE\n",
        ")\n",
        "\n",
        "\n"
      ],
      "metadata": {
        "colab": {
          "base_uri": "https://localhost:8080/"
        },
        "id": "AePB8niCWP8f",
        "outputId": "c602b8b5-86cb-4663-c97c-b69953bce2bb"
      },
      "execution_count": 97,
      "outputs": [
        {
          "output_type": "stream",
          "name": "stdout",
          "text": [
            "Found 2250 files belonging to 5 classes.\n",
            "Found 3750 files belonging to 5 classes.\n",
            "Found 6000 files belonging to 5 classes.\n",
            "Found 15000 files belonging to 5 classes.\n"
          ]
        }
      ]
    },
    {
      "cell_type": "markdown",
      "source": [
        "## Create data augmentation layer "
      ],
      "metadata": {
        "id": "344jIYM0XjE-"
      }
    },
    {
      "cell_type": "code",
      "source": [
        "data_aug_dial = 0.2\n",
        "data_augmentation = tf.keras.Sequential([\n",
        "  tf.keras.layers.RandomFlip(\"horizontal_and_vertical\"),\n",
        "  tf.keras.layers.RandomRotation(data_aug_dial),\n",
        "  tf.keras.layers.RandomZoom(data_aug_dial),\n",
        "  tf.keras.layers.RandomWidth(data_aug_dial),\n",
        "  tf.keras.layers.RandomHeight(data_aug_dial),\n",
        "], name = 'data_augmetation_layer')"
      ],
      "metadata": {
        "id": "ArXd0T9rYAyK"
      },
      "execution_count": 95,
      "outputs": []
    },
    {
      "cell_type": "markdown",
      "source": [
        "# Visualize Data"
      ],
      "metadata": {
        "id": "eV0gxvWkYJmo"
      }
    },
    {
      "cell_type": "code",
      "source": [
        "import matplotlib.pyplot as plt\n",
        "import matplotlib.image as mpimg\n",
        "import os \n",
        "import random\n",
        "\n",
        "# function to view randoms samples \n",
        "def show_random_image():\n",
        "\n",
        "  random_class = random.choice(LABEL_NAMES)\n",
        "  target_dir = f'train_80/{random_class}'\n",
        "  random_image = random.choice(os.listdir(target_dir))\n",
        "  image_path = f'{target_dir}/{random_image}'\n",
        "  image = mpimg.imread(image_path)\n",
        "\n",
        "  plt.figure(figsize=(10, 15))\n",
        "\n",
        "  # Regular Image\n",
        "  plt.subplot(1, 2, 1)\n",
        "  plt.title(f'Regular Image (type: {random_class})')\n",
        "  plt.axis(False)\n",
        "  plt.imshow(image)\n",
        "\n",
        "  # Augmented Image\n",
        "  augmented_image = data_augmentation(tf.expand_dims(image, axis=0), training=True)\n",
        "  plt.subplot(1, 2, 2)\n",
        "  plt.title(f'Augmented Image')\n",
        "  plt.axis(False)\n",
        "  plt.imshow(tf.squeeze(augmented_image/255.))\n"
      ],
      "metadata": {
        "id": "qIbbKotVaDpP"
      },
      "execution_count": 91,
      "outputs": []
    },
    {
      "cell_type": "code",
      "source": [
        "show_random_image()"
      ],
      "metadata": {
        "colab": {
          "base_uri": "https://localhost:8080/",
          "height": 309
        },
        "id": "Dp2GL7WLapIu",
        "outputId": "8a3364ab-7735-40bc-d60a-ba4dadc79b80"
      },
      "execution_count": 93,
      "outputs": [
        {
          "output_type": "display_data",
          "data": {
            "text/plain": [
              "<Figure size 720x1080 with 2 Axes>"
            ],
            "image/png": "[encoded data removed]"
          },
          "metadata": {
            "needs_background": "light"
          }
        }
      ]
    },
    {
      "cell_type": "markdown",
      "source": [
        "# Model Creation\n",
        "\n",
        "* The first model will be the base model using transfer learning.  \n",
        "\n",
        "* Once the feature extraction base model is created, we can use unfreeze some  layers to fine tune.\n",
        "\n",
        "* We start using small incremented of data (3%) and will increase daeta as the model becomes complex.\n",
        "\n",
        "* We'll use EfficientNetB0 for now and might use different model based off results"
      ],
      "metadata": {
        "id": "nccEcLIndwH4"
      }
    },
    {
      "cell_type": "code",
      "source": [
        "# Model_1 (Feature Extraction)\n",
        "\n",
        "input_shape = IMG_SHAPE + (3,)\n",
        "\n",
        "base_model = tf.keras.applications.EfficientNetB0(include_top=False)\n",
        "\n",
        "base_model.trainable = False\n",
        "\n",
        "inputs = tf.keras.layers.Input(shape= input_shape, name='input_layer')\n",
        "\n",
        "x = data_augmentation(inputs)\n",
        "\n",
        "x = base_model(x, training=False)\n",
        "\n",
        "# Feature extractions\n",
        "x = tf.keras.layers.GlobalAveragePooling2D(name='global_average_pooling_layer')(x)\n",
        "\n",
        "outputs = tf.keras.layers.Dense(5, activation='softmax', name='output_layer')(x)\n",
        "\n",
        "model_1 = tf.keras.Model(inputs, outputs)\n",
        "\n",
        "\n",
        "model_1.compile(loss='categorical_crossentropy', optimizer=tf.keras.optimizers.Adam(), metrics=['accuracy'])\n",
        "\n",
        "\n",
        "history_1 = model_1.fit(\n",
        "    train_3_percent,\n",
        "    epochs=5, \n",
        "    steps_per_epoch=len(train_3_percent),\n",
        "    validation_data=test_20_percent,\n",
        "    validation_steps=int(.25*len(test_20_percent))\n",
        ")"
      ],
      "metadata": {
        "colab": {
          "base_uri": "https://localhost:8080/"
        },
        "id": "hYEr6ISDeuqV",
        "outputId": "b15ee144-08cf-476b-8fed-575267b0fbc5"
      },
      "execution_count": 100,
      "outputs": [
        {
          "output_type": "stream",
          "name": "stdout",
          "text": [
            "Epoch 1/5\n",
            "71/71 [==============================] - 51s 477ms/step - loss: 0.6279 - accuracy: 0.8511 - val_loss: 0.2918 - val_accuracy: 0.9589\n",
            "Epoch 2/5\n",
            "71/71 [==============================] - 25s 345ms/step - loss: 0.1931 - accuracy: 0.9667 - val_loss: 0.1719 - val_accuracy: 0.9714\n",
            "Epoch 3/5\n",
            "71/71 [==============================] - 25s 354ms/step - loss: 0.1404 - accuracy: 0.9658 - val_loss: 0.1476 - val_accuracy: 0.9696\n",
            "Epoch 4/5\n",
            "71/71 [==============================] - 23s 321ms/step - loss: 0.1043 - accuracy: 0.9782 - val_loss: 0.1261 - val_accuracy: 0.9690\n",
            "Epoch 5/5\n",
            "71/71 [==============================] - 23s 323ms/step - loss: 0.1038 - accuracy: 0.9702 - val_loss: 0.1162 - val_accuracy: 0.9720\n"
          ]
        }
      ]
    },
    {
      "cell_type": "code",
      "source": [
        "plot_loss_curves(history_1)"
      ],
      "metadata": {
        "colab": {
          "base_uri": "https://localhost:8080/",
          "height": 573
        },
        "id": "ETnQJGFhgQY9",
        "outputId": "ebe3e9f1-5ad8-4ddf-eae2-d053054b2a90"
      },
      "execution_count": 101,
      "outputs": [
        {
          "output_type": "display_data",
          "data": {
            "text/plain": [
              "<Figure size 432x288 with 1 Axes>"
            ],
            "image/png": "[encoded data removed]"
          },
          "metadata": {
            "needs_background": "light"
          }
        },
        {
          "output_type": "display_data",
          "data": {
            "text/plain": [
              "<Figure size 432x288 with 1 Axes>"
            ],
            "image/png": "[encoded data removed]"
          },
          "metadata": {
            "needs_background": "light"
          }
        }
      ]
    },
    {
      "cell_type": "code",
      "source": [
        "# Evaluate and save full testing set\n",
        "model_1_results = model_1.evaluate(test_20_percent)"
      ],
      "metadata": {
        "colab": {
          "base_uri": "https://localhost:8080/"
        },
        "id": "bSjkbwtZjAUt",
        "outputId": "cc3c3fcb-d346-4a76-b407-395c5cb5cffa"
      },
      "execution_count": 104,
      "outputs": [
        {
          "output_type": "stream",
          "name": "stdout",
          "text": [
            "469/469 [==============================] - 33s 70ms/step - loss: 0.1202 - accuracy: 0.9703\n"
          ]
        }
      ]
    },
    {
      "cell_type": "markdown",
      "source": [
        "Model_1 right off the bat has a high accuracy score without any fine tuning on only 3 percent of the dataset. On the full validation (3000 samples) the model was able to retain it's high accuracy percentage of 97%\n",
        "\n",
        "Let's try some fine tuning"
      ],
      "metadata": {
        "id": "MpbReYCRjJ4g"
      }
    },
    {
      "cell_type": "code",
      "source": [
        ""
      ],
      "metadata": {
        "id": "GzaV5j2lj4k9"
      },
      "execution_count": null,
      "outputs": []
    }
  ]
}