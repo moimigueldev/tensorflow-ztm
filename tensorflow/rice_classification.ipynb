{
  "nbformat": 4,
  "nbformat_minor": 0,
  "metadata": {
    "colab": {
      "name": "rice-classification",
      "provenance": [],
      "collapsed_sections": [],
      "authorship_tag": "ABX9TyO1LbHEKY/AqC2uae6mC0Hd",
      "include_colab_link": true
    },
    "kernelspec": {
      "name": "python3",
      "display_name": "Python 3"
    },
    "language_info": {
      "name": "python"
    },
    "accelerator": "GPU"
  },
  "cells": [
    {
      "cell_type": "markdown",
      "metadata": {
        "id": "view-in-github",
        "colab_type": "text"
      },
      "source": [
        "<a href=\"https://colab.research.google.com/github/moimigueldev/tensorflow-ztm/blob/main/tensorflow/rice_classification.ipynb\" target=\"_parent\"><img src=\"https://colab.research.google.com/assets/colab-badge.svg\" alt=\"Open In Colab\"/></a>"
      ]
    },
    {
      "cell_type": "markdown",
      "source": [
        "# Classify 5 types of rice\n",
        "\n",
        "[Kaggle Dataset](https://www.kaggle.com/datasets/muratkokludataset/rice-image-dataset)"
      ],
      "metadata": {
        "id": "cBwzwyY097dq"
      }
    },
    {
      "cell_type": "markdown",
      "source": [
        "# import data and helpers"
      ],
      "metadata": {
        "id": "3gRZurZH-zFL"
      }
    },
    {
      "cell_type": "code",
      "source": [
        "# Download Helper File & Rice Data\n",
        "!wget https://raw.githubusercontent.com/mrdbourke/tensorflow-deep-learning/main/extras/helper_functions.py\n",
        "!wget https://www.dropbox.com/s/sd69bn3a5iq70wk/rice-images.zip?dl=0"
      ],
      "metadata": {
        "colab": {
          "base_uri": "https://localhost:8080/"
        },
        "id": "7lAf_6HFSy_h",
        "outputId": "ca8a0f23-a260-4df0-80b9-545cc1ac0c78"
      },
      "execution_count": 1,
      "outputs": [
        {
          "output_type": "stream",
          "name": "stdout",
          "text": [
            "--2022-06-03 20:04:34--  https://raw.githubusercontent.com/mrdbourke/tensorflow-deep-learning/main/extras/helper_functions.py\n",
            "Resolving raw.githubusercontent.com (raw.githubusercontent.com)... 185.199.108.133, 185.199.109.133, 185.199.110.133, ...\n",
            "Connecting to raw.githubusercontent.com (raw.githubusercontent.com)|185.199.108.133|:443... connected.\n",
            "HTTP request sent, awaiting response... 200 OK\n",
            "Length: 10246 (10K) [text/plain]\n",
            "Saving to: ‘helper_functions.py’\n",
            "\n",
            "\rhelper_functions.py   0%[                    ]       0  --.-KB/s               \rhelper_functions.py 100%[===================>]  10.01K  --.-KB/s    in 0s      \n",
            "\n",
            "2022-06-03 20:04:35 (79.4 MB/s) - ‘helper_functions.py’ saved [10246/10246]\n",
            "\n",
            "--2022-06-03 20:04:35--  https://www.dropbox.com/s/sd69bn3a5iq70wk/rice-images.zip?dl=0\n",
            "Resolving www.dropbox.com (www.dropbox.com)... 162.125.65.18, 2620:100:6021:18::a27d:4112\n",
            "Connecting to www.dropbox.com (www.dropbox.com)|162.125.65.18|:443... connected.\n",
            "HTTP request sent, awaiting response... 301 Moved Permanently\n",
            "Location: /s/raw/sd69bn3a5iq70wk/rice-images.zip [following]\n",
            "--2022-06-03 20:04:35--  https://www.dropbox.com/s/raw/sd69bn3a5iq70wk/rice-images.zip\n",
            "Reusing existing connection to www.dropbox.com:443.\n",
            "HTTP request sent, awaiting response... 302 Found\n",
            "Location: https://uc8947a649d90b7ee8a821db1432.dl.dropboxusercontent.com/cd/0/inline/Bmg-nrgQNXVlavLm-dX0ielNZEnIgf7f7kWig_N6YibGJwGDjpR8WbqUQBDVkEFY1l4Ad0dGjZudmZ-ZsvdwPPQjMR1Em7BU_LhFXHKT91axuHCbz8ODKLEDoOHEthQDhRyavUyJ5FDD5ajkFKZTsy-iY79BWxfRP5vnTia4hXPo6A/file# [following]\n",
            "--2022-06-03 20:04:35--  https://uc8947a649d90b7ee8a821db1432.dl.dropboxusercontent.com/cd/0/inline/Bmg-nrgQNXVlavLm-dX0ielNZEnIgf7f7kWig_N6YibGJwGDjpR8WbqUQBDVkEFY1l4Ad0dGjZudmZ-ZsvdwPPQjMR1Em7BU_LhFXHKT91axuHCbz8ODKLEDoOHEthQDhRyavUyJ5FDD5ajkFKZTsy-iY79BWxfRP5vnTia4hXPo6A/file\n",
            "Resolving uc8947a649d90b7ee8a821db1432.dl.dropboxusercontent.com (uc8947a649d90b7ee8a821db1432.dl.dropboxusercontent.com)... 162.125.65.15, 2620:100:6021:15::a27d:410f\n",
            "Connecting to uc8947a649d90b7ee8a821db1432.dl.dropboxusercontent.com (uc8947a649d90b7ee8a821db1432.dl.dropboxusercontent.com)|162.125.65.15|:443... connected.\n",
            "HTTP request sent, awaiting response... 302 Found\n",
            "Location: /cd/0/inline2/BmiUBhtqjAtYXw-YlCnCiHKX0YkiKwKxCMXhQNf1OsDUrfsfBAnYSl97cHUjvetln2pH3ZjwKr0jchO5Mjt_SAWRO6yt2Szp0QwIBsoyCvXYqTIPiVqMlQ4CC1eWWyj13wK1hPYWb0wVvIkvURpc8co690oMS40-Tev1R5m7bT4OuKb_o_8nygbVdmJRnlaxx4KOflNGwRSagIHWAMU0T-olLCeuW7hVAkgnNpA1pOf9rbsK-0Tol0rDhAmQgeKXen6HuMxDRYVbLQpulPyqnmAHWXMxw6OtV6R0vLP6jmvgCic2SMZq5DOCmrecOktZbXrAXukTeThMCUA-DUT3ZK26pDFFqVFB6-Sg7IALSgsEPmimbPfoxmAgBWs9oNSjrbkdVslTOLfTXuyvsVpuiICOO7rrJ0FZK5bSRv2bD4F75w/file [following]\n",
            "--2022-06-03 20:04:35--  https://uc8947a649d90b7ee8a821db1432.dl.dropboxusercontent.com/cd/0/inline2/BmiUBhtqjAtYXw-YlCnCiHKX0YkiKwKxCMXhQNf1OsDUrfsfBAnYSl97cHUjvetln2pH3ZjwKr0jchO5Mjt_SAWRO6yt2Szp0QwIBsoyCvXYqTIPiVqMlQ4CC1eWWyj13wK1hPYWb0wVvIkvURpc8co690oMS40-Tev1R5m7bT4OuKb_o_8nygbVdmJRnlaxx4KOflNGwRSagIHWAMU0T-olLCeuW7hVAkgnNpA1pOf9rbsK-0Tol0rDhAmQgeKXen6HuMxDRYVbLQpulPyqnmAHWXMxw6OtV6R0vLP6jmvgCic2SMZq5DOCmrecOktZbXrAXukTeThMCUA-DUT3ZK26pDFFqVFB6-Sg7IALSgsEPmimbPfoxmAgBWs9oNSjrbkdVslTOLfTXuyvsVpuiICOO7rrJ0FZK5bSRv2bD4F75w/file\n",
            "Reusing existing connection to uc8947a649d90b7ee8a821db1432.dl.dropboxusercontent.com:443.\n",
            "HTTP request sent, awaiting response... 200 OK\n",
            "Length: 93543628 (89M) [application/zip]\n",
            "Saving to: ‘rice-images.zip?dl=0’\n",
            "\n",
            "rice-images.zip?dl= 100%[===================>]  89.21M  29.9MB/s    in 3.0s    \n",
            "\n",
            "2022-06-03 20:04:39 (29.9 MB/s) - ‘rice-images.zip?dl=0’ saved [93543628/93543628]\n",
            "\n"
          ]
        }
      ]
    },
    {
      "cell_type": "code",
      "source": [
        "# Imports\n",
        "from helper_functions import create_tensorboard_callback, plot_loss_curves, unzip_data, walk_through_dir\n",
        "import tensorflow as tf\n",
        "from tensorflow.keras.preprocessing import image_dataset_from_directory"
      ],
      "metadata": {
        "id": "7y1FuAPc-3mO"
      },
      "execution_count": 2,
      "outputs": []
    },
    {
      "cell_type": "code",
      "source": [
        "# unzip rice-data\n",
        "# I preprocessed the data by splitting them into testing and training \n",
        "#   directories each at a different percentage to help train faster.\n",
        "unzip_data('rice-images.zip?dl=0')"
      ],
      "metadata": {
        "id": "lzDW-3XemNwR"
      },
      "execution_count": 3,
      "outputs": []
    },
    {
      "cell_type": "code",
      "source": [
        "# training data at 3%\n",
        "walk_through_dir('train_3')"
      ],
      "metadata": {
        "colab": {
          "base_uri": "https://localhost:8080/"
        },
        "id": "pj8CjSNGmT1C",
        "outputId": "862477dd-71d8-4ee4-92ba-a7cb1208cba8"
      },
      "execution_count": 4,
      "outputs": [
        {
          "output_type": "stream",
          "name": "stdout",
          "text": [
            "There are 5 directories and 1 images in 'train_3'.\n",
            "There are 0 directories and 450 images in 'train_3/Basmati'.\n",
            "There are 0 directories and 450 images in 'train_3/Karacadag'.\n",
            "There are 0 directories and 450 images in 'train_3/Jasmine'.\n",
            "There are 0 directories and 450 images in 'train_3/Arborio'.\n",
            "There are 0 directories and 450 images in 'train_3/Ipsala'.\n"
          ]
        }
      ]
    },
    {
      "cell_type": "markdown",
      "source": [
        "# Data Preprocessing"
      ],
      "metadata": {
        "id": "V1sFgozj1hwB"
      }
    },
    {
      "cell_type": "code",
      "source": [
        "IMG_SHAPE = (224, 224)\n",
        "BATCH_SIZE = 32\n",
        "RANDOM_STATE = 42\n",
        "LABEL_NAMES = ['Arborio', 'Basmati', 'Ipsala', 'Jasmine', 'Karacadag']"
      ],
      "metadata": {
        "id": "Wg-pDusiV4SI"
      },
      "execution_count": 5,
      "outputs": []
    },
    {
      "cell_type": "code",
      "source": [
        "train_3_percent = tf.keras.preprocessing.image_dataset_from_directory(\n",
        "    'train_3',\n",
        "    label_mode='categorical',\n",
        "    image_size= IMG_SHAPE,\n",
        "    batch_size= BATCH_SIZE\n",
        ")\n",
        "\n",
        "train_5_percent = tf.keras.preprocessing.image_dataset_from_directory(\n",
        "    'train_5',\n",
        "    label_mode='categorical',\n",
        "    image_size= IMG_SHAPE,\n",
        "    batch_size= BATCH_SIZE\n",
        ")\n",
        "\n",
        "train_80_percent = tf.keras.preprocessing.image_dataset_from_directory(\n",
        "    'train_80',\n",
        "    label_mode='categorical',\n",
        "    image_size= IMG_SHAPE,\n",
        "    batch_size= BATCH_SIZE\n",
        ")\n",
        "\n",
        "test_20_percent = tf.keras.preprocessing.image_dataset_from_directory(\n",
        "    'test_20',\n",
        "    label_mode='categorical',\n",
        "    image_size= IMG_SHAPE,\n",
        "    batch_size= BATCH_SIZE\n",
        ")\n",
        "\n",
        "\n"
      ],
      "metadata": {
        "colab": {
          "base_uri": "https://localhost:8080/"
        },
        "id": "AePB8niCWP8f",
        "outputId": "b830a07e-ddc8-4231-e0b2-f6e68b56f14d"
      },
      "execution_count": 6,
      "outputs": [
        {
          "output_type": "stream",
          "name": "stdout",
          "text": [
            "Found 2250 files belonging to 5 classes.\n",
            "Found 3750 files belonging to 5 classes.\n",
            "Found 6000 files belonging to 5 classes.\n",
            "Found 15000 files belonging to 5 classes.\n"
          ]
        }
      ]
    },
    {
      "cell_type": "markdown",
      "source": [
        "## Create data augmentation layer "
      ],
      "metadata": {
        "id": "344jIYM0XjE-"
      }
    },
    {
      "cell_type": "code",
      "source": [
        "data_aug_dial = 0.2\n",
        "data_augmentation = tf.keras.Sequential([\n",
        "  tf.keras.layers.RandomFlip(\"horizontal_and_vertical\"),\n",
        "  tf.keras.layers.RandomRotation(data_aug_dial),\n",
        "  tf.keras.layers.RandomZoom(data_aug_dial),\n",
        "  tf.keras.layers.RandomWidth(data_aug_dial),\n",
        "  tf.keras.layers.RandomHeight(data_aug_dial),\n",
        "], name = 'data_augmetation_layer')"
      ],
      "metadata": {
        "id": "ArXd0T9rYAyK"
      },
      "execution_count": 7,
      "outputs": []
    },
    {
      "cell_type": "markdown",
      "source": [
        "# Visualize Data"
      ],
      "metadata": {
        "id": "eV0gxvWkYJmo"
      }
    },
    {
      "cell_type": "code",
      "source": [
        "import matplotlib.pyplot as plt\n",
        "import matplotlib.image as mpimg\n",
        "import os \n",
        "import random\n",
        "\n",
        "# function to view randoms samples \n",
        "def show_random_image():\n",
        "\n",
        "  random_class = random.choice(LABEL_NAMES)\n",
        "  target_dir = f'train_80/{random_class}'\n",
        "  random_image = random.choice(os.listdir(target_dir))\n",
        "  image_path = f'{target_dir}/{random_image}'\n",
        "  image = mpimg.imread(image_path)\n",
        "\n",
        "  plt.figure(figsize=(10, 15))\n",
        "\n",
        "  # Regular Image\n",
        "  plt.subplot(1, 2, 1)\n",
        "  plt.title(f'Regular Image (type: {random_class})')\n",
        "  plt.axis(False)\n",
        "  plt.imshow(image)\n",
        "\n",
        "  # Augmented Image\n",
        "  augmented_image = data_augmentation(tf.expand_dims(image, axis=0), training=True)\n",
        "  plt.subplot(1, 2, 2)\n",
        "  plt.title(f'Augmented Image')\n",
        "  plt.axis(False)\n",
        "  plt.imshow(tf.squeeze(augmented_image/255.))\n",
        "  return image_path\n"
      ],
      "metadata": {
        "id": "qIbbKotVaDpP"
      },
      "execution_count": 35,
      "outputs": []
    },
    {
      "cell_type": "code",
      "source": [
        "image = show_random_image()"
      ],
      "metadata": {
        "colab": {
          "base_uri": "https://localhost:8080/",
          "height": 370
        },
        "id": "Dp2GL7WLapIu",
        "outputId": "79a417c5-a222-49ac-ac9f-9afecdc24756"
      },
      "execution_count": 36,
      "outputs": [
        {
          "output_type": "display_data",
          "data": {
            "text/plain": [
              "<Figure size 720x1080 with 2 Axes>"
            ],
            "image/png": "[encoded data removed]"
          },
          "metadata": {
            "needs_background": "light"
          }
        }
      ]
    },
    {
      "cell_type": "code",
      "source": [
        "#Set checkpoint path\n",
        "checkpoint_path = 'model_1_checkpoint_weights/checkpoint.ckpt'\n",
        "\n",
        "# Create a ModelCheckPoint callback that saves the model's weights only \n",
        "checkpoint_callback = tf.keras.callbacks.ModelCheckpoint(\n",
        "  filepath=checkpoint_path,\n",
        "  save_weights=True,\n",
        "  save_best_only=False,\n",
        "  save_freq='epoch', # save every epoch\n",
        "  verbose=1\n",
        ")"
      ],
      "metadata": {
        "id": "vCM1exGGk4db"
      },
      "execution_count": 10,
      "outputs": []
    },
    {
      "cell_type": "markdown",
      "source": [
        "# Model Creation\n",
        "\n",
        "* The first model will be the base model using transfer learning.  \n",
        "\n",
        "* Once the feature extraction base model is created, we can use unfreeze some  layers to fine tune.\n",
        "\n",
        "* We start using small incremented of data (3%) and will increase daeta as the model becomes complex.\n",
        "\n",
        "* We'll use EfficientNetB0 for now and might use different model based off results"
      ],
      "metadata": {
        "id": "nccEcLIndwH4"
      }
    },
    {
      "cell_type": "code",
      "source": [
        "# Model_1 (Feature Extraction)\n",
        "\n",
        "input_shape = IMG_SHAPE + (3,)\n",
        "\n",
        "base_model = tf.keras.applications.EfficientNetB0(include_top=False)\n",
        "\n",
        "base_model.trainable = False\n",
        "\n",
        "inputs = tf.keras.layers.Input(shape= input_shape, name='input_layer')\n",
        "\n",
        "x = data_augmentation(inputs)\n",
        "\n",
        "x = base_model(x, training=False)\n",
        "\n",
        "# Feature extractions\n",
        "x = tf.keras.layers.GlobalAveragePooling2D(name='global_average_pooling_layer')(x)\n",
        "\n",
        "outputs = tf.keras.layers.Dense(5, activation='softmax', name='output_layer')(x)\n",
        "\n",
        "model_1 = tf.keras.Model(inputs, outputs)\n",
        "\n",
        "\n",
        "model_1.compile(loss='categorical_crossentropy', optimizer=tf.keras.optimizers.Adam(), metrics=['accuracy'])\n",
        "\n",
        "initial_epochs = 5\n",
        "history_1 = model_1.fit(\n",
        "    train_3_percent,\n",
        "    epochs=initial_epochs, \n",
        "    steps_per_epoch=len(train_3_percent),\n",
        "    validation_data=test_20_percent,\n",
        "    validation_steps=int(.25*len(test_20_percent)),\n",
        "    callbacks=[checkpoint_callback]\n",
        ")"
      ],
      "metadata": {
        "colab": {
          "base_uri": "https://localhost:8080/"
        },
        "id": "hYEr6ISDeuqV",
        "outputId": "7846d8e4-ed7f-4b90-d617-98fcee22d786"
      },
      "execution_count": 11,
      "outputs": [
        {
          "output_type": "stream",
          "name": "stdout",
          "text": [
            "Downloading data from https://storage.googleapis.com/keras-applications/efficientnetb0_notop.h5\n",
            "16711680/16705208 [==============================] - 0s 0us/step\n",
            "16719872/16705208 [==============================] - 0s 0us/step\n",
            "Epoch 1/5\n",
            "71/71 [==============================] - ETA: 0s - loss: 0.5864 - accuracy: 0.8667\n",
            "Epoch 1: saving model to model_1_checkpoint_weights/checkpoint.ckpt\n",
            "INFO:tensorflow:Assets written to: model_1_checkpoint_weights/checkpoint.ckpt/assets\n",
            "71/71 [==============================] - 70s 787ms/step - loss: 0.5864 - accuracy: 0.8667 - val_loss: 0.3031 - val_accuracy: 0.9423\n",
            "Epoch 2/5\n",
            "71/71 [==============================] - ETA: 0s - loss: 0.1864 - accuracy: 0.9684\n",
            "Epoch 2: saving model to model_1_checkpoint_weights/checkpoint.ckpt\n",
            "INFO:tensorflow:Assets written to: model_1_checkpoint_weights/checkpoint.ckpt/assets\n",
            "71/71 [==============================] - 50s 710ms/step - loss: 0.1864 - accuracy: 0.9684 - val_loss: 0.2404 - val_accuracy: 0.9295\n",
            "Epoch 3/5\n",
            "71/71 [==============================] - ETA: 0s - loss: 0.1331 - accuracy: 0.9711\n",
            "Epoch 3: saving model to model_1_checkpoint_weights/checkpoint.ckpt\n",
            "INFO:tensorflow:Assets written to: model_1_checkpoint_weights/checkpoint.ckpt/assets\n",
            "71/71 [==============================] - 49s 693ms/step - loss: 0.1331 - accuracy: 0.9711 - val_loss: 0.1551 - val_accuracy: 0.9637\n",
            "Epoch 4/5\n",
            "71/71 [==============================] - ETA: 0s - loss: 0.1058 - accuracy: 0.9751\n",
            "Epoch 4: saving model to model_1_checkpoint_weights/checkpoint.ckpt\n",
            "INFO:tensorflow:Assets written to: model_1_checkpoint_weights/checkpoint.ckpt/assets\n",
            "71/71 [==============================] - 49s 693ms/step - loss: 0.1058 - accuracy: 0.9751 - val_loss: 0.1635 - val_accuracy: 0.9517\n",
            "Epoch 5/5\n",
            "71/71 [==============================] - ETA: 0s - loss: 0.0928 - accuracy: 0.9796\n",
            "Epoch 5: saving model to model_1_checkpoint_weights/checkpoint.ckpt\n",
            "INFO:tensorflow:Assets written to: model_1_checkpoint_weights/checkpoint.ckpt/assets\n",
            "71/71 [==============================] - 54s 761ms/step - loss: 0.0928 - accuracy: 0.9796 - val_loss: 0.1496 - val_accuracy: 0.9541\n"
          ]
        }
      ]
    },
    {
      "cell_type": "code",
      "source": [
        "plot_loss_curves(history_1)\n"
      ],
      "metadata": {
        "colab": {
          "base_uri": "https://localhost:8080/",
          "height": 573
        },
        "id": "ETnQJGFhgQY9",
        "outputId": "bf077a7b-8598-401a-8ec8-e316c892df5a"
      },
      "execution_count": 12,
      "outputs": [
        {
          "output_type": "display_data",
          "data": {
            "text/plain": [
              "<Figure size 432x288 with 1 Axes>"
            ],
            "image/png": "[encoded data removed]"
          },
          "metadata": {
            "needs_background": "light"
          }
        },
        {
          "output_type": "display_data",
          "data": {
            "text/plain": [
              "<Figure size 432x288 with 1 Axes>"
            ],
            "image/png": "[encoded data removed]"
          },
          "metadata": {
            "needs_background": "light"
          }
        }
      ]
    },
    {
      "cell_type": "code",
      "source": [
        "# Evaluate and save full testing set\n",
        "model_1_results = model_1.evaluate(test_20_percent)"
      ],
      "metadata": {
        "colab": {
          "base_uri": "https://localhost:8080/"
        },
        "id": "bSjkbwtZjAUt",
        "outputId": "c4419820-f3e3-4ec8-b90c-b52ba69e9cee"
      },
      "execution_count": 13,
      "outputs": [
        {
          "output_type": "stream",
          "name": "stdout",
          "text": [
            "469/469 [==============================] - 24s 50ms/step - loss: 0.1474 - accuracy: 0.9539\n"
          ]
        }
      ]
    },
    {
      "cell_type": "markdown",
      "source": [
        "* Model_1 right off the bat has a high accuracy score without any fine tuning on only 3 percent of the dataset. On the full validation (3000 samples) the model was able to retain it's high accuracy percentage of 97%\n",
        "\n",
        "* The loss & accuracy score show the model could have had better results if we traned it for more epochs\n",
        "\n",
        "Let's try some fine tuning"
      ],
      "metadata": {
        "id": "MpbReYCRjJ4g"
      }
    },
    {
      "cell_type": "markdown",
      "source": [
        "## Create model_2 off of checkpointed model_1 for fine tuning"
      ],
      "metadata": {
        "id": "GzaV5j2lj4k9"
      }
    },
    {
      "cell_type": "code",
      "source": [
        "model_2 = tf.keras.Model(inputs, outputs)\n",
        "model_2.load_weights(checkpoint_path)\n",
        "model_2.compile(loss='categorical_crossentropy', optimizer=tf.keras.optimizers.Adam(), metrics=['accuracy'])\n",
        "\n",
        "\n"
      ],
      "metadata": {
        "id": "ifONHSfOmuLG"
      },
      "execution_count": 14,
      "outputs": []
    },
    {
      "cell_type": "markdown",
      "source": [
        "## Unfreeze layers (10)\n",
        "\n",
        "* before fittin our model we have to unfreze some of the bottom layers to be able to train them on our custom data \n",
        "\n",
        "* We will unfreeze the last 10\n",
        "\n",
        "* When fine tuning, we'll change the learning rate to a much lower value since we don't want to change the base weights too much."
      ],
      "metadata": {
        "id": "aBKsXKcksjbn"
      }
    },
    {
      "cell_type": "code",
      "source": [
        "# Right now there are no trainable variables\n",
        "model_2.layers[2].trainable_variables"
      ],
      "metadata": {
        "colab": {
          "base_uri": "https://localhost:8080/"
        },
        "id": "vNYLFN9cszzY",
        "outputId": "3b160abf-0dce-4958-8e68-2ed178a726ae"
      },
      "execution_count": 15,
      "outputs": [
        {
          "output_type": "execute_result",
          "data": {
            "text/plain": [
              "[]"
            ]
          },
          "metadata": {},
          "execution_count": 15
        }
      ]
    },
    {
      "cell_type": "code",
      "source": [
        "# Unfreeze layers\n",
        "\n",
        "base_model.trainable = True\n",
        "\n",
        "# Freeze all layers except fo the last 10\n",
        "for layer in base_model.layers[:-10]:\n",
        "  layer.trainable = False\n",
        "\n",
        "# Recompile model\n",
        "model_2.compile(\n",
        "  loss='categorical_crossentropy',\n",
        "  # When fine tuning, you typically want to lower the learning rate by 10X\n",
        "  optimizer=tf.keras.optimizers.Adam(0.0001),\n",
        "  metrics=['accuracy']\n",
        ")\n"
      ],
      "metadata": {
        "id": "BDAHr0Zvs6iG"
      },
      "execution_count": 16,
      "outputs": []
    },
    {
      "cell_type": "code",
      "source": [
        "# Check which layers are trainable\n",
        "for layer_number, layer in enumerate(model_2.layers[2].layers):\n",
        "  print(layer_number, layer.name, layer.trainable)"
      ],
      "metadata": {
        "colab": {
          "base_uri": "https://localhost:8080/"
        },
        "id": "fjsc-R4rt0GR",
        "outputId": "a39078c8-ab2f-47b7-a13f-74f68e10320f"
      },
      "execution_count": 17,
      "outputs": [
        {
          "output_type": "stream",
          "name": "stdout",
          "text": [
            "0 input_1 False\n",
            "1 rescaling False\n",
            "2 normalization False\n",
            "3 stem_conv_pad False\n",
            "4 stem_conv False\n",
            "5 stem_bn False\n",
            "6 stem_activation False\n",
            "7 block1a_dwconv False\n",
            "8 block1a_bn False\n",
            "9 block1a_activation False\n",
            "10 block1a_se_squeeze False\n",
            "11 block1a_se_reshape False\n",
            "12 block1a_se_reduce False\n",
            "13 block1a_se_expand False\n",
            "14 block1a_se_excite False\n",
            "15 block1a_project_conv False\n",
            "16 block1a_project_bn False\n",
            "17 block2a_expand_conv False\n",
            "18 block2a_expand_bn False\n",
            "19 block2a_expand_activation False\n",
            "20 block2a_dwconv_pad False\n",
            "21 block2a_dwconv False\n",
            "22 block2a_bn False\n",
            "23 block2a_activation False\n",
            "24 block2a_se_squeeze False\n",
            "25 block2a_se_reshape False\n",
            "26 block2a_se_reduce False\n",
            "27 block2a_se_expand False\n",
            "28 block2a_se_excite False\n",
            "29 block2a_project_conv False\n",
            "30 block2a_project_bn False\n",
            "31 block2b_expand_conv False\n",
            "32 block2b_expand_bn False\n",
            "33 block2b_expand_activation False\n",
            "34 block2b_dwconv False\n",
            "35 block2b_bn False\n",
            "36 block2b_activation False\n",
            "37 block2b_se_squeeze False\n",
            "38 block2b_se_reshape False\n",
            "39 block2b_se_reduce False\n",
            "40 block2b_se_expand False\n",
            "41 block2b_se_excite False\n",
            "42 block2b_project_conv False\n",
            "43 block2b_project_bn False\n",
            "44 block2b_drop False\n",
            "45 block2b_add False\n",
            "46 block3a_expand_conv False\n",
            "47 block3a_expand_bn False\n",
            "48 block3a_expand_activation False\n",
            "49 block3a_dwconv_pad False\n",
            "50 block3a_dwconv False\n",
            "51 block3a_bn False\n",
            "52 block3a_activation False\n",
            "53 block3a_se_squeeze False\n",
            "54 block3a_se_reshape False\n",
            "55 block3a_se_reduce False\n",
            "56 block3a_se_expand False\n",
            "57 block3a_se_excite False\n",
            "58 block3a_project_conv False\n",
            "59 block3a_project_bn False\n",
            "60 block3b_expand_conv False\n",
            "61 block3b_expand_bn False\n",
            "62 block3b_expand_activation False\n",
            "63 block3b_dwconv False\n",
            "64 block3b_bn False\n",
            "65 block3b_activation False\n",
            "66 block3b_se_squeeze False\n",
            "67 block3b_se_reshape False\n",
            "68 block3b_se_reduce False\n",
            "69 block3b_se_expand False\n",
            "70 block3b_se_excite False\n",
            "71 block3b_project_conv False\n",
            "72 block3b_project_bn False\n",
            "73 block3b_drop False\n",
            "74 block3b_add False\n",
            "75 block4a_expand_conv False\n",
            "76 block4a_expand_bn False\n",
            "77 block4a_expand_activation False\n",
            "78 block4a_dwconv_pad False\n",
            "79 block4a_dwconv False\n",
            "80 block4a_bn False\n",
            "81 block4a_activation False\n",
            "82 block4a_se_squeeze False\n",
            "83 block4a_se_reshape False\n",
            "84 block4a_se_reduce False\n",
            "85 block4a_se_expand False\n",
            "86 block4a_se_excite False\n",
            "87 block4a_project_conv False\n",
            "88 block4a_project_bn False\n",
            "89 block4b_expand_conv False\n",
            "90 block4b_expand_bn False\n",
            "91 block4b_expand_activation False\n",
            "92 block4b_dwconv False\n",
            "93 block4b_bn False\n",
            "94 block4b_activation False\n",
            "95 block4b_se_squeeze False\n",
            "96 block4b_se_reshape False\n",
            "97 block4b_se_reduce False\n",
            "98 block4b_se_expand False\n",
            "99 block4b_se_excite False\n",
            "100 block4b_project_conv False\n",
            "101 block4b_project_bn False\n",
            "102 block4b_drop False\n",
            "103 block4b_add False\n",
            "104 block4c_expand_conv False\n",
            "105 block4c_expand_bn False\n",
            "106 block4c_expand_activation False\n",
            "107 block4c_dwconv False\n",
            "108 block4c_bn False\n",
            "109 block4c_activation False\n",
            "110 block4c_se_squeeze False\n",
            "111 block4c_se_reshape False\n",
            "112 block4c_se_reduce False\n",
            "113 block4c_se_expand False\n",
            "114 block4c_se_excite False\n",
            "115 block4c_project_conv False\n",
            "116 block4c_project_bn False\n",
            "117 block4c_drop False\n",
            "118 block4c_add False\n",
            "119 block5a_expand_conv False\n",
            "120 block5a_expand_bn False\n",
            "121 block5a_expand_activation False\n",
            "122 block5a_dwconv False\n",
            "123 block5a_bn False\n",
            "124 block5a_activation False\n",
            "125 block5a_se_squeeze False\n",
            "126 block5a_se_reshape False\n",
            "127 block5a_se_reduce False\n",
            "128 block5a_se_expand False\n",
            "129 block5a_se_excite False\n",
            "130 block5a_project_conv False\n",
            "131 block5a_project_bn False\n",
            "132 block5b_expand_conv False\n",
            "133 block5b_expand_bn False\n",
            "134 block5b_expand_activation False\n",
            "135 block5b_dwconv False\n",
            "136 block5b_bn False\n",
            "137 block5b_activation False\n",
            "138 block5b_se_squeeze False\n",
            "139 block5b_se_reshape False\n",
            "140 block5b_se_reduce False\n",
            "141 block5b_se_expand False\n",
            "142 block5b_se_excite False\n",
            "143 block5b_project_conv False\n",
            "144 block5b_project_bn False\n",
            "145 block5b_drop False\n",
            "146 block5b_add False\n",
            "147 block5c_expand_conv False\n",
            "148 block5c_expand_bn False\n",
            "149 block5c_expand_activation False\n",
            "150 block5c_dwconv False\n",
            "151 block5c_bn False\n",
            "152 block5c_activation False\n",
            "153 block5c_se_squeeze False\n",
            "154 block5c_se_reshape False\n",
            "155 block5c_se_reduce False\n",
            "156 block5c_se_expand False\n",
            "157 block5c_se_excite False\n",
            "158 block5c_project_conv False\n",
            "159 block5c_project_bn False\n",
            "160 block5c_drop False\n",
            "161 block5c_add False\n",
            "162 block6a_expand_conv False\n",
            "163 block6a_expand_bn False\n",
            "164 block6a_expand_activation False\n",
            "165 block6a_dwconv_pad False\n",
            "166 block6a_dwconv False\n",
            "167 block6a_bn False\n",
            "168 block6a_activation False\n",
            "169 block6a_se_squeeze False\n",
            "170 block6a_se_reshape False\n",
            "171 block6a_se_reduce False\n",
            "172 block6a_se_expand False\n",
            "173 block6a_se_excite False\n",
            "174 block6a_project_conv False\n",
            "175 block6a_project_bn False\n",
            "176 block6b_expand_conv False\n",
            "177 block6b_expand_bn False\n",
            "178 block6b_expand_activation False\n",
            "179 block6b_dwconv False\n",
            "180 block6b_bn False\n",
            "181 block6b_activation False\n",
            "182 block6b_se_squeeze False\n",
            "183 block6b_se_reshape False\n",
            "184 block6b_se_reduce False\n",
            "185 block6b_se_expand False\n",
            "186 block6b_se_excite False\n",
            "187 block6b_project_conv False\n",
            "188 block6b_project_bn False\n",
            "189 block6b_drop False\n",
            "190 block6b_add False\n",
            "191 block6c_expand_conv False\n",
            "192 block6c_expand_bn False\n",
            "193 block6c_expand_activation False\n",
            "194 block6c_dwconv False\n",
            "195 block6c_bn False\n",
            "196 block6c_activation False\n",
            "197 block6c_se_squeeze False\n",
            "198 block6c_se_reshape False\n",
            "199 block6c_se_reduce False\n",
            "200 block6c_se_expand False\n",
            "201 block6c_se_excite False\n",
            "202 block6c_project_conv False\n",
            "203 block6c_project_bn False\n",
            "204 block6c_drop False\n",
            "205 block6c_add False\n",
            "206 block6d_expand_conv False\n",
            "207 block6d_expand_bn False\n",
            "208 block6d_expand_activation False\n",
            "209 block6d_dwconv False\n",
            "210 block6d_bn False\n",
            "211 block6d_activation False\n",
            "212 block6d_se_squeeze False\n",
            "213 block6d_se_reshape False\n",
            "214 block6d_se_reduce False\n",
            "215 block6d_se_expand False\n",
            "216 block6d_se_excite False\n",
            "217 block6d_project_conv False\n",
            "218 block6d_project_bn False\n",
            "219 block6d_drop False\n",
            "220 block6d_add False\n",
            "221 block7a_expand_conv False\n",
            "222 block7a_expand_bn False\n",
            "223 block7a_expand_activation False\n",
            "224 block7a_dwconv False\n",
            "225 block7a_bn False\n",
            "226 block7a_activation False\n",
            "227 block7a_se_squeeze True\n",
            "228 block7a_se_reshape True\n",
            "229 block7a_se_reduce True\n",
            "230 block7a_se_expand True\n",
            "231 block7a_se_excite True\n",
            "232 block7a_project_conv True\n",
            "233 block7a_project_bn True\n",
            "234 top_conv True\n",
            "235 top_bn True\n",
            "236 top_activation True\n"
          ]
        }
      ]
    },
    {
      "cell_type": "markdown",
      "source": [
        "Now we can see that all layers are kept frozen except for the last 10"
      ],
      "metadata": {
        "id": "YTrbivY7t12p"
      }
    },
    {
      "cell_type": "markdown",
      "source": [
        "## Fit model_2"
      ],
      "metadata": {
        "id": "0OadaxBYuBoi"
      }
    },
    {
      "cell_type": "code",
      "source": [
        "fine_tune_epochs = initial_epochs + 5\n",
        "\n",
        "history_2 = model_2.fit(\n",
        "    train_3_percent,\n",
        "    epochs = fine_tune_epochs,\n",
        "    steps_per_epoch=len(train_3_percent),\n",
        "    validation_data=test_20_percent,\n",
        "    validation_steps = int(.25 * len(test_20_percent)),\n",
        "    initial_epoch= history_1.epoch[-1]\n",
        ")\n",
        "\n"
      ],
      "metadata": {
        "colab": {
          "base_uri": "https://localhost:8080/"
        },
        "id": "092Pw2qMuHsf",
        "outputId": "a828dc6f-4f09-4d88-ac20-fdbc8c5c988c"
      },
      "execution_count": 18,
      "outputs": [
        {
          "output_type": "stream",
          "name": "stdout",
          "text": [
            "Epoch 5/10\n",
            "71/71 [==============================] - 21s 195ms/step - loss: 0.0817 - accuracy: 0.9738 - val_loss: 0.1446 - val_accuracy: 0.9444\n",
            "Epoch 6/10\n",
            "71/71 [==============================] - 12s 171ms/step - loss: 0.0499 - accuracy: 0.9840 - val_loss: 0.0849 - val_accuracy: 0.9698\n",
            "Epoch 7/10\n",
            "71/71 [==============================] - 12s 167ms/step - loss: 0.0420 - accuracy: 0.9858 - val_loss: 0.0762 - val_accuracy: 0.9733\n",
            "Epoch 8/10\n",
            "71/71 [==============================] - 12s 171ms/step - loss: 0.0435 - accuracy: 0.9831 - val_loss: 0.0985 - val_accuracy: 0.9623\n",
            "Epoch 9/10\n",
            "71/71 [==============================] - 12s 165ms/step - loss: 0.0370 - accuracy: 0.9876 - val_loss: 0.2569 - val_accuracy: 0.9054\n",
            "Epoch 10/10\n",
            "71/71 [==============================] - 12s 163ms/step - loss: 0.0510 - accuracy: 0.9796 - val_loss: 0.0977 - val_accuracy: 0.9629\n"
          ]
        }
      ]
    },
    {
      "cell_type": "code",
      "source": [
        "# Evaluate on the full test dataset\n",
        "model_2_results = model_2.evaluate(test_20_percent)\n",
        "model_2_results"
      ],
      "metadata": {
        "colab": {
          "base_uri": "https://localhost:8080/"
        },
        "id": "D8qLsK10v68D",
        "outputId": "7d5ba422-fd76-421d-f47c-8f8c1e28bbfe"
      },
      "execution_count": 19,
      "outputs": [
        {
          "output_type": "stream",
          "name": "stdout",
          "text": [
            "469/469 [==============================] - 24s 50ms/step - loss: 0.0971 - accuracy: 0.9637\n"
          ]
        },
        {
          "output_type": "execute_result",
          "data": {
            "text/plain": [
              "[0.09708777815103531, 0.9636666774749756]"
            ]
          },
          "metadata": {},
          "execution_count": 19
        }
      ]
    },
    {
      "cell_type": "markdown",
      "source": [
        "* Looks like our initial fine tuning model did get significant increase on validation data from `95%` to `97%`\n",
        "\n",
        "* Fine tuning works best on a larger set of data. Right now we only used 3% of training data so lets up it to 80% and see how it performs\n"
      ],
      "metadata": {
        "id": "07fd8auUwaQR"
      }
    },
    {
      "cell_type": "markdown",
      "source": [
        "### model_2 training on 80% of data\n",
        "\n"
      ],
      "metadata": {
        "id": "nYDvsqmqwwvy"
      }
    },
    {
      "cell_type": "code",
      "source": [
        "# reset model_2 to model_1 weights\n",
        "model_2.load_weights(checkpoint_path)\n",
        "\n",
        "# Recompile model\n",
        "model_2.compile(\n",
        "  loss='categorical_crossentropy',\n",
        "  # When fine tuning, you typically want to lower the learning rate by 10X\n",
        "  optimizer=tf.keras.optimizers.Adam(0.0001),\n",
        "  metrics=['accuracy']\n",
        ")\n",
        "\n"
      ],
      "metadata": {
        "id": "igkeDSimxbqi"
      },
      "execution_count": 20,
      "outputs": []
    },
    {
      "cell_type": "code",
      "source": [
        "# fit model_2 on 5%of data\n",
        "fine_tune_epochs = initial_epochs + 5\n",
        "\n",
        "history_3_80_percent = model_2.fit(\n",
        "    train_80_percent,\n",
        "    epochs = fine_tune_epochs,\n",
        "    steps_per_epoch=len(train_80_percent),\n",
        "    validation_data=test_20_percent,\n",
        "    validation_steps = int(.25 * len(test_20_percent)),\n",
        "    initial_epoch= history_1.epoch[-1]\n",
        ")\n",
        "\n"
      ],
      "metadata": {
        "colab": {
          "base_uri": "https://localhost:8080/"
        },
        "id": "nrO1oB1fxe2M",
        "outputId": "b6b44f17-6a20-4409-840b-3478907a75b9"
      },
      "execution_count": 21,
      "outputs": [
        {
          "output_type": "stream",
          "name": "stdout",
          "text": [
            "Epoch 5/10\n",
            "188/188 [==============================] - 28s 117ms/step - loss: 0.0608 - accuracy: 0.9802 - val_loss: 0.1681 - val_accuracy: 0.9386\n",
            "Epoch 6/10\n",
            "188/188 [==============================] - 21s 111ms/step - loss: 0.0549 - accuracy: 0.9832 - val_loss: 0.1738 - val_accuracy: 0.9351\n",
            "Epoch 7/10\n",
            "188/188 [==============================] - 21s 108ms/step - loss: 0.0409 - accuracy: 0.9882 - val_loss: 0.1030 - val_accuracy: 0.9613\n",
            "Epoch 8/10\n",
            "188/188 [==============================] - 21s 109ms/step - loss: 0.0335 - accuracy: 0.9885 - val_loss: 0.1020 - val_accuracy: 0.9613\n",
            "Epoch 9/10\n",
            "188/188 [==============================] - 20s 104ms/step - loss: 0.0337 - accuracy: 0.9887 - val_loss: 0.0793 - val_accuracy: 0.9701\n",
            "Epoch 10/10\n",
            "188/188 [==============================] - 19s 103ms/step - loss: 0.0285 - accuracy: 0.9908 - val_loss: 0.0765 - val_accuracy: 0.9712\n"
          ]
        }
      ]
    },
    {
      "cell_type": "code",
      "source": [
        "def compare_histories(original_history, new_history, initial_epochs=5):\n",
        "  \"\"\"\n",
        "  Compares two TensorFlow History Objects\n",
        "  \"\"\"\n",
        "\n",
        "  # Get original history measurements\n",
        "  acc = original_history.history['accuracy']\n",
        "  loss = original_history.history['loss']\n",
        "  \n",
        "  val_acc = original_history.history['val_accuracy']\n",
        "  val_loss = original_history.history['val_loss']\n",
        "\n",
        "  # Combine original history metrics with new history metrics\n",
        "  total_acc = acc + new_history.history['accuracy']\n",
        "  total_loss = loss + new_history.history['loss']\n",
        "  \n",
        "  total_val_acc = val_acc + new_history.history['val_accuracy'] \n",
        "  total_val_loss = val_loss + new_history.history['val_loss']\n",
        "\n",
        "  # Make plot for accuracy\n",
        "  plt.figure(figsize=(8,8))\n",
        "\n",
        "  plt.subplot(2, 1, 1)\n",
        "  plt.plot(total_acc, label='Trainig Acc')\n",
        "  plt.plot(total_val_acc, label='Validation Accuracy')\n",
        "  plt.plot([initial_epochs-1, initial_epochs-1], plt.ylim(), label='Start Fine Tuning')\n",
        "  plt.legend(loc='lower right')\n",
        "  plt.title('Training and validation accuracy')\n",
        "\n",
        "  # Make plot for loss\n",
        "  plt.figure(figsize=(8,8))\n",
        "\n",
        "  plt.subplot(2, 1, 2)\n",
        "  plt.plot(total_loss, label='Trainig Loss')\n",
        "  plt.plot(total_val_loss, label='Validation loss')\n",
        "  plt.plot([initial_epochs-1, initial_epochs-1], plt.ylim(), label='Start Fine Tuning')\n",
        "  plt.legend(loc='upper right')\n",
        "  plt.title('Training and validation loss')"
      ],
      "metadata": {
        "id": "gYBIsXKCy0nV"
      },
      "execution_count": 22,
      "outputs": []
    },
    {
      "cell_type": "code",
      "source": [
        "compare_histories(history_1, history_3_80_percent)"
      ],
      "metadata": {
        "colab": {
          "base_uri": "https://localhost:8080/",
          "height": 507
        },
        "id": "XOi6KpCz30Yq",
        "outputId": "47d10e0d-280c-49fe-a380-0d1cd3f2ac2f"
      },
      "execution_count": 23,
      "outputs": [
        {
          "output_type": "display_data",
          "data": {
            "text/plain": [
              "<Figure size 576x576 with 1 Axes>"
            ],
            "image/png": "[encoded data removed]"
          },
          "metadata": {
            "needs_background": "light"
          }
        },
        {
          "output_type": "display_data",
          "data": {
            "text/plain": [
              "<Figure size 576x576 with 1 Axes>"
            ],
            "image/png": "[encoded data removed]"
          },
          "metadata": {
            "needs_background": "light"
          }
        }
      ]
    },
    {
      "cell_type": "code",
      "source": [
        "history_3_results_80_percent = model_2.evaluate(test_20_percent)\n",
        "history_3_results_80_percent"
      ],
      "metadata": {
        "colab": {
          "base_uri": "https://localhost:8080/"
        },
        "id": "Wxy9BA0d4Fdc",
        "outputId": "5af7fa3c-4a70-4e24-a662-bb4fb5028910"
      },
      "execution_count": 24,
      "outputs": [
        {
          "output_type": "stream",
          "name": "stdout",
          "text": [
            "469/469 [==============================] - 24s 50ms/step - loss: 0.0759 - accuracy: 0.9717\n"
          ]
        },
        {
          "output_type": "execute_result",
          "data": {
            "text/plain": [
              "[0.07592121511697769, 0.971666693687439]"
            ]
          },
          "metadata": {},
          "execution_count": 24
        }
      ]
    },
    {
      "cell_type": "code",
      "source": [
        "# Compare results\n",
        "history_3_results_80_percent[1], model_2_results[1],  model_1_results[1]"
      ],
      "metadata": {
        "id": "aNey_nqa4Thj",
        "colab": {
          "base_uri": "https://localhost:8080/"
        },
        "outputId": "6dafb665-16ea-4310-a66f-8975cc23237c"
      },
      "execution_count": 25,
      "outputs": [
        {
          "output_type": "execute_result",
          "data": {
            "text/plain": [
              "(0.971666693687439, 0.9636666774749756, 0.9539333581924438)"
            ]
          },
          "metadata": {},
          "execution_count": 25
        }
      ]
    },
    {
      "cell_type": "markdown",
      "source": [
        " Model 3 was the best model with 97% accuracy"
      ],
      "metadata": {
        "id": "2Yt6Y9Rq5VLw"
      }
    },
    {
      "cell_type": "code",
      "source": [
        ""
      ],
      "metadata": {
        "id": "PEcDI4ZLNztM"
      },
      "execution_count": null,
      "outputs": []
    }
  ]
}