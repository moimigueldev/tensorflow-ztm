{
  "nbformat": 4,
  "nbformat_minor": 0,
  "metadata": {
    "colab": {
      "name": "rice-classification",
      "provenance": [],
      "collapsed_sections": [],
      "authorship_tag": "ABX9TyO1LbHEKY/AqC2uae6mC0Hd",
      "include_colab_link": true
    },
    "kernelspec": {
      "name": "python3",
      "display_name": "Python 3"
    },
    "language_info": {
      "name": "python"
    },
    "accelerator": "GPU"
  },
  "cells": [
    {
      "cell_type": "markdown",
      "metadata": {
        "id": "view-in-github",
        "colab_type": "text"
      },
      "source": [
        "<a href=\"https://colab.research.google.com/github/moimigueldev/tensorflow-ztm/blob/main/rice-classification/rice_classification.ipynb\" target=\"_parent\"><img src=\"https://colab.research.google.com/assets/colab-badge.svg\" alt=\"Open In Colab\"/></a>"
      ]
    },
    {
      "cell_type": "markdown",
      "source": [
        "# Classify 5 types of rice\n",
        "\n",
        "[Kaggle Dataset](https://www.kaggle.com/datasets/muratkokludataset/rice-image-dataset)"
      ],
      "metadata": {
        "id": "cBwzwyY097dq"
      }
    },
    {
      "cell_type": "markdown",
      "source": [
        "# import data and helpers"
      ],
      "metadata": {
        "id": "3gRZurZH-zFL"
      }
    },
    {
      "cell_type": "code",
      "source": [
        "# Download Helper File & Rice Data\n",
        "!wget https://raw.githubusercontent.com/mrdbourke/tensorflow-deep-learning/main/extras/helper_functions.py\n",
        "!wget https://www.dropbox.com/s/sd69bn3a5iq70wk/rice-images.zip?dl=0"
      ],
      "metadata": {
        "colab": {
          "base_uri": "https://localhost:8080/"
        },
        "id": "7lAf_6HFSy_h",
        "outputId": "f631e5c9-9f44-408a-b323-39e5663c0631"
      },
      "execution_count": 1,
      "outputs": [
        {
          "output_type": "stream",
          "name": "stdout",
          "text": [
            "--2022-06-04 11:58:49--  https://raw.githubusercontent.com/mrdbourke/tensorflow-deep-learning/main/extras/helper_functions.py\n",
            "Resolving raw.githubusercontent.com (raw.githubusercontent.com)... 185.199.108.133, 185.199.109.133, 185.199.110.133, ...\n",
            "Connecting to raw.githubusercontent.com (raw.githubusercontent.com)|185.199.108.133|:443... connected.\n",
            "HTTP request sent, awaiting response... 200 OK\n",
            "Length: 10246 (10K) [text/plain]\n",
            "Saving to: ‘helper_functions.py.1’\n",
            "\n",
            "\rhelper_functions.py   0%[                    ]       0  --.-KB/s               \rhelper_functions.py 100%[===================>]  10.01K  --.-KB/s    in 0s      \n",
            "\n",
            "2022-06-04 11:58:49 (79.2 MB/s) - ‘helper_functions.py.1’ saved [10246/10246]\n",
            "\n",
            "--2022-06-04 11:58:50--  https://www.dropbox.com/s/sd69bn3a5iq70wk/rice-images.zip?dl=0\n",
            "Resolving www.dropbox.com (www.dropbox.com)... 162.125.65.18, 2620:100:6018:18::a27d:312\n",
            "Connecting to www.dropbox.com (www.dropbox.com)|162.125.65.18|:443... connected.\n",
            "HTTP request sent, awaiting response... 301 Moved Permanently\n",
            "Location: /s/raw/sd69bn3a5iq70wk/rice-images.zip [following]\n",
            "--2022-06-04 11:58:50--  https://www.dropbox.com/s/raw/sd69bn3a5iq70wk/rice-images.zip\n",
            "Reusing existing connection to www.dropbox.com:443.\n",
            "HTTP request sent, awaiting response... 302 Found\n",
            "Location: https://uc5fc6621a9c2e0b43dd2f9d8444.dl.dropboxusercontent.com/cd/0/inline/BmiOxEiIiXto3qqSUNVJ4wUPELMFj57GenCNuq7C32UXsHQUCELVbjUd3tX7R0bVgw09rkzLucsADTT29K6aiRWQfnRR6wa6OtbvdTvQTvWHpw5OLzVcz5PRF_DyG-V-lL4r-f4E2KWhzD2WpOSt8yEuxrPvudMcsVRIosxpXEqumw/file# [following]\n",
            "--2022-06-04 11:58:50--  https://uc5fc6621a9c2e0b43dd2f9d8444.dl.dropboxusercontent.com/cd/0/inline/BmiOxEiIiXto3qqSUNVJ4wUPELMFj57GenCNuq7C32UXsHQUCELVbjUd3tX7R0bVgw09rkzLucsADTT29K6aiRWQfnRR6wa6OtbvdTvQTvWHpw5OLzVcz5PRF_DyG-V-lL4r-f4E2KWhzD2WpOSt8yEuxrPvudMcsVRIosxpXEqumw/file\n",
            "Resolving uc5fc6621a9c2e0b43dd2f9d8444.dl.dropboxusercontent.com (uc5fc6621a9c2e0b43dd2f9d8444.dl.dropboxusercontent.com)... 162.125.66.15, 2620:100:6021:15::a27d:410f\n",
            "Connecting to uc5fc6621a9c2e0b43dd2f9d8444.dl.dropboxusercontent.com (uc5fc6621a9c2e0b43dd2f9d8444.dl.dropboxusercontent.com)|162.125.66.15|:443... connected.\n",
            "HTTP request sent, awaiting response... 302 Found\n",
            "Location: /cd/0/inline2/BmgjIqp9TwTvzg43HD8GMCdD0t6jE-imtj03b41Q80WgqS5HfarZzbTwQ2fkfiQfYEl0IOmYbdSyiWlJx_jhCUmFVs9MsLoGerhdoKq-HEi_TcBwWePAM8_Gr2kBMGH-SvgVIaiB9trD26T953ShKYkL2vi6Th-2IAwGX31-O7Kf1Az2a8U6A-jC3BuFS_EKTxzWcz8sz3K8ezT1QGN9q4IYEG4xMLUY910GIEfkFJgGiXTECpEyZxjehYktBVKEl3osv8wf-jdllYJYc541p8meNJJ7YGBSznFqzUuECSreBa5dgGsHqYoasylZ-hWkpvi7SazAen5HDSt_V2KRwrPmtkeHQYSQ8e8EeBZle6oikyOqQy20uFCHYfwACLP73yQLSQwdVrjTt__GT8Mys0-Xbw0uuBiKjNGEE87T-BUHaQ/file [following]\n",
            "--2022-06-04 11:58:50--  https://uc5fc6621a9c2e0b43dd2f9d8444.dl.dropboxusercontent.com/cd/0/inline2/BmgjIqp9TwTvzg43HD8GMCdD0t6jE-imtj03b41Q80WgqS5HfarZzbTwQ2fkfiQfYEl0IOmYbdSyiWlJx_jhCUmFVs9MsLoGerhdoKq-HEi_TcBwWePAM8_Gr2kBMGH-SvgVIaiB9trD26T953ShKYkL2vi6Th-2IAwGX31-O7Kf1Az2a8U6A-jC3BuFS_EKTxzWcz8sz3K8ezT1QGN9q4IYEG4xMLUY910GIEfkFJgGiXTECpEyZxjehYktBVKEl3osv8wf-jdllYJYc541p8meNJJ7YGBSznFqzUuECSreBa5dgGsHqYoasylZ-hWkpvi7SazAen5HDSt_V2KRwrPmtkeHQYSQ8e8EeBZle6oikyOqQy20uFCHYfwACLP73yQLSQwdVrjTt__GT8Mys0-Xbw0uuBiKjNGEE87T-BUHaQ/file\n",
            "Reusing existing connection to uc5fc6621a9c2e0b43dd2f9d8444.dl.dropboxusercontent.com:443.\n",
            "HTTP request sent, awaiting response... 200 OK\n",
            "Length: 93543628 (89M) [application/zip]\n",
            "Saving to: ‘rice-images.zip?dl=0’\n",
            "\n",
            "rice-images.zip?dl= 100%[===================>]  89.21M  19.5MB/s    in 4.8s    \n",
            "\n",
            "2022-06-04 11:58:56 (18.6 MB/s) - ‘rice-images.zip?dl=0’ saved [93543628/93543628]\n",
            "\n"
          ]
        }
      ]
    },
    {
      "cell_type": "code",
      "source": [
        "# Imports\n",
        "from helper_functions import create_tensorboard_callback, plot_loss_curves, unzip_data, walk_through_dir\n",
        "import tensorflow as tf\n",
        "from tensorflow.keras.preprocessing import image_dataset_from_directory"
      ],
      "metadata": {
        "id": "7y1FuAPc-3mO"
      },
      "execution_count": 2,
      "outputs": []
    },
    {
      "cell_type": "code",
      "source": [
        "# unzip rice-data\n",
        "# I preprocessed the data by splitting them into testing and training \n",
        "#   directories each at a different percentage to help train faster.\n",
        "unzip_data('rice-images.zip?dl=0')"
      ],
      "metadata": {
        "id": "lzDW-3XemNwR"
      },
      "execution_count": 3,
      "outputs": []
    },
    {
      "cell_type": "code",
      "source": [
        "# training data at 3%\n",
        "walk_through_dir('train_3')"
      ],
      "metadata": {
        "colab": {
          "base_uri": "https://localhost:8080/"
        },
        "id": "pj8CjSNGmT1C",
        "outputId": "ef93bd9d-2572-4ad1-a66e-345d29c7f2d2"
      },
      "execution_count": 4,
      "outputs": [
        {
          "output_type": "stream",
          "name": "stdout",
          "text": [
            "There are 5 directories and 1 images in 'train_3'.\n",
            "There are 0 directories and 450 images in 'train_3/Basmati'.\n",
            "There are 0 directories and 450 images in 'train_3/Karacadag'.\n",
            "There are 0 directories and 450 images in 'train_3/Jasmine'.\n",
            "There are 0 directories and 450 images in 'train_3/Arborio'.\n",
            "There are 0 directories and 450 images in 'train_3/Ipsala'.\n"
          ]
        }
      ]
    },
    {
      "cell_type": "markdown",
      "source": [
        "# Data Preprocessing"
      ],
      "metadata": {
        "id": "V1sFgozj1hwB"
      }
    },
    {
      "cell_type": "code",
      "source": [
        "IMG_SHAPE = (224, 224)\n",
        "BATCH_SIZE = 32\n",
        "RANDOM_STATE = 42\n",
        "LABEL_NAMES = ['Arborio', 'Basmati', 'Ipsala', 'Jasmine', 'Karacadag']"
      ],
      "metadata": {
        "id": "Wg-pDusiV4SI"
      },
      "execution_count": 5,
      "outputs": []
    },
    {
      "cell_type": "code",
      "source": [
        "train_3_percent = tf.keras.preprocessing.image_dataset_from_directory(\n",
        "    'train_3',\n",
        "    label_mode='categorical',\n",
        "    image_size= IMG_SHAPE,\n",
        "    batch_size= BATCH_SIZE\n",
        ")\n",
        "\n",
        "train_5_percent = tf.keras.preprocessing.image_dataset_from_directory(\n",
        "    'train_5',\n",
        "    label_mode='categorical',\n",
        "    image_size= IMG_SHAPE,\n",
        "    batch_size= BATCH_SIZE\n",
        ")\n",
        "\n",
        "train_80_percent = tf.keras.preprocessing.image_dataset_from_directory(\n",
        "    'train_80',\n",
        "    label_mode='categorical',\n",
        "    image_size= IMG_SHAPE,\n",
        "    batch_size= BATCH_SIZE\n",
        ")\n",
        "\n",
        "test_20_percent = tf.keras.preprocessing.image_dataset_from_directory(\n",
        "    'test_20',\n",
        "    label_mode='categorical',\n",
        "    image_size= IMG_SHAPE,\n",
        "    batch_size= BATCH_SIZE\n",
        ")\n",
        "\n",
        "\n"
      ],
      "metadata": {
        "colab": {
          "base_uri": "https://localhost:8080/"
        },
        "id": "AePB8niCWP8f",
        "outputId": "477b08b9-ae64-4188-e4e9-541c7c3b3c08"
      },
      "execution_count": 6,
      "outputs": [
        {
          "output_type": "stream",
          "name": "stdout",
          "text": [
            "Found 2250 files belonging to 5 classes.\n",
            "Found 3750 files belonging to 5 classes.\n",
            "Found 6000 files belonging to 5 classes.\n",
            "Found 15000 files belonging to 5 classes.\n"
          ]
        }
      ]
    },
    {
      "cell_type": "markdown",
      "source": [
        "## Create data augmentation layer "
      ],
      "metadata": {
        "id": "344jIYM0XjE-"
      }
    },
    {
      "cell_type": "code",
      "source": [
        "data_aug_dial = 0.2\n",
        "data_augmentation = tf.keras.Sequential([\n",
        "  tf.keras.layers.RandomFlip(\"horizontal_and_vertical\"),\n",
        "  tf.keras.layers.RandomRotation(data_aug_dial),\n",
        "  tf.keras.layers.RandomZoom(data_aug_dial),\n",
        "  tf.keras.layers.RandomWidth(data_aug_dial),\n",
        "  tf.keras.layers.RandomHeight(data_aug_dial),\n",
        "], name = 'data_augmetation_layer')"
      ],
      "metadata": {
        "id": "ArXd0T9rYAyK"
      },
      "execution_count": 7,
      "outputs": []
    },
    {
      "cell_type": "markdown",
      "source": [
        "# Visualize Data"
      ],
      "metadata": {
        "id": "eV0gxvWkYJmo"
      }
    },
    {
      "cell_type": "code",
      "source": [
        "import matplotlib.pyplot as plt\n",
        "import matplotlib.image as mpimg\n",
        "import os \n",
        "import random\n",
        "\n",
        "# function to view randoms samples \n",
        "def show_random_image():\n",
        "\n",
        "  random_class = random.choice(LABEL_NAMES)\n",
        "  target_dir = f'train_80/{random_class}'\n",
        "  random_image = random.choice(os.listdir(target_dir))\n",
        "  image_path = f'{target_dir}/{random_image}'\n",
        "  image = mpimg.imread(image_path)\n",
        "\n",
        "  plt.figure(figsize=(10, 15))\n",
        "\n",
        "  # Regular Image\n",
        "  plt.subplot(1, 2, 1)\n",
        "  plt.title(f'Regular Image (type: {random_class})')\n",
        "  plt.axis(False)\n",
        "  plt.imshow(image)\n",
        "\n",
        "  # Augmented Image\n",
        "  augmented_image = data_augmentation(tf.expand_dims(image, axis=0), training=True)\n",
        "  plt.subplot(1, 2, 2)\n",
        "  plt.title(f'Augmented Image')\n",
        "  plt.axis(False)\n",
        "  plt.imshow(tf.squeeze(augmented_image/255.))\n",
        "  return image_path\n"
      ],
      "metadata": {
        "id": "qIbbKotVaDpP"
      },
      "execution_count": 8,
      "outputs": []
    },
    {
      "cell_type": "code",
      "source": [
        "image = show_random_image()"
      ],
      "metadata": {
        "colab": {
          "base_uri": "https://localhost:8080/",
          "height": 301
        },
        "id": "Dp2GL7WLapIu",
        "outputId": "cad8ef66-5416-4b88-bca0-f3cf0f54593b"
      },
      "execution_count": 9,
      "outputs": [
        {
          "output_type": "display_data",
          "data": {
            "text/plain": [
              "<Figure size 720x1080 with 2 Axes>"
            ],
            "image/png": "[encoded data removed]"
          },
          "metadata": {
            "needs_background": "light"
          }
        }
      ]
    },
    {
      "cell_type": "code",
      "source": [
        "#Set checkpoint path\n",
        "checkpoint_path = 'model_1_checkpoint_weights/checkpoint.ckpt'\n",
        "\n",
        "# Create a ModelCheckPoint callback that saves the model's weights only \n",
        "checkpoint_callback = tf.keras.callbacks.ModelCheckpoint(\n",
        "  filepath=checkpoint_path,\n",
        "  save_weights=True,\n",
        "  save_best_only=False,\n",
        "  save_freq='epoch', # save every epoch\n",
        "  verbose=1\n",
        ")"
      ],
      "metadata": {
        "id": "vCM1exGGk4db"
      },
      "execution_count": 10,
      "outputs": []
    },
    {
      "cell_type": "markdown",
      "source": [
        "# Model Creation\n",
        "\n",
        "* The first model will be the base model using transfer learning.  \n",
        "\n",
        "* Once the feature extraction base model is created, we can use unfreeze some  layers to fine tune.\n",
        "\n",
        "* We start using small incremented of data (3%) and will increase daeta as the model becomes complex.\n",
        "\n",
        "* We'll use EfficientNetB0 for now and might use different model based off results"
      ],
      "metadata": {
        "id": "nccEcLIndwH4"
      }
    },
    {
      "cell_type": "code",
      "source": [
        "# Model_1 (Feature Extraction)\n",
        "\n",
        "input_shape = IMG_SHAPE + (3,)\n",
        "\n",
        "base_model = tf.keras.applications.EfficientNetB0(include_top=False)\n",
        "\n",
        "base_model.trainable = False\n",
        "\n",
        "inputs = tf.keras.layers.Input(shape= input_shape, name='input_layer')\n",
        "\n",
        "x = data_augmentation(inputs)\n",
        "\n",
        "x = base_model(x, training=False)\n",
        "\n",
        "# Feature extractions\n",
        "x = tf.keras.layers.GlobalAveragePooling2D(name='global_average_pooling_layer')(x)\n",
        "\n",
        "outputs = tf.keras.layers.Dense(5, activation='softmax', name='output_layer')(x)\n",
        "\n",
        "model_1 = tf.keras.Model(inputs, outputs)\n",
        "\n",
        "\n",
        "model_1.compile(loss='categorical_crossentropy', optimizer=tf.keras.optimizers.Adam(), metrics=['accuracy'])\n",
        "\n",
        "initial_epochs = 5\n",
        "history_1 = model_1.fit(\n",
        "    train_3_percent,\n",
        "    epochs=initial_epochs, \n",
        "    steps_per_epoch=len(train_3_percent),\n",
        "    validation_data=test_20_percent,\n",
        "    validation_steps=int(.25*len(test_20_percent)),\n",
        "    callbacks=[checkpoint_callback]\n",
        ")"
      ],
      "metadata": {
        "colab": {
          "base_uri": "https://localhost:8080/"
        },
        "id": "hYEr6ISDeuqV",
        "outputId": "8fb1a6b3-46dd-49b0-c3dc-528c20816744"
      },
      "execution_count": null,
      "outputs": [
        {
          "output_type": "stream",
          "name": "stdout",
          "text": [
            "Downloading data from https://storage.googleapis.com/keras-applications/efficientnetb0_notop.h5\n",
            "16711680/16705208 [==============================] - 0s 0us/step\n",
            "16719872/16705208 [==============================] - 0s 0us/step\n",
            "Epoch 1/5\n",
            "71/71 [==============================] - ETA: 0s - loss: 0.5996 - accuracy: 0.8689\n",
            "Epoch 1: saving model to model_1_checkpoint_weights/checkpoint.ckpt\n",
            "INFO:tensorflow:Assets written to: model_1_checkpoint_weights/checkpoint.ckpt/assets\n",
            "71/71 [==============================] - 66s 736ms/step - loss: 0.5996 - accuracy: 0.8689 - val_loss: 0.2867 - val_accuracy: 0.9485\n",
            "Epoch 2/5\n",
            " 1/71 [..............................] - ETA: 28s - loss: 0.1818 - accuracy: 1.0000"
          ]
        }
      ]
    },
    {
      "cell_type": "code",
      "source": [
        "plot_loss_curves(history_1)\n"
      ],
      "metadata": {
        "id": "ETnQJGFhgQY9"
      },
      "execution_count": null,
      "outputs": []
    },
    {
      "cell_type": "code",
      "source": [
        "# Evaluate and save full testing set\n",
        "model_1_results = model_1.evaluate(test_20_percent)"
      ],
      "metadata": {
        "id": "bSjkbwtZjAUt"
      },
      "execution_count": null,
      "outputs": []
    },
    {
      "cell_type": "markdown",
      "source": [
        "* Model_1 right off the bat has a high accuracy score without any fine tuning on only 3 percent of the dataset. On the full validation (3000 samples) the model was able to retain it's high accuracy percentage of 97%\n",
        "\n",
        "* The loss & accuracy score show the model could have had better results if we traned it for more epochs\n",
        "\n",
        "Let's try some fine tuning"
      ],
      "metadata": {
        "id": "MpbReYCRjJ4g"
      }
    },
    {
      "cell_type": "markdown",
      "source": [
        "## Create model_2 off of checkpointed model_1 for fine tuning"
      ],
      "metadata": {
        "id": "GzaV5j2lj4k9"
      }
    },
    {
      "cell_type": "code",
      "source": [
        "model_2 = tf.keras.Model(inputs, outputs)\n",
        "model_2.load_weights(checkpoint_path)\n",
        "model_2.compile(loss='categorical_crossentropy', optimizer=tf.keras.optimizers.Adam(), metrics=['accuracy'])\n",
        "\n",
        "\n"
      ],
      "metadata": {
        "id": "ifONHSfOmuLG"
      },
      "execution_count": null,
      "outputs": []
    },
    {
      "cell_type": "markdown",
      "source": [
        "## Unfreeze layers (10)\n",
        "\n",
        "* before fittin our model we have to unfreze some of the bottom layers to be able to train them on our custom data \n",
        "\n",
        "* We will unfreeze the last 10\n",
        "\n",
        "* When fine tuning, we'll change the learning rate to a much lower value since we don't want to change the base weights too much."
      ],
      "metadata": {
        "id": "aBKsXKcksjbn"
      }
    },
    {
      "cell_type": "code",
      "source": [
        "# Right now there are no trainable variables\n",
        "model_2.layers[2].trainable_variables"
      ],
      "metadata": {
        "id": "vNYLFN9cszzY"
      },
      "execution_count": null,
      "outputs": []
    },
    {
      "cell_type": "code",
      "source": [
        "# Unfreeze layers\n",
        "\n",
        "base_model.trainable = True\n",
        "\n",
        "# Freeze all layers except fo the last 10\n",
        "for layer in base_model.layers[:-10]:\n",
        "  layer.trainable = False\n",
        "\n",
        "# Recompile model\n",
        "model_2.compile(\n",
        "  loss='categorical_crossentropy',\n",
        "  # When fine tuning, you typically want to lower the learning rate by 10X\n",
        "  optimizer=tf.keras.optimizers.Adam(0.0001),\n",
        "  metrics=['accuracy']\n",
        ")\n"
      ],
      "metadata": {
        "id": "BDAHr0Zvs6iG"
      },
      "execution_count": null,
      "outputs": []
    },
    {
      "cell_type": "code",
      "source": [
        "# Check which layers are trainable\n",
        "for layer_number, layer in enumerate(model_2.layers[2].layers):\n",
        "  print(layer_number, layer.name, layer.trainable)"
      ],
      "metadata": {
        "id": "fjsc-R4rt0GR"
      },
      "execution_count": null,
      "outputs": []
    },
    {
      "cell_type": "markdown",
      "source": [
        "Now we can see that all layers are kept frozen except for the last 10"
      ],
      "metadata": {
        "id": "YTrbivY7t12p"
      }
    },
    {
      "cell_type": "markdown",
      "source": [
        "## Fit model_2"
      ],
      "metadata": {
        "id": "0OadaxBYuBoi"
      }
    },
    {
      "cell_type": "code",
      "source": [
        "fine_tune_epochs = initial_epochs + 5\n",
        "\n",
        "history_2 = model_2.fit(\n",
        "    train_3_percent,\n",
        "    epochs = fine_tune_epochs,\n",
        "    steps_per_epoch=len(train_3_percent),\n",
        "    validation_data=test_20_percent,\n",
        "    validation_steps = int(.25 * len(test_20_percent)),\n",
        "    initial_epoch= history_1.epoch[-1]\n",
        ")\n",
        "\n"
      ],
      "metadata": {
        "id": "092Pw2qMuHsf"
      },
      "execution_count": null,
      "outputs": []
    },
    {
      "cell_type": "code",
      "source": [
        "# Evaluate on the full test dataset\n",
        "model_2_results = model_2.evaluate(test_20_percent)\n",
        "model_2_results"
      ],
      "metadata": {
        "id": "D8qLsK10v68D"
      },
      "execution_count": null,
      "outputs": []
    },
    {
      "cell_type": "markdown",
      "source": [
        "* Looks like our initial fine tuning model did get significant increase on validation data from `95%` to `97%`\n",
        "\n",
        "* Fine tuning works best on a larger set of data. Right now we only used 3% of training data so lets up it to 80% and see how it performs\n"
      ],
      "metadata": {
        "id": "07fd8auUwaQR"
      }
    },
    {
      "cell_type": "markdown",
      "source": [
        "### model_2 training on 80% of data\n",
        "\n"
      ],
      "metadata": {
        "id": "nYDvsqmqwwvy"
      }
    },
    {
      "cell_type": "code",
      "source": [
        "# reset model_2 to model_1 weights\n",
        "model_2.load_weights(checkpoint_path)\n",
        "\n",
        "# Recompile model\n",
        "model_2.compile(\n",
        "  loss='categorical_crossentropy',\n",
        "  # When fine tuning, you typically want to lower the learning rate by 10X\n",
        "  optimizer=tf.keras.optimizers.Adam(0.0001),\n",
        "  metrics=['accuracy']\n",
        ")\n",
        "\n"
      ],
      "metadata": {
        "id": "igkeDSimxbqi"
      },
      "execution_count": null,
      "outputs": []
    },
    {
      "cell_type": "code",
      "source": [
        "# fit model_2 on 5%of data\n",
        "fine_tune_epochs = initial_epochs + 5\n",
        "\n",
        "history_3_80_percent = model_2.fit(\n",
        "    train_80_percent,\n",
        "    epochs = fine_tune_epochs,\n",
        "    steps_per_epoch=len(train_80_percent),\n",
        "    validation_data=test_20_percent,\n",
        "    validation_steps = int(.25 * len(test_20_percent)),\n",
        "    initial_epoch= history_1.epoch[-1]\n",
        ")\n",
        "\n"
      ],
      "metadata": {
        "id": "nrO1oB1fxe2M"
      },
      "execution_count": null,
      "outputs": []
    },
    {
      "cell_type": "code",
      "source": [
        "def compare_histories(original_history, new_history, initial_epochs=5):\n",
        "  \"\"\"\n",
        "  Compares two TensorFlow History Objects\n",
        "  \"\"\"\n",
        "\n",
        "  # Get original history measurements\n",
        "  acc = original_history.history['accuracy']\n",
        "  loss = original_history.history['loss']\n",
        "  \n",
        "  val_acc = original_history.history['val_accuracy']\n",
        "  val_loss = original_history.history['val_loss']\n",
        "\n",
        "  # Combine original history metrics with new history metrics\n",
        "  total_acc = acc + new_history.history['accuracy']\n",
        "  total_loss = loss + new_history.history['loss']\n",
        "  \n",
        "  total_val_acc = val_acc + new_history.history['val_accuracy'] \n",
        "  total_val_loss = val_loss + new_history.history['val_loss']\n",
        "\n",
        "  # Make plot for accuracy\n",
        "  plt.figure(figsize=(8,8))\n",
        "\n",
        "  plt.subplot(2, 1, 1)\n",
        "  plt.plot(total_acc, label='Trainig Acc')\n",
        "  plt.plot(total_val_acc, label='Validation Accuracy')\n",
        "  plt.plot([initial_epochs-1, initial_epochs-1], plt.ylim(), label='Start Fine Tuning')\n",
        "  plt.legend(loc='lower right')\n",
        "  plt.title('Training and validation accuracy')\n",
        "\n",
        "  # Make plot for loss\n",
        "  plt.figure(figsize=(8,8))\n",
        "\n",
        "  plt.subplot(2, 1, 2)\n",
        "  plt.plot(total_loss, label='Trainig Loss')\n",
        "  plt.plot(total_val_loss, label='Validation loss')\n",
        "  plt.plot([initial_epochs-1, initial_epochs-1], plt.ylim(), label='Start Fine Tuning')\n",
        "  plt.legend(loc='upper right')\n",
        "  plt.title('Training and validation loss')"
      ],
      "metadata": {
        "id": "gYBIsXKCy0nV"
      },
      "execution_count": null,
      "outputs": []
    },
    {
      "cell_type": "code",
      "source": [
        "compare_histories(history_1, history_3_80_percent)"
      ],
      "metadata": {
        "id": "XOi6KpCz30Yq"
      },
      "execution_count": null,
      "outputs": []
    },
    {
      "cell_type": "code",
      "source": [
        "history_3_results_80_percent = model_2.evaluate(test_20_percent)\n",
        "history_3_results_80_percent"
      ],
      "metadata": {
        "id": "Wxy9BA0d4Fdc"
      },
      "execution_count": null,
      "outputs": []
    },
    {
      "cell_type": "code",
      "source": [
        "# Compare results\n",
        "history_3_results_80_percent[1], model_2_results[1],  model_1_results[1]"
      ],
      "metadata": {
        "id": "aNey_nqa4Thj"
      },
      "execution_count": null,
      "outputs": []
    },
    {
      "cell_type": "markdown",
      "source": [
        " Model 3 was the best model with 97% accuracy"
      ],
      "metadata": {
        "id": "2Yt6Y9Rq5VLw"
      }
    },
    {
      "cell_type": "code",
      "source": [
        ""
      ],
      "metadata": {
        "id": "PEcDI4ZLNztM"
      },
      "execution_count": null,
      "outputs": []
    }
  ]
}