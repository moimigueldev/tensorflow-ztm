{
  "nbformat": 4,
  "nbformat_minor": 0,
  "metadata": {
    "colab": {
      "name": "01_neural_network_regression_with_tensorflow.ipynb",
      "provenance": [],
      "collapsed_sections": [],
      "authorship_tag": "ABX9TyMYICla81/eQfi0aqKEKKPM",
      "include_colab_link": true
    },
    "kernelspec": {
      "name": "python3",
      "display_name": "Python 3"
    },
    "language_info": {
      "name": "python"
    }
  },
  "cells": [
    {
      "cell_type": "markdown",
      "metadata": {
        "id": "view-in-github",
        "colab_type": "text"
      },
      "source": [
        "<a href=\"https://colab.research.google.com/github/moimigueldev/tensorflow-ztm/blob/main/01_neural_network_regression_with_tensorflow.ipynb\" target=\"_parent\"><img src=\"https://colab.research.google.com/assets/colab-badge.svg\" alt=\"Open In Colab\"/></a>"
      ]
    },
    {
      "cell_type": "markdown",
      "source": [
        "# Introduction to Regression with Neural Networks in TensorFlow\n",
        "\n",
        "There are many definitions for a regression problem but in our case, we're going to simplify it: Predicting a numerical variable based on some other combination of variables... predicting a number\n",
        "\n"
      ],
      "metadata": {
        "id": "NMBnDKGLvH1b"
      }
    },
    {
      "cell_type": "code",
      "source": [
        "# Import TensorFlow\n",
        "import tensorflow as tf\n",
        "\n",
        "print(tf.__version__)"
      ],
      "metadata": {
        "colab": {
          "base_uri": "https://localhost:8080/"
        },
        "id": "JC5Bsb_Dv-J7",
        "outputId": "c7663504-95b7-4815-ff90-893158fa8599"
      },
      "execution_count": null,
      "outputs": [
        {
          "output_type": "stream",
          "name": "stdout",
          "text": [
            "2.8.0\n"
          ]
        }
      ]
    },
    {
      "cell_type": "markdown",
      "source": [
        "# Create data to view and fit"
      ],
      "metadata": {
        "id": "JAMLKA5xwZ3_"
      }
    },
    {
      "cell_type": "code",
      "source": [
        "import numpy as np\n",
        "import matplotlib.pyplot as plt\n",
        "\n",
        "# Create features\n",
        "X = np.array([-7.0, -4.0, -1.0, 2.0, 5.0, 8.0, 11.0, 14.0])\n",
        "\n",
        "# Create labels\n",
        "y = np.array([3.0, 6.0, 9.0, 12.0, 15.0, 18.0, 21.0, 24.0])\n",
        "\n",
        "# Visualize it\n",
        "plt.scatter(X, y);"
      ],
      "metadata": {
        "colab": {
          "base_uri": "https://localhost:8080/",
          "height": 269
        },
        "id": "rl4Z0Tftwgv0",
        "outputId": "f3553371-aa91-4e6f-c03c-faa132488f2a"
      },
      "execution_count": null,
      "outputs": [
        {
          "output_type": "display_data",
          "data": {
            "text/plain": [
              "<Figure size 432x288 with 1 Axes>"
            ],
            "image/png": "[encoded data removed]"
          },
          "metadata": {
            "needs_background": "light"
          }
        }
      ]
    },
    {
      "cell_type": "code",
      "source": [
        "y == X + 10"
      ],
      "metadata": {
        "colab": {
          "base_uri": "https://localhost:8080/"
        },
        "id": "1HPdeS9kxOQN",
        "outputId": "27584af0-6696-4449-f3db-ff841968139d"
      },
      "execution_count": null,
      "outputs": [
        {
          "output_type": "execute_result",
          "data": {
            "text/plain": [
              "array([[ True,  True,  True,  True,  True,  True,  True,  True]])"
            ]
          },
          "metadata": {},
          "execution_count": 51
        }
      ]
    },
    {
      "cell_type": "markdown",
      "source": [
        "# Input and Output shapes"
      ],
      "metadata": {
        "id": "eSw_cbr8xp0N"
      }
    },
    {
      "cell_type": "code",
      "source": [
        "# Example input and output shapes of a regresson model\n",
        "house_info = tf.constant([\"bedroom\", \"bathroom\", \"garage\"])\n",
        "house_price = tf.constant([939700])\n",
        "house_info, house_price\n"
      ],
      "metadata": {
        "colab": {
          "base_uri": "https://localhost:8080/"
        },
        "id": "8RYPwDHIx1ut",
        "outputId": "b895016d-2852-4f8e-f6de-57c5fd6b9c37"
      },
      "execution_count": null,
      "outputs": [
        {
          "output_type": "execute_result",
          "data": {
            "text/plain": [
              "(<tf.Tensor: shape=(3,), dtype=string, numpy=array([b'bedroom', b'bathroom', b'garage'], dtype=object)>,\n",
              " <tf.Tensor: shape=(1,), dtype=int32, numpy=array([939700], dtype=int32)>)"
            ]
          },
          "metadata": {},
          "execution_count": 77
        }
      ]
    },
    {
      "cell_type": "code",
      "source": [
        "X[0], y[0]"
      ],
      "metadata": {
        "colab": {
          "base_uri": "https://localhost:8080/"
        },
        "id": "TK029VjnyjXc",
        "outputId": "47198217-4c67-420a-9ba3-eaa0a0881519"
      },
      "execution_count": null,
      "outputs": [
        {
          "output_type": "execute_result",
          "data": {
            "text/plain": [
              "(array([-7., -4., -1.,  2.,  5.,  8., 11., 14.]),\n",
              " array([ 3.,  6.,  9., 12., 15., 18., 21., 24.]))"
            ]
          },
          "metadata": {},
          "execution_count": 53
        }
      ]
    },
    {
      "cell_type": "code",
      "source": [
        "X[1], y[1]"
      ],
      "metadata": {
        "colab": {
          "base_uri": "https://localhost:8080/",
          "height": 166
        },
        "id": "f8p3lZ86yoRJ",
        "outputId": "b7ecb631-d982-4a8b-86f3-ca4d54d333b5"
      },
      "execution_count": null,
      "outputs": [
        {
          "output_type": "error",
          "ename": "IndexError",
          "evalue": "ignored",
          "traceback": [
            "\u001b[0;31m---------------------------------------------------------------------------\u001b[0m",
            "\u001b[0;31mIndexError\u001b[0m                                Traceback (most recent call last)",
            "\u001b[0;32m<ipython-input-54-4b56de35db78>\u001b[0m in \u001b[0;36m<module>\u001b[0;34m()\u001b[0m\n\u001b[0;32m----> 1\u001b[0;31m \u001b[0mX\u001b[0m\u001b[0;34m[\u001b[0m\u001b[0;36m1\u001b[0m\u001b[0;34m]\u001b[0m\u001b[0;34m,\u001b[0m \u001b[0my\u001b[0m\u001b[0;34m[\u001b[0m\u001b[0;36m1\u001b[0m\u001b[0;34m]\u001b[0m\u001b[0;34m\u001b[0m\u001b[0;34m\u001b[0m\u001b[0m\n\u001b[0m",
            "\u001b[0;31mIndexError\u001b[0m: index 1 is out of bounds for axis 0 with size 1"
          ]
        }
      ]
    },
    {
      "cell_type": "code",
      "source": [
        "input_shape = X[0].shape\n",
        "output_shape = y[0].shape\n",
        "input_shape, output_shape"
      ],
      "metadata": {
        "id": "CjrCCWfSx25W"
      },
      "execution_count": null,
      "outputs": []
    },
    {
      "cell_type": "code",
      "source": [
        "X[0].ndim"
      ],
      "metadata": {
        "id": "6DbLqTUryc2u"
      },
      "execution_count": null,
      "outputs": []
    },
    {
      "cell_type": "code",
      "source": [
        "X[0], y[0]"
      ],
      "metadata": {
        "id": "IfJGAX_xy9KQ"
      },
      "execution_count": null,
      "outputs": []
    },
    {
      "cell_type": "code",
      "source": [
        "# Turn our numpy arrays into tensors\n",
        "X = tf.cast(tf.constant(X), dtype=tf.float32)\n",
        "y = tf.cast(tf.constant(y), dtype=tf.float32)\n",
        "X, y"
      ],
      "metadata": {
        "id": "Y34N0mvMy_m_"
      },
      "execution_count": null,
      "outputs": []
    },
    {
      "cell_type": "code",
      "source": [
        "input_shape = X[0].shape\n",
        "output_shape = y[0].shape\n",
        "input_shape, output_shape"
      ],
      "metadata": {
        "id": "_cSHuPXbzWlO"
      },
      "execution_count": null,
      "outputs": []
    },
    {
      "cell_type": "code",
      "source": [
        "plt.scatter(X, y)"
      ],
      "metadata": {
        "id": "gv7hXUJnzdBJ"
      },
      "execution_count": null,
      "outputs": []
    },
    {
      "cell_type": "markdown",
      "source": [
        "## steps in modeling with TensorFlow\n",
        "\n",
        "1. **Creating a model** - define the input and output layers, as well as the hidden layrs of a deep learning model.\n",
        "\n",
        "2. **Compiling a model** - define a loss function (The function which tells our model how wrong it is.) and the optimizer (tells our model how to improve the pattersn it's learning. and evaluation metrics (What we can use to interprit the performance of out model.)\n",
        "\n",
        "3. **Fitting a model** - letting the model try to find patterns between X & y (features & labels)\n"
      ],
      "metadata": {
        "id": "7OuRSqBDzlW_"
      }
    },
    {
      "cell_type": "code",
      "source": [
        "# Set random seed\n",
        "tf.random.set_seed(42)\n",
        "\n",
        "# Create a model using the Sequential API\n",
        "model = tf.keras.Sequential([\n",
        "  tf.keras.layers.Dense(1)\n",
        "])\n",
        "\n",
        "# Compile the model\n",
        "model.compile(loss=tf.keras.losses.mae, # mae is short for mean absolute error\n",
        "              optimizer=tf.keras.optimizers.SGD(), # SGD is short for stochastic gradient descent\n",
        "              metrics=[\"mae\"])\n",
        "\n",
        "# Fit the model\n",
        "# model.fit(X, y, epochs=5) # this will break with TensorFlow 2.7.0+\n",
        "model.fit(tf.expand_dims(X, axis=-1), y, epochs=5)"
      ],
      "metadata": {
        "colab": {
          "base_uri": "https://localhost:8080/"
        },
        "id": "l2RpVHqvz_mR",
        "outputId": "bd6354a5-a06e-4290-8fcf-52f298a82654"
      },
      "execution_count": null,
      "outputs": [
        {
          "output_type": "stream",
          "name": "stdout",
          "text": [
            "Epoch 1/5\n",
            "1/1 [==============================] - 1s 506ms/step - loss: 11.5048 - mae: 11.5048\n",
            "Epoch 2/5\n",
            "1/1 [==============================] - 0s 8ms/step - loss: 11.3723 - mae: 11.3723\n",
            "Epoch 3/5\n",
            "1/1 [==============================] - 0s 14ms/step - loss: 11.2398 - mae: 11.2398\n",
            "Epoch 4/5\n",
            "1/1 [==============================] - 0s 14ms/step - loss: 11.1073 - mae: 11.1073\n",
            "Epoch 5/5\n",
            "1/1 [==============================] - 0s 12ms/step - loss: 10.9748 - mae: 10.9748\n"
          ]
        },
        {
          "output_type": "execute_result",
          "data": {
            "text/plain": [
              "(TensorShape([8, 1]), (8,))"
            ]
          },
          "metadata": {},
          "execution_count": 83
        }
      ]
    },
    {
      "cell_type": "code",
      "source": [
        "# Checkout X and y\n",
        "X, y"
      ],
      "metadata": {
        "colab": {
          "base_uri": "https://localhost:8080/"
        },
        "id": "U7UnuQ9q4Fou",
        "outputId": "40a7441d-b088-4c35-efa5-2778832691dc"
      },
      "execution_count": null,
      "outputs": [
        {
          "output_type": "execute_result",
          "data": {
            "text/plain": [
              "(<tf.Tensor: shape=(1, 8), dtype=float64, numpy=array([[-7., -4., -1.,  2.,  5.,  8., 11., 14.]])>,\n",
              " <tf.Tensor: shape=(1, 8), dtype=float64, numpy=array([[ 3.,  6.,  9., 12., 15., 18., 21., 24.]])>)"
            ]
          },
          "metadata": {},
          "execution_count": 74
        }
      ]
    },
    {
      "cell_type": "code",
      "source": [
        "y_pred = model.predict([17.0])\n",
        "y_pred + 11"
      ],
      "metadata": {
        "colab": {
          "base_uri": "https://localhost:8080/"
        },
        "id": "Bse2myI-5arA",
        "outputId": "be57cc6b-8411-4d74-896c-28c2916ab0ce"
      },
      "execution_count": null,
      "outputs": [
        {
          "output_type": "execute_result",
          "data": {
            "text/plain": [
              "array([[23.71602]], dtype=float32)"
            ]
          },
          "metadata": {},
          "execution_count": 85
        }
      ]
    },
    {
      "cell_type": "markdown",
      "source": [
        "# Improving our model\n",
        "\n",
        "We can improve our model by altering the steps we took to create our model\n",
        "\n",
        "1. **Creating a model** - here we might add more layers, increase the number of hidden units (allso called neurons) within each of the hidden layers, change the activation functions of each layer\n",
        "\n",
        "2. **Compiling a model** - Here we might change the optimization function or perhaps the **learning rate** of said optimization function\n",
        "\n",
        "3. **Fitting Model** - Here we might fit a model for more **epochs** (Leave it training for longer) or on more data (Give the model more examples to learn from)"
      ],
      "metadata": {
        "id": "bB9JYIgY6IjT"
      }
    },
    {
      "cell_type": "code",
      "source": [
        "# Create a model using the Sequential API\n",
        "model = tf.keras.Sequential([\n",
        "  tf.keras.layers.Dense(1)\n",
        "])\n",
        "\n",
        "# Compile the model\n",
        "model.compile(loss=tf.keras.losses.mae, # mae is short for mean absolute error\n",
        "              optimizer=tf.keras.optimizers.SGD(), # SGD is short for stochastic gradient descent\n",
        "              metrics=[\"mae\"])\n",
        "\n",
        "# Fit the model (This time we'll train for longer)\n",
        "model.fit(tf.expand_dims(X, axis=-1), y, epochs=100)"
      ],
      "metadata": {
        "id": "6xZ_M6He74gu"
      },
      "execution_count": null,
      "outputs": []
    },
    {
      "cell_type": "code",
      "source": [
        "# Remind ourselves of the data\n",
        "X, y"
      ],
      "metadata": {
        "colab": {
          "base_uri": "https://localhost:8080/"
        },
        "id": "CzhtONNRCOv-",
        "outputId": "e764b064-3e8a-489e-912c-d6f6c2f80471"
      },
      "execution_count": 90,
      "outputs": [
        {
          "output_type": "execute_result",
          "data": {
            "text/plain": [
              "(array([-7., -4., -1.,  2.,  5.,  8., 11., 14.]),\n",
              " array([ 3.,  6.,  9., 12., 15., 18., 21., 24.]))"
            ]
          },
          "metadata": {},
          "execution_count": 90
        }
      ]
    },
    {
      "cell_type": "code",
      "source": [
        "# Let's see if our models prediction has improved\n",
        "model.predict([17.0])"
      ],
      "metadata": {
        "colab": {
          "base_uri": "https://localhost:8080/"
        },
        "id": "0yamGAzeDA-A",
        "outputId": "593d5116-6a74-4297-bfe6-251bc6392a72"
      },
      "execution_count": 91,
      "outputs": [
        {
          "output_type": "stream",
          "name": "stdout",
          "text": [
            "WARNING:tensorflow:5 out of the last 7 calls to <function Model.make_predict_function.<locals>.predict_function at 0x7fe19e1df8c0> triggered tf.function retracing. Tracing is expensive and the excessive number of tracings could be due to (1) creating @tf.function repeatedly in a loop, (2) passing tensors with different shapes, (3) passing Python objects instead of tensors. For (1), please define your @tf.function outside of the loop. For (2), @tf.function has experimental_relax_shapes=True option that relaxes argument shapes that can avoid unnecessary retracing. For (3), please refer to https://www.tensorflow.org/guide/function#controlling_retracing and https://www.tensorflow.org/api_docs/python/tf/function for  more details.\n"
          ]
        },
        {
          "output_type": "execute_result",
          "data": {
            "text/plain": [
              "array([[29.834618]], dtype=float32)"
            ]
          },
          "metadata": {},
          "execution_count": 91
        }
      ]
    },
    {
      "cell_type": "code",
      "source": [
        "# Create a model using the Sequential API\n",
        "model = tf.keras.Sequential([\n",
        "  # tf.keras.layers.Dense(1),\n",
        "  tf.keras.layers.Dense(1)\n",
        "])\n",
        "\n",
        "# Compile the model\n",
        "\n",
        "model.compile(loss=tf.keras.losses.mae, \n",
        "              optimizer=tf.keras.optimizers.Adam(lr=0.1), \n",
        "              metrics=[\"mae\"])\n",
        "\n",
        "# Fit the model (This time we will add a learning rate)\n",
        "model.fit(tf.expand_dims(X, axis=-1), y, epochs=100)"
      ],
      "metadata": {
        "colab": {
          "base_uri": "https://localhost:8080/"
        },
        "id": "WFSG4ILbDGeJ",
        "outputId": "f651a086-419d-4b8e-ddf4-aa2e6406b386"
      },
      "execution_count": 94,
      "outputs": [
        {
          "output_type": "stream",
          "name": "stdout",
          "text": [
            "Epoch 1/100\n"
          ]
        },
        {
          "output_type": "stream",
          "name": "stderr",
          "text": [
            "/usr/local/lib/python3.7/dist-packages/keras/optimizer_v2/adam.py:105: UserWarning: The `lr` argument is deprecated, use `learning_rate` instead.\n",
            "  super(Adam, self).__init__(name, **kwargs)\n"
          ]
        },
        {
          "output_type": "stream",
          "name": "stdout",
          "text": [
            "1/1 [==============================] - 1s 651ms/step - loss: 14.2813 - mae: 14.2813\n",
            "Epoch 2/100\n",
            "1/1 [==============================] - 0s 16ms/step - loss: 13.8313 - mae: 13.8313\n",
            "Epoch 3/100\n",
            "1/1 [==============================] - 0s 17ms/step - loss: 13.3814 - mae: 13.3814\n",
            "Epoch 4/100\n",
            "1/1 [==============================] - 0s 18ms/step - loss: 12.9313 - mae: 12.9313\n",
            "Epoch 5/100\n",
            "1/1 [==============================] - 0s 18ms/step - loss: 12.4814 - mae: 12.4814\n",
            "Epoch 6/100\n",
            "1/1 [==============================] - 0s 14ms/step - loss: 12.0314 - mae: 12.0314\n",
            "Epoch 7/100\n",
            "1/1 [==============================] - 0s 16ms/step - loss: 11.5814 - mae: 11.5814\n",
            "Epoch 8/100\n",
            "1/1 [==============================] - 0s 13ms/step - loss: 11.1314 - mae: 11.1314\n",
            "Epoch 9/100\n",
            "1/1 [==============================] - 0s 18ms/step - loss: 10.6814 - mae: 10.6814\n",
            "Epoch 10/100\n",
            "1/1 [==============================] - 0s 19ms/step - loss: 10.2314 - mae: 10.2314\n",
            "Epoch 11/100\n",
            "1/1 [==============================] - 0s 12ms/step - loss: 9.7814 - mae: 9.7814\n",
            "Epoch 12/100\n",
            "1/1 [==============================] - 0s 16ms/step - loss: 9.3314 - mae: 9.3314\n",
            "Epoch 13/100\n",
            "1/1 [==============================] - 0s 20ms/step - loss: 8.8814 - mae: 8.8814\n",
            "Epoch 14/100\n",
            "1/1 [==============================] - 0s 14ms/step - loss: 8.4314 - mae: 8.4314\n",
            "Epoch 15/100\n",
            "1/1 [==============================] - 0s 20ms/step - loss: 7.9814 - mae: 7.9814\n",
            "Epoch 16/100\n",
            "1/1 [==============================] - 0s 24ms/step - loss: 7.5314 - mae: 7.5314\n",
            "Epoch 17/100\n",
            "1/1 [==============================] - 0s 15ms/step - loss: 7.0814 - mae: 7.0814\n",
            "Epoch 18/100\n",
            "1/1 [==============================] - 0s 15ms/step - loss: 6.6314 - mae: 6.6314\n",
            "Epoch 19/100\n",
            "1/1 [==============================] - 0s 15ms/step - loss: 6.1814 - mae: 6.1814\n",
            "Epoch 20/100\n",
            "1/1 [==============================] - 0s 15ms/step - loss: 6.0750 - mae: 6.0750\n",
            "Epoch 21/100\n",
            "1/1 [==============================] - 0s 19ms/step - loss: 6.1120 - mae: 6.1120\n",
            "Epoch 22/100\n",
            "1/1 [==============================] - 0s 17ms/step - loss: 6.2635 - mae: 6.2635\n",
            "Epoch 23/100\n",
            "1/1 [==============================] - 0s 17ms/step - loss: 6.3710 - mae: 6.3710\n",
            "Epoch 24/100\n",
            "1/1 [==============================] - 0s 11ms/step - loss: 6.4391 - mae: 6.4391\n",
            "Epoch 25/100\n",
            "1/1 [==============================] - 0s 11ms/step - loss: 6.4902 - mae: 6.4902\n",
            "Epoch 26/100\n",
            "1/1 [==============================] - 0s 18ms/step - loss: 6.5127 - mae: 6.5127\n",
            "Epoch 27/100\n",
            "1/1 [==============================] - 0s 17ms/step - loss: 6.4610 - mae: 6.4610\n",
            "Epoch 28/100\n",
            "1/1 [==============================] - 0s 11ms/step - loss: 6.3457 - mae: 6.3457\n",
            "Epoch 29/100\n",
            "1/1 [==============================] - 0s 21ms/step - loss: 6.1834 - mae: 6.1834\n",
            "Epoch 30/100\n",
            "1/1 [==============================] - 0s 15ms/step - loss: 6.0468 - mae: 6.0468\n",
            "Epoch 31/100\n",
            "1/1 [==============================] - 0s 16ms/step - loss: 5.8979 - mae: 5.8979\n",
            "Epoch 32/100\n",
            "1/1 [==============================] - 0s 17ms/step - loss: 5.7378 - mae: 5.7378\n",
            "Epoch 33/100\n",
            "1/1 [==============================] - 0s 15ms/step - loss: 5.5675 - mae: 5.5675\n",
            "Epoch 34/100\n",
            "1/1 [==============================] - 0s 13ms/step - loss: 5.3879 - mae: 5.3879\n",
            "Epoch 35/100\n",
            "1/1 [==============================] - 0s 10ms/step - loss: 5.1999 - mae: 5.1999\n",
            "Epoch 36/100\n",
            "1/1 [==============================] - 0s 22ms/step - loss: 5.1464 - mae: 5.1464\n",
            "Epoch 37/100\n",
            "1/1 [==============================] - 0s 25ms/step - loss: 5.0933 - mae: 5.0933\n",
            "Epoch 38/100\n",
            "1/1 [==============================] - 0s 19ms/step - loss: 5.0735 - mae: 5.0735\n",
            "Epoch 39/100\n",
            "1/1 [==============================] - 0s 22ms/step - loss: 5.1108 - mae: 5.1108\n",
            "Epoch 40/100\n",
            "1/1 [==============================] - 0s 22ms/step - loss: 5.0946 - mae: 5.0946\n",
            "Epoch 41/100\n",
            "1/1 [==============================] - 0s 16ms/step - loss: 5.0307 - mae: 5.0307\n",
            "Epoch 42/100\n",
            "1/1 [==============================] - 0s 14ms/step - loss: 4.9240 - mae: 4.9240\n",
            "Epoch 43/100\n",
            "1/1 [==============================] - 0s 20ms/step - loss: 4.7792 - mae: 4.7792\n",
            "Epoch 44/100\n",
            "1/1 [==============================] - 0s 19ms/step - loss: 4.6478 - mae: 4.6478\n",
            "Epoch 45/100\n",
            "1/1 [==============================] - 0s 9ms/step - loss: 4.5773 - mae: 4.5773\n",
            "Epoch 46/100\n",
            "1/1 [==============================] - 0s 18ms/step - loss: 4.5069 - mae: 4.5069\n",
            "Epoch 47/100\n",
            "1/1 [==============================] - 0s 15ms/step - loss: 4.4366 - mae: 4.4366\n",
            "Epoch 48/100\n",
            "1/1 [==============================] - 0s 28ms/step - loss: 4.3769 - mae: 4.3769\n",
            "Epoch 49/100\n",
            "1/1 [==============================] - 0s 11ms/step - loss: 4.3486 - mae: 4.3486\n",
            "Epoch 50/100\n",
            "1/1 [==============================] - 0s 21ms/step - loss: 4.2958 - mae: 4.2958\n",
            "Epoch 51/100\n",
            "1/1 [==============================] - 0s 11ms/step - loss: 4.2210 - mae: 4.2210\n",
            "Epoch 52/100\n",
            "1/1 [==============================] - 0s 10ms/step - loss: 4.1261 - mae: 4.1261\n",
            "Epoch 53/100\n",
            "1/1 [==============================] - 0s 11ms/step - loss: 4.0417 - mae: 4.0417\n",
            "Epoch 54/100\n",
            "1/1 [==============================] - 0s 11ms/step - loss: 3.9787 - mae: 3.9787\n",
            "Epoch 55/100\n",
            "1/1 [==============================] - 0s 9ms/step - loss: 3.9149 - mae: 3.9149\n",
            "Epoch 56/100\n",
            "1/1 [==============================] - 0s 13ms/step - loss: 3.8503 - mae: 3.8503\n",
            "Epoch 57/100\n",
            "1/1 [==============================] - 0s 13ms/step - loss: 3.7851 - mae: 3.7851\n",
            "Epoch 58/100\n",
            "1/1 [==============================] - 0s 13ms/step - loss: 3.7192 - mae: 3.7192\n",
            "Epoch 59/100\n",
            "1/1 [==============================] - 0s 11ms/step - loss: 3.6528 - mae: 3.6528\n",
            "Epoch 60/100\n",
            "1/1 [==============================] - 0s 8ms/step - loss: 3.5858 - mae: 3.5858\n",
            "Epoch 61/100\n",
            "1/1 [==============================] - 0s 10ms/step - loss: 3.5184 - mae: 3.5184\n",
            "Epoch 62/100\n",
            "1/1 [==============================] - 0s 9ms/step - loss: 3.4505 - mae: 3.4505\n",
            "Epoch 63/100\n",
            "1/1 [==============================] - 0s 11ms/step - loss: 3.3883 - mae: 3.3883\n",
            "Epoch 64/100\n",
            "1/1 [==============================] - 0s 12ms/step - loss: 3.3117 - mae: 3.3117\n",
            "Epoch 65/100\n",
            "1/1 [==============================] - 0s 13ms/step - loss: 3.2410 - mae: 3.2410\n",
            "Epoch 66/100\n",
            "1/1 [==============================] - 0s 25ms/step - loss: 3.1703 - mae: 3.1703\n",
            "Epoch 67/100\n",
            "1/1 [==============================] - 0s 10ms/step - loss: 3.0994 - mae: 3.0994\n",
            "Epoch 68/100\n",
            "1/1 [==============================] - 0s 8ms/step - loss: 3.0285 - mae: 3.0285\n",
            "Epoch 69/100\n",
            "1/1 [==============================] - 0s 7ms/step - loss: 2.9575 - mae: 2.9575\n",
            "Epoch 70/100\n",
            "1/1 [==============================] - 0s 15ms/step - loss: 2.8864 - mae: 2.8864\n",
            "Epoch 71/100\n",
            "1/1 [==============================] - 0s 11ms/step - loss: 2.8153 - mae: 2.8153\n",
            "Epoch 72/100\n",
            "1/1 [==============================] - 0s 10ms/step - loss: 2.7667 - mae: 2.7667\n",
            "Epoch 73/100\n",
            "1/1 [==============================] - 0s 7ms/step - loss: 2.6964 - mae: 2.6964\n",
            "Epoch 74/100\n",
            "1/1 [==============================] - 0s 16ms/step - loss: 2.6077 - mae: 2.6077\n",
            "Epoch 75/100\n",
            "1/1 [==============================] - 0s 11ms/step - loss: 2.5399 - mae: 2.5399\n",
            "Epoch 76/100\n",
            "1/1 [==============================] - 0s 9ms/step - loss: 2.4717 - mae: 2.4717\n",
            "Epoch 77/100\n",
            "1/1 [==============================] - 0s 6ms/step - loss: 2.4030 - mae: 2.4030\n",
            "Epoch 78/100\n",
            "1/1 [==============================] - 0s 12ms/step - loss: 2.3340 - mae: 2.3340\n",
            "Epoch 79/100\n",
            "1/1 [==============================] - 0s 13ms/step - loss: 2.2646 - mae: 2.2646\n",
            "Epoch 80/100\n",
            "1/1 [==============================] - 0s 13ms/step - loss: 2.1949 - mae: 2.1949\n",
            "Epoch 81/100\n",
            "1/1 [==============================] - 0s 9ms/step - loss: 2.1249 - mae: 2.1249\n",
            "Epoch 82/100\n",
            "1/1 [==============================] - 0s 13ms/step - loss: 2.0547 - mae: 2.0547\n",
            "Epoch 83/100\n",
            "1/1 [==============================] - 0s 8ms/step - loss: 1.9842 - mae: 1.9842\n",
            "Epoch 84/100\n",
            "1/1 [==============================] - 0s 12ms/step - loss: 1.9136 - mae: 1.9136\n",
            "Epoch 85/100\n",
            "1/1 [==============================] - 0s 9ms/step - loss: 1.8427 - mae: 1.8427\n",
            "Epoch 86/100\n",
            "1/1 [==============================] - 0s 8ms/step - loss: 1.7717 - mae: 1.7717\n",
            "Epoch 87/100\n",
            "1/1 [==============================] - 0s 11ms/step - loss: 1.7004 - mae: 1.7004\n",
            "Epoch 88/100\n",
            "1/1 [==============================] - 0s 11ms/step - loss: 1.6291 - mae: 1.6291\n",
            "Epoch 89/100\n",
            "1/1 [==============================] - 0s 10ms/step - loss: 1.5576 - mae: 1.5576\n",
            "Epoch 90/100\n",
            "1/1 [==============================] - 0s 12ms/step - loss: 1.4860 - mae: 1.4860\n",
            "Epoch 91/100\n",
            "1/1 [==============================] - 0s 8ms/step - loss: 1.4174 - mae: 1.4174\n",
            "Epoch 92/100\n",
            "1/1 [==============================] - 0s 8ms/step - loss: 1.3446 - mae: 1.3446\n",
            "Epoch 93/100\n",
            "1/1 [==============================] - 0s 10ms/step - loss: 1.2746 - mae: 1.2746\n",
            "Epoch 94/100\n",
            "1/1 [==============================] - 0s 7ms/step - loss: 1.2044 - mae: 1.2044\n",
            "Epoch 95/100\n",
            "1/1 [==============================] - 0s 8ms/step - loss: 1.1338 - mae: 1.1338\n",
            "Epoch 96/100\n",
            "1/1 [==============================] - 0s 14ms/step - loss: 1.0630 - mae: 1.0630\n",
            "Epoch 97/100\n",
            "1/1 [==============================] - 0s 14ms/step - loss: 0.9920 - mae: 0.9920\n",
            "Epoch 98/100\n",
            "1/1 [==============================] - 0s 8ms/step - loss: 0.9208 - mae: 0.9208\n",
            "Epoch 99/100\n",
            "1/1 [==============================] - 0s 25ms/step - loss: 0.8494 - mae: 0.8494\n",
            "Epoch 100/100\n",
            "1/1 [==============================] - 0s 26ms/step - loss: 0.7778 - mae: 0.7778\n"
          ]
        },
        {
          "output_type": "execute_result",
          "data": {
            "text/plain": [
              "<keras.callbacks.History at 0x7fe19dfd24d0>"
            ]
          },
          "metadata": {},
          "execution_count": 94
        }
      ]
    },
    {
      "cell_type": "code",
      "source": [
        "# Let's see if our models prediction has improved\n",
        "model.predict([17.0])"
      ],
      "metadata": {
        "colab": {
          "base_uri": "https://localhost:8080/"
        },
        "id": "sgsmzFYcDhfx",
        "outputId": "e68cb7ce-028b-40a7-cb3b-cbc83c4d8775"
      },
      "execution_count": 95,
      "outputs": [
        {
          "output_type": "stream",
          "name": "stdout",
          "text": [
            "WARNING:tensorflow:6 out of the last 8 calls to <function Model.make_predict_function.<locals>.predict_function at 0x7fe19dfd6c20> triggered tf.function retracing. Tracing is expensive and the excessive number of tracings could be due to (1) creating @tf.function repeatedly in a loop, (2) passing tensors with different shapes, (3) passing Python objects instead of tensors. For (1), please define your @tf.function outside of the loop. For (2), @tf.function has experimental_relax_shapes=True option that relaxes argument shapes that can avoid unnecessary retracing. For (3), please refer to https://www.tensorflow.org/guide/function#controlling_retracing and https://www.tensorflow.org/api_docs/python/tf/function for  more details.\n"
          ]
        },
        {
          "output_type": "execute_result",
          "data": {
            "text/plain": [
              "array([[27.377918]], dtype=float32)"
            ]
          },
          "metadata": {},
          "execution_count": 95
        }
      ]
    },
    {
      "cell_type": "code",
      "source": [
        "# Create a model using the Sequential API\n",
        "model = tf.keras.Sequential([\n",
        "  tf.keras.layers.Dense(100, activation='relu'),\n",
        "  tf.keras.layers.Dense(1)\n",
        "])\n",
        "\n",
        "# Compile the model\n",
        "\n",
        "model.compile(loss=tf.keras.losses.mae, \n",
        "              optimizer=tf.keras.optimizers.SGD(), \n",
        "              metrics=[\"mae\"])\n",
        "\n",
        "# Fit the model (This time we will add a learning rate)\n",
        "model.fit(tf.expand_dims(X, axis=-1), y, epochs=100)"
      ],
      "metadata": {
        "colab": {
          "base_uri": "https://localhost:8080/"
        },
        "id": "FFyVSiJQD2C2",
        "outputId": "033c23ca-a138-494b-b5fe-55fa9a57ee56"
      },
      "execution_count": 98,
      "outputs": [
        {
          "output_type": "stream",
          "name": "stdout",
          "text": [
            "Epoch 1/100\n",
            "1/1 [==============================] - 1s 849ms/step - loss: 13.0605 - mae: 13.0605\n",
            "Epoch 2/100\n",
            "1/1 [==============================] - 0s 9ms/step - loss: 12.5925 - mae: 12.5925\n",
            "Epoch 3/100\n",
            "1/1 [==============================] - 0s 9ms/step - loss: 12.0866 - mae: 12.0866\n",
            "Epoch 4/100\n",
            "1/1 [==============================] - 0s 11ms/step - loss: 11.4838 - mae: 11.4838\n",
            "Epoch 5/100\n",
            "1/1 [==============================] - 0s 13ms/step - loss: 10.7626 - mae: 10.7626\n",
            "Epoch 6/100\n",
            "1/1 [==============================] - 0s 11ms/step - loss: 9.9220 - mae: 9.9220\n",
            "Epoch 7/100\n",
            "1/1 [==============================] - 0s 9ms/step - loss: 8.8402 - mae: 8.8402\n",
            "Epoch 8/100\n",
            "1/1 [==============================] - 0s 11ms/step - loss: 7.4266 - mae: 7.4266\n",
            "Epoch 9/100\n",
            "1/1 [==============================] - 0s 10ms/step - loss: 5.6787 - mae: 5.6787\n",
            "Epoch 10/100\n",
            "1/1 [==============================] - 0s 14ms/step - loss: 3.9471 - mae: 3.9471\n",
            "Epoch 11/100\n",
            "1/1 [==============================] - 0s 9ms/step - loss: 4.1052 - mae: 4.1052\n",
            "Epoch 12/100\n",
            "1/1 [==============================] - 0s 13ms/step - loss: 3.9006 - mae: 3.9006\n",
            "Epoch 13/100\n",
            "1/1 [==============================] - 0s 9ms/step - loss: 4.1172 - mae: 4.1172\n",
            "Epoch 14/100\n",
            "1/1 [==============================] - 0s 12ms/step - loss: 3.8959 - mae: 3.8959\n",
            "Epoch 15/100\n",
            "1/1 [==============================] - 0s 11ms/step - loss: 4.0691 - mae: 4.0691\n",
            "Epoch 16/100\n",
            "1/1 [==============================] - 0s 14ms/step - loss: 3.9079 - mae: 3.9079\n",
            "Epoch 17/100\n",
            "1/1 [==============================] - 0s 11ms/step - loss: 4.0193 - mae: 4.0193\n",
            "Epoch 18/100\n",
            "1/1 [==============================] - 0s 12ms/step - loss: 3.9216 - mae: 3.9216\n",
            "Epoch 19/100\n",
            "1/1 [==============================] - 0s 8ms/step - loss: 3.9691 - mae: 3.9691\n",
            "Epoch 20/100\n",
            "1/1 [==============================] - 0s 10ms/step - loss: 3.9352 - mae: 3.9352\n",
            "Epoch 21/100\n",
            "1/1 [==============================] - 0s 16ms/step - loss: 3.9161 - mae: 3.9161\n",
            "Epoch 22/100\n",
            "1/1 [==============================] - 0s 8ms/step - loss: 3.9501 - mae: 3.9501\n",
            "Epoch 23/100\n",
            "1/1 [==============================] - 0s 10ms/step - loss: 3.8611 - mae: 3.8611\n",
            "Epoch 24/100\n",
            "1/1 [==============================] - 0s 13ms/step - loss: 3.9670 - mae: 3.9670\n",
            "Epoch 25/100\n",
            "1/1 [==============================] - 0s 8ms/step - loss: 3.8048 - mae: 3.8048\n",
            "Epoch 26/100\n",
            "1/1 [==============================] - 0s 20ms/step - loss: 3.9861 - mae: 3.9861\n",
            "Epoch 27/100\n",
            "1/1 [==============================] - 0s 9ms/step - loss: 3.7713 - mae: 3.7713\n",
            "Epoch 28/100\n",
            "1/1 [==============================] - 0s 11ms/step - loss: 3.9704 - mae: 3.9704\n",
            "Epoch 29/100\n",
            "1/1 [==============================] - 0s 12ms/step - loss: 3.8271 - mae: 3.8271\n",
            "Epoch 30/100\n",
            "1/1 [==============================] - 0s 8ms/step - loss: 3.8892 - mae: 3.8892\n",
            "Epoch 31/100\n",
            "1/1 [==============================] - 0s 13ms/step - loss: 3.8459 - mae: 3.8459\n",
            "Epoch 32/100\n",
            "1/1 [==============================] - 0s 13ms/step - loss: 3.8309 - mae: 3.8309\n",
            "Epoch 33/100\n",
            "1/1 [==============================] - 0s 11ms/step - loss: 3.8664 - mae: 3.8664\n",
            "Epoch 34/100\n",
            "1/1 [==============================] - 0s 10ms/step - loss: 3.7697 - mae: 3.7697\n",
            "Epoch 35/100\n",
            "1/1 [==============================] - 0s 11ms/step - loss: 3.8878 - mae: 3.8878\n",
            "Epoch 36/100\n",
            "1/1 [==============================] - 0s 9ms/step - loss: 3.7058 - mae: 3.7058\n",
            "Epoch 37/100\n",
            "1/1 [==============================] - 0s 8ms/step - loss: 3.9123 - mae: 3.9123\n",
            "Epoch 38/100\n",
            "1/1 [==============================] - 0s 9ms/step - loss: 3.7006 - mae: 3.7006\n",
            "Epoch 39/100\n",
            "1/1 [==============================] - 0s 10ms/step - loss: 3.8787 - mae: 3.8787\n",
            "Epoch 40/100\n",
            "1/1 [==============================] - 0s 10ms/step - loss: 3.7598 - mae: 3.7598\n",
            "Epoch 41/100\n",
            "1/1 [==============================] - 0s 8ms/step - loss: 3.7788 - mae: 3.7788\n",
            "Epoch 42/100\n",
            "1/1 [==============================] - 0s 8ms/step - loss: 3.7839 - mae: 3.7839\n",
            "Epoch 43/100\n",
            "1/1 [==============================] - 0s 11ms/step - loss: 3.7121 - mae: 3.7121\n",
            "Epoch 44/100\n",
            "1/1 [==============================] - 0s 7ms/step - loss: 3.8094 - mae: 3.8094\n",
            "Epoch 45/100\n",
            "1/1 [==============================] - 0s 15ms/step - loss: 3.6442 - mae: 3.6442\n",
            "Epoch 46/100\n",
            "1/1 [==============================] - 0s 8ms/step - loss: 3.8355 - mae: 3.8355\n",
            "Epoch 47/100\n",
            "1/1 [==============================] - 0s 10ms/step - loss: 3.6294 - mae: 3.6294\n",
            "Epoch 48/100\n",
            "1/1 [==============================] - 0s 10ms/step - loss: 3.7994 - mae: 3.7994\n",
            "Epoch 49/100\n",
            "1/1 [==============================] - 0s 11ms/step - loss: 3.6911 - mae: 3.6911\n",
            "Epoch 50/100\n",
            "1/1 [==============================] - 0s 9ms/step - loss: 3.7036 - mae: 3.7036\n",
            "Epoch 51/100\n",
            "1/1 [==============================] - 0s 10ms/step - loss: 3.7180 - mae: 3.7180\n",
            "Epoch 52/100\n",
            "1/1 [==============================] - 0s 8ms/step - loss: 3.6315 - mae: 3.6315\n",
            "Epoch 53/100\n",
            "1/1 [==============================] - 0s 6ms/step - loss: 3.7465 - mae: 3.7465\n",
            "Epoch 54/100\n",
            "1/1 [==============================] - 0s 9ms/step - loss: 3.5586 - mae: 3.5586\n",
            "Epoch 55/100\n",
            "1/1 [==============================] - 0s 6ms/step - loss: 3.7757 - mae: 3.7757\n",
            "Epoch 56/100\n",
            "1/1 [==============================] - 0s 12ms/step - loss: 3.5724 - mae: 3.5724\n",
            "Epoch 57/100\n",
            "1/1 [==============================] - 0s 7ms/step - loss: 3.7015 - mae: 3.7015\n",
            "Epoch 58/100\n",
            "1/1 [==============================] - 0s 6ms/step - loss: 3.6024 - mae: 3.6024\n",
            "Epoch 59/100\n",
            "1/1 [==============================] - 0s 7ms/step - loss: 3.6288 - mae: 3.6288\n",
            "Epoch 60/100\n",
            "1/1 [==============================] - 0s 8ms/step - loss: 3.6687 - mae: 3.6687\n",
            "Epoch 61/100\n",
            "1/1 [==============================] - 0s 6ms/step - loss: 3.5243 - mae: 3.5243\n",
            "Epoch 62/100\n",
            "1/1 [==============================] - 0s 9ms/step - loss: 3.7005 - mae: 3.7005\n",
            "Epoch 63/100\n",
            "1/1 [==============================] - 0s 6ms/step - loss: 3.5024 - mae: 3.5024\n",
            "Epoch 64/100\n",
            "1/1 [==============================] - 0s 6ms/step - loss: 3.6620 - mae: 3.6620\n",
            "Epoch 65/100\n",
            "1/1 [==============================] - 0s 11ms/step - loss: 3.5336 - mae: 3.5336\n",
            "Epoch 66/100\n",
            "1/1 [==============================] - 0s 7ms/step - loss: 3.5833 - mae: 3.5833\n",
            "Epoch 67/100\n",
            "1/1 [==============================] - 0s 7ms/step - loss: 3.5658 - mae: 3.5658\n",
            "Epoch 68/100\n",
            "1/1 [==============================] - 0s 6ms/step - loss: 3.5017 - mae: 3.5017\n",
            "Epoch 69/100\n",
            "1/1 [==============================] - 0s 9ms/step - loss: 3.6002 - mae: 3.6002\n",
            "Epoch 70/100\n",
            "1/1 [==============================] - 0s 6ms/step - loss: 3.4186 - mae: 3.4186\n",
            "Epoch 71/100\n",
            "1/1 [==============================] - 0s 11ms/step - loss: 3.6354 - mae: 3.6354\n",
            "Epoch 72/100\n",
            "1/1 [==============================] - 0s 7ms/step - loss: 3.4396 - mae: 3.4396\n",
            "Epoch 73/100\n",
            "1/1 [==============================] - 0s 8ms/step - loss: 3.5821 - mae: 3.5821\n",
            "Epoch 74/100\n",
            "1/1 [==============================] - 0s 8ms/step - loss: 3.5082 - mae: 3.5082\n",
            "Epoch 75/100\n",
            "1/1 [==============================] - 0s 10ms/step - loss: 3.4437 - mae: 3.4437\n",
            "Epoch 76/100\n",
            "1/1 [==============================] - 0s 10ms/step - loss: 3.5437 - mae: 3.5437\n",
            "Epoch 77/100\n",
            "1/1 [==============================] - 0s 10ms/step - loss: 3.3566 - mae: 3.3566\n",
            "Epoch 78/100\n",
            "1/1 [==============================] - 0s 9ms/step - loss: 3.5655 - mae: 3.5655\n",
            "Epoch 79/100\n",
            "1/1 [==============================] - 0s 10ms/step - loss: 3.3915 - mae: 3.3915\n",
            "Epoch 80/100\n",
            "1/1 [==============================] - 0s 6ms/step - loss: 3.4768 - mae: 3.4768\n",
            "Epoch 81/100\n",
            "1/1 [==============================] - 0s 8ms/step - loss: 3.4279 - mae: 3.4279\n",
            "Epoch 82/100\n",
            "1/1 [==============================] - 0s 11ms/step - loss: 3.3867 - mae: 3.3867\n",
            "Epoch 83/100\n",
            "1/1 [==============================] - 0s 8ms/step - loss: 3.5009 - mae: 3.5009\n",
            "Epoch 84/100\n",
            "1/1 [==============================] - 0s 10ms/step - loss: 3.3110 - mae: 3.3110\n",
            "Epoch 85/100\n",
            "1/1 [==============================] - 0s 8ms/step - loss: 3.4862 - mae: 3.4862\n",
            "Epoch 86/100\n",
            "1/1 [==============================] - 0s 11ms/step - loss: 3.3464 - mae: 3.3464\n",
            "Epoch 87/100\n",
            "1/1 [==============================] - 0s 7ms/step - loss: 3.3924 - mae: 3.3924\n",
            "Epoch 88/100\n",
            "1/1 [==============================] - 0s 15ms/step - loss: 3.3838 - mae: 3.3838\n",
            "Epoch 89/100\n",
            "1/1 [==============================] - 0s 8ms/step - loss: 3.2949 - mae: 3.2949\n",
            "Epoch 90/100\n",
            "1/1 [==============================] - 0s 8ms/step - loss: 3.4233 - mae: 3.4233\n",
            "Epoch 91/100\n",
            "1/1 [==============================] - 0s 10ms/step - loss: 3.2376 - mae: 3.2376\n",
            "Epoch 92/100\n",
            "1/1 [==============================] - 0s 9ms/step - loss: 3.4085 - mae: 3.4085\n",
            "Epoch 93/100\n",
            "1/1 [==============================] - 0s 12ms/step - loss: 3.3088 - mae: 3.3088\n",
            "Epoch 94/100\n",
            "1/1 [==============================] - 0s 8ms/step - loss: 3.2871 - mae: 3.2871\n",
            "Epoch 95/100\n",
            "1/1 [==============================] - 0s 10ms/step - loss: 3.3484 - mae: 3.3484\n",
            "Epoch 96/100\n",
            "1/1 [==============================] - 0s 9ms/step - loss: 3.1839 - mae: 3.1839\n",
            "Epoch 97/100\n",
            "1/1 [==============================] - 0s 11ms/step - loss: 3.3897 - mae: 3.3897\n",
            "Epoch 98/100\n",
            "1/1 [==============================] - 0s 9ms/step - loss: 3.2021 - mae: 3.2021\n",
            "Epoch 99/100\n",
            "1/1 [==============================] - 0s 10ms/step - loss: 3.2938 - mae: 3.2938\n",
            "Epoch 100/100\n",
            "1/1 [==============================] - 0s 9ms/step - loss: 3.2425 - mae: 3.2425\n"
          ]
        },
        {
          "output_type": "execute_result",
          "data": {
            "text/plain": [
              "<keras.callbacks.History at 0x7fe1957e8190>"
            ]
          },
          "metadata": {},
          "execution_count": 98
        }
      ]
    },
    {
      "cell_type": "code",
      "source": [
        ""
      ],
      "metadata": {
        "id": "9MTGmlrNEgx0"
      },
      "execution_count": null,
      "outputs": []
    }
  ]
}