{
  "nbformat": 4,
  "nbformat_minor": 0,
  "metadata": {
    "colab": {
      "name": "car-sales",
      "provenance": [],
      "authorship_tag": "ABX9TyNBJzdWGXMYZQuAVxVEtyUQ",
      "include_colab_link": true
    },
    "kernelspec": {
      "name": "python3",
      "display_name": "Python 3"
    },
    "language_info": {
      "name": "python"
    },
    "accelerator": "GPU"
  },
  "cells": [
    {
      "cell_type": "markdown",
      "metadata": {
        "id": "view-in-github",
        "colab_type": "text"
      },
      "source": [
        "<a href=\"https://colab.research.google.com/github/moimigueldev/tensorflow-ztm/blob/main/car-sales/car_sales.ipynb\" target=\"_parent\"><img src=\"https://colab.research.google.com/assets/colab-badge.svg\" alt=\"Open In Colab\"/></a>"
      ]
    },
    {
      "cell_type": "markdown",
      "source": [
        "# Goal \n",
        "\n",
        "* Predict car sales price using Neaural Networks\n",
        "\n",
        "[Link to the dataset from kaggle](https://www.kaggle.com/datasets/gagandeep16/car-sales?select=Car_sales.csv)"
      ],
      "metadata": {
        "id": "KYbflsb-TwFu"
      }
    },
    {
      "cell_type": "code",
      "source": [
        "import pandas as pd\n",
        "import numpy as np\n",
        "import tensorflow as tf\n",
        "import matplotlib.pyplot as plt\n",
        "import seaborn as sns\n"
      ],
      "metadata": {
        "id": "bhNKevFKUcXx"
      },
      "execution_count": 58,
      "outputs": []
    },
    {
      "cell_type": "markdown",
      "source": [
        "# Import & Analyse Data"
      ],
      "metadata": {
        "id": "k4AN8NFaXzD3"
      }
    },
    {
      "cell_type": "code",
      "source": [
        "\n",
        "!wget https://raw.githubusercontent.com/moimigueldev/tensorflow-ztm/main/datasets/car-sales/car-sales.csv"
      ],
      "metadata": {
        "colab": {
          "base_uri": "https://localhost:8080/"
        },
        "id": "mnx5dsj-UmXS",
        "outputId": "1b5cce66-a71a-4a0b-a747-7208aec6d722"
      },
      "execution_count": 59,
      "outputs": [
        {
          "output_type": "stream",
          "name": "stdout",
          "text": [
            "--2022-05-18 09:54:00--  https://raw.githubusercontent.com/moimigueldev/tensorflow-ztm/main/datasets/car-sales/car-sales.csv\n",
            "Resolving raw.githubusercontent.com (raw.githubusercontent.com)... 185.199.108.133, 185.199.109.133, 185.199.110.133, ...\n",
            "Connecting to raw.githubusercontent.com (raw.githubusercontent.com)|185.199.108.133|:443... connected.\n",
            "HTTP request sent, awaiting response... 200 OK\n",
            "Length: 16018 (16K) [text/plain]\n",
            "Saving to: ‘car-sales.csv.4’\n",
            "\n",
            "\rcar-sales.csv.4       0%[                    ]       0  --.-KB/s               \rcar-sales.csv.4     100%[===================>]  15.64K  --.-KB/s    in 0s      \n",
            "\n",
            "2022-05-18 09:54:00 (111 MB/s) - ‘car-sales.csv.4’ saved [16018/16018]\n",
            "\n"
          ]
        }
      ]
    },
    {
      "cell_type": "code",
      "source": [
        "df = pd.read_csv('car-sales.csv')\n",
        "df"
      ],
      "metadata": {
        "colab": {
          "base_uri": "https://localhost:8080/",
          "height": 488
        },
        "id": "Nei-AA9QUzDL",
        "outputId": "21ce3dee-2fa8-4422-eda8-29a7515a3dbf"
      },
      "execution_count": 60,
      "outputs": [
        {
          "output_type": "execute_result",
          "data": {
            "text/plain": [
              "    Manufacturer    Model  Sales_in_thousands  __year_resale_value  \\\n",
              "0          Acura  Integra              16.919               16.360   \n",
              "1          Acura       TL              39.384               19.875   \n",
              "2          Acura       CL              14.114               18.225   \n",
              "3          Acura       RL               8.588               29.725   \n",
              "4           Audi       A4              20.397               22.255   \n",
              "..           ...      ...                 ...                  ...   \n",
              "152        Volvo      V40               3.545                  NaN   \n",
              "153        Volvo      S70              15.245                  NaN   \n",
              "154        Volvo      V70              17.531                  NaN   \n",
              "155        Volvo      C70               3.493                  NaN   \n",
              "156        Volvo      S80              18.969                  NaN   \n",
              "\n",
              "    Vehicle_type  Price_in_thousands  Engine_size  Horsepower  Wheelbase  \\\n",
              "0      Passenger               21.50          1.8       140.0      101.2   \n",
              "1      Passenger               28.40          3.2       225.0      108.1   \n",
              "2      Passenger                 NaN          3.2       225.0      106.9   \n",
              "3      Passenger               42.00          3.5       210.0      114.6   \n",
              "4      Passenger               23.99          1.8       150.0      102.6   \n",
              "..           ...                 ...          ...         ...        ...   \n",
              "152    Passenger               24.40          1.9       160.0      100.5   \n",
              "153    Passenger               27.50          2.4       168.0      104.9   \n",
              "154    Passenger               28.80          2.4       168.0      104.9   \n",
              "155    Passenger               45.50          2.3       236.0      104.9   \n",
              "156    Passenger               36.00          2.9       201.0      109.9   \n",
              "\n",
              "     Width  Length  Curb_weight  Fuel_capacity  Fuel_efficiency Latest_Launch  \\\n",
              "0     67.3   172.4        2.639           13.2             28.0      2/2/2012   \n",
              "1     70.3   192.9        3.517           17.2             25.0      6/3/2011   \n",
              "2     70.6   192.0        3.470           17.2             26.0      1/4/2012   \n",
              "3     71.4   196.6        3.850           18.0             22.0     3/10/2011   \n",
              "4     68.2   178.0        2.998           16.4             27.0     10/8/2011   \n",
              "..     ...     ...          ...            ...              ...           ...   \n",
              "152   67.6   176.6        3.042           15.8             25.0     9/21/2011   \n",
              "153   69.3   185.9        3.208           17.9             25.0    11/24/2012   \n",
              "154   69.3   186.2        3.259           17.9             25.0     6/25/2011   \n",
              "155   71.5   185.7        3.601           18.5             23.0     4/26/2011   \n",
              "156   72.1   189.8        3.600           21.1             24.0    11/14/2011   \n",
              "\n",
              "     Power_perf_factor  \n",
              "0            58.280150  \n",
              "1            91.370778  \n",
              "2                  NaN  \n",
              "3            91.389779  \n",
              "4            62.777639  \n",
              "..                 ...  \n",
              "152          66.498812  \n",
              "153          70.654495  \n",
              "154          71.155978  \n",
              "155         101.623357  \n",
              "156          85.735655  \n",
              "\n",
              "[157 rows x 16 columns]"
            ],
            "text/html": [
              "\n",
              "  <div id=\"df-d90dac96-2b40-449c-ae71-67d42327bf12\">\n",
              "    <div class=\"colab-df-container\">\n",
              "      <div>\n",
              "<style scoped>\n",
              "    .dataframe tbody tr th:only-of-type {\n",
              "        vertical-align: middle;\n",
              "    }\n",
              "\n",
              "    .dataframe tbody tr th {\n",
              "        vertical-align: top;\n",
              "    }\n",
              "\n",
              "    .dataframe thead th {\n",
              "        text-align: right;\n",
              "    }\n",
              "</style>\n",
              "<table border=\"1\" class=\"dataframe\">\n",
              "  <thead>\n",
              "    <tr style=\"text-align: right;\">\n",
              "      <th></th>\n",
              "      <th>Manufacturer</th>\n",
              "      <th>Model</th>\n",
              "      <th>Sales_in_thousands</th>\n",
              "      <th>__year_resale_value</th>\n",
              "      <th>Vehicle_type</th>\n",
              "      <th>Price_in_thousands</th>\n",
              "      <th>Engine_size</th>\n",
              "      <th>Horsepower</th>\n",
              "      <th>Wheelbase</th>\n",
              "      <th>Width</th>\n",
              "      <th>Length</th>\n",
              "      <th>Curb_weight</th>\n",
              "      <th>Fuel_capacity</th>\n",
              "      <th>Fuel_efficiency</th>\n",
              "      <th>Latest_Launch</th>\n",
              "      <th>Power_perf_factor</th>\n",
              "    </tr>\n",
              "  </thead>\n",
              "  <tbody>\n",
              "    <tr>\n",
              "      <th>0</th>\n",
              "      <td>Acura</td>\n",
              "      <td>Integra</td>\n",
              "      <td>16.919</td>\n",
              "      <td>16.360</td>\n",
              "      <td>Passenger</td>\n",
              "      <td>21.50</td>\n",
              "      <td>1.8</td>\n",
              "      <td>140.0</td>\n",
              "      <td>101.2</td>\n",
              "      <td>67.3</td>\n",
              "      <td>172.4</td>\n",
              "      <td>2.639</td>\n",
              "      <td>13.2</td>\n",
              "      <td>28.0</td>\n",
              "      <td>2/2/2012</td>\n",
              "      <td>58.280150</td>\n",
              "    </tr>\n",
              "    <tr>\n",
              "      <th>1</th>\n",
              "      <td>Acura</td>\n",
              "      <td>TL</td>\n",
              "      <td>39.384</td>\n",
              "      <td>19.875</td>\n",
              "      <td>Passenger</td>\n",
              "      <td>28.40</td>\n",
              "      <td>3.2</td>\n",
              "      <td>225.0</td>\n",
              "      <td>108.1</td>\n",
              "      <td>70.3</td>\n",
              "      <td>192.9</td>\n",
              "      <td>3.517</td>\n",
              "      <td>17.2</td>\n",
              "      <td>25.0</td>\n",
              "      <td>6/3/2011</td>\n",
              "      <td>91.370778</td>\n",
              "    </tr>\n",
              "    <tr>\n",
              "      <th>2</th>\n",
              "      <td>Acura</td>\n",
              "      <td>CL</td>\n",
              "      <td>14.114</td>\n",
              "      <td>18.225</td>\n",
              "      <td>Passenger</td>\n",
              "      <td>NaN</td>\n",
              "      <td>3.2</td>\n",
              "      <td>225.0</td>\n",
              "      <td>106.9</td>\n",
              "      <td>70.6</td>\n",
              "      <td>192.0</td>\n",
              "      <td>3.470</td>\n",
              "      <td>17.2</td>\n",
              "      <td>26.0</td>\n",
              "      <td>1/4/2012</td>\n",
              "      <td>NaN</td>\n",
              "    </tr>\n",
              "    <tr>\n",
              "      <th>3</th>\n",
              "      <td>Acura</td>\n",
              "      <td>RL</td>\n",
              "      <td>8.588</td>\n",
              "      <td>29.725</td>\n",
              "      <td>Passenger</td>\n",
              "      <td>42.00</td>\n",
              "      <td>3.5</td>\n",
              "      <td>210.0</td>\n",
              "      <td>114.6</td>\n",
              "      <td>71.4</td>\n",
              "      <td>196.6</td>\n",
              "      <td>3.850</td>\n",
              "      <td>18.0</td>\n",
              "      <td>22.0</td>\n",
              "      <td>3/10/2011</td>\n",
              "      <td>91.389779</td>\n",
              "    </tr>\n",
              "    <tr>\n",
              "      <th>4</th>\n",
              "      <td>Audi</td>\n",
              "      <td>A4</td>\n",
              "      <td>20.397</td>\n",
              "      <td>22.255</td>\n",
              "      <td>Passenger</td>\n",
              "      <td>23.99</td>\n",
              "      <td>1.8</td>\n",
              "      <td>150.0</td>\n",
              "      <td>102.6</td>\n",
              "      <td>68.2</td>\n",
              "      <td>178.0</td>\n",
              "      <td>2.998</td>\n",
              "      <td>16.4</td>\n",
              "      <td>27.0</td>\n",
              "      <td>10/8/2011</td>\n",
              "      <td>62.777639</td>\n",
              "    </tr>\n",
              "    <tr>\n",
              "      <th>...</th>\n",
              "      <td>...</td>\n",
              "      <td>...</td>\n",
              "      <td>...</td>\n",
              "      <td>...</td>\n",
              "      <td>...</td>\n",
              "      <td>...</td>\n",
              "      <td>...</td>\n",
              "      <td>...</td>\n",
              "      <td>...</td>\n",
              "      <td>...</td>\n",
              "      <td>...</td>\n",
              "      <td>...</td>\n",
              "      <td>...</td>\n",
              "      <td>...</td>\n",
              "      <td>...</td>\n",
              "      <td>...</td>\n",
              "    </tr>\n",
              "    <tr>\n",
              "      <th>152</th>\n",
              "      <td>Volvo</td>\n",
              "      <td>V40</td>\n",
              "      <td>3.545</td>\n",
              "      <td>NaN</td>\n",
              "      <td>Passenger</td>\n",
              "      <td>24.40</td>\n",
              "      <td>1.9</td>\n",
              "      <td>160.0</td>\n",
              "      <td>100.5</td>\n",
              "      <td>67.6</td>\n",
              "      <td>176.6</td>\n",
              "      <td>3.042</td>\n",
              "      <td>15.8</td>\n",
              "      <td>25.0</td>\n",
              "      <td>9/21/2011</td>\n",
              "      <td>66.498812</td>\n",
              "    </tr>\n",
              "    <tr>\n",
              "      <th>153</th>\n",
              "      <td>Volvo</td>\n",
              "      <td>S70</td>\n",
              "      <td>15.245</td>\n",
              "      <td>NaN</td>\n",
              "      <td>Passenger</td>\n",
              "      <td>27.50</td>\n",
              "      <td>2.4</td>\n",
              "      <td>168.0</td>\n",
              "      <td>104.9</td>\n",
              "      <td>69.3</td>\n",
              "      <td>185.9</td>\n",
              "      <td>3.208</td>\n",
              "      <td>17.9</td>\n",
              "      <td>25.0</td>\n",
              "      <td>11/24/2012</td>\n",
              "      <td>70.654495</td>\n",
              "    </tr>\n",
              "    <tr>\n",
              "      <th>154</th>\n",
              "      <td>Volvo</td>\n",
              "      <td>V70</td>\n",
              "      <td>17.531</td>\n",
              "      <td>NaN</td>\n",
              "      <td>Passenger</td>\n",
              "      <td>28.80</td>\n",
              "      <td>2.4</td>\n",
              "      <td>168.0</td>\n",
              "      <td>104.9</td>\n",
              "      <td>69.3</td>\n",
              "      <td>186.2</td>\n",
              "      <td>3.259</td>\n",
              "      <td>17.9</td>\n",
              "      <td>25.0</td>\n",
              "      <td>6/25/2011</td>\n",
              "      <td>71.155978</td>\n",
              "    </tr>\n",
              "    <tr>\n",
              "      <th>155</th>\n",
              "      <td>Volvo</td>\n",
              "      <td>C70</td>\n",
              "      <td>3.493</td>\n",
              "      <td>NaN</td>\n",
              "      <td>Passenger</td>\n",
              "      <td>45.50</td>\n",
              "      <td>2.3</td>\n",
              "      <td>236.0</td>\n",
              "      <td>104.9</td>\n",
              "      <td>71.5</td>\n",
              "      <td>185.7</td>\n",
              "      <td>3.601</td>\n",
              "      <td>18.5</td>\n",
              "      <td>23.0</td>\n",
              "      <td>4/26/2011</td>\n",
              "      <td>101.623357</td>\n",
              "    </tr>\n",
              "    <tr>\n",
              "      <th>156</th>\n",
              "      <td>Volvo</td>\n",
              "      <td>S80</td>\n",
              "      <td>18.969</td>\n",
              "      <td>NaN</td>\n",
              "      <td>Passenger</td>\n",
              "      <td>36.00</td>\n",
              "      <td>2.9</td>\n",
              "      <td>201.0</td>\n",
              "      <td>109.9</td>\n",
              "      <td>72.1</td>\n",
              "      <td>189.8</td>\n",
              "      <td>3.600</td>\n",
              "      <td>21.1</td>\n",
              "      <td>24.0</td>\n",
              "      <td>11/14/2011</td>\n",
              "      <td>85.735655</td>\n",
              "    </tr>\n",
              "  </tbody>\n",
              "</table>\n",
              "<p>157 rows × 16 columns</p>\n",
              "</div>\n",
              "      <button class=\"colab-df-convert\" onclick=\"convertToInteractive('df-d90dac96-2b40-449c-ae71-67d42327bf12')\"\n",
              "              title=\"Convert this dataframe to an interactive table.\"\n",
              "              style=\"display:none;\">\n",
              "        \n",
              "  <svg xmlns=\"http://www.w3.org/2000/svg\" height=\"24px\"viewBox=\"0 0 24 24\"\n",
              "       width=\"24px\">\n",
              "    <path d=\"M0 0h24v24H0V0z\" fill=\"none\"/>\n",
              "    <path d=\"M18.56 5.44l.94 2.06.94-2.06 2.06-.94-2.06-.94-.94-2.06-.94 2.06-2.06.94zm-11 1L8.5 8.5l.94-2.06 2.06-.94-2.06-.94L8.5 2.5l-.94 2.06-2.06.94zm10 10l.94 2.06.94-2.06 2.06-.94-2.06-.94-.94-2.06-.94 2.06-2.06.94z\"/><path d=\"M17.41 7.96l-1.37-1.37c-.4-.4-.92-.59-1.43-.59-.52 0-1.04.2-1.43.59L10.3 9.45l-7.72 7.72c-.78.78-.78 2.05 0 2.83L4 21.41c.39.39.9.59 1.41.59.51 0 1.02-.2 1.41-.59l7.78-7.78 2.81-2.81c.8-.78.8-2.07 0-2.86zM5.41 20L4 18.59l7.72-7.72 1.47 1.35L5.41 20z\"/>\n",
              "  </svg>\n",
              "      </button>\n",
              "      \n",
              "  <style>\n",
              "    .colab-df-container {\n",
              "      display:flex;\n",
              "      flex-wrap:wrap;\n",
              "      gap: 12px;\n",
              "    }\n",
              "\n",
              "    .colab-df-convert {\n",
              "      background-color: #E8F0FE;\n",
              "      border: none;\n",
              "      border-radius: 50%;\n",
              "      cursor: pointer;\n",
              "      display: none;\n",
              "      fill: #1967D2;\n",
              "      height: 32px;\n",
              "      padding: 0 0 0 0;\n",
              "      width: 32px;\n",
              "    }\n",
              "\n",
              "    .colab-df-convert:hover {\n",
              "      background-color: #E2EBFA;\n",
              "      box-shadow: 0px 1px 2px rgba(60, 64, 67, 0.3), 0px 1px 3px 1px rgba(60, 64, 67, 0.15);\n",
              "      fill: #174EA6;\n",
              "    }\n",
              "\n",
              "    [theme=dark] .colab-df-convert {\n",
              "      background-color: #3B4455;\n",
              "      fill: #D2E3FC;\n",
              "    }\n",
              "\n",
              "    [theme=dark] .colab-df-convert:hover {\n",
              "      background-color: #434B5C;\n",
              "      box-shadow: 0px 1px 3px 1px rgba(0, 0, 0, 0.15);\n",
              "      filter: drop-shadow(0px 1px 2px rgba(0, 0, 0, 0.3));\n",
              "      fill: #FFFFFF;\n",
              "    }\n",
              "  </style>\n",
              "\n",
              "      <script>\n",
              "        const buttonEl =\n",
              "          document.querySelector('#df-d90dac96-2b40-449c-ae71-67d42327bf12 button.colab-df-convert');\n",
              "        buttonEl.style.display =\n",
              "          google.colab.kernel.accessAllowed ? 'block' : 'none';\n",
              "\n",
              "        async function convertToInteractive(key) {\n",
              "          const element = document.querySelector('#df-d90dac96-2b40-449c-ae71-67d42327bf12');\n",
              "          const dataTable =\n",
              "            await google.colab.kernel.invokeFunction('convertToInteractive',\n",
              "                                                     [key], {});\n",
              "          if (!dataTable) return;\n",
              "\n",
              "          const docLinkHtml = 'Like what you see? Visit the ' +\n",
              "            '<a target=\"_blank\" href=https://colab.research.google.com/notebooks/data_table.ipynb>data table notebook</a>'\n",
              "            + ' to learn more about interactive tables.';\n",
              "          element.innerHTML = '';\n",
              "          dataTable['output_type'] = 'display_data';\n",
              "          await google.colab.output.renderOutput(dataTable, element);\n",
              "          const docLink = document.createElement('div');\n",
              "          docLink.innerHTML = docLinkHtml;\n",
              "          element.appendChild(docLink);\n",
              "        }\n",
              "      </script>\n",
              "    </div>\n",
              "  </div>\n",
              "  "
            ]
          },
          "metadata": {},
          "execution_count": 60
        }
      ]
    },
    {
      "cell_type": "code",
      "source": [
        "categorical = [x for x in df.columns if df[x].dtype == 'O']\n",
        "numerical = [x for x in df.columns if df[x].dtype != 'O']\n",
        "categorical, numerical"
      ],
      "metadata": {
        "colab": {
          "base_uri": "https://localhost:8080/"
        },
        "id": "9RTPkIz6U93v",
        "outputId": "59e1a5bf-433a-4c58-9fae-c1aabec1ded9"
      },
      "execution_count": 61,
      "outputs": [
        {
          "output_type": "execute_result",
          "data": {
            "text/plain": [
              "(['Manufacturer', 'Model', 'Vehicle_type', 'Latest_Launch'],\n",
              " ['Sales_in_thousands',\n",
              "  '__year_resale_value',\n",
              "  'Price_in_thousands',\n",
              "  'Engine_size',\n",
              "  'Horsepower',\n",
              "  'Wheelbase',\n",
              "  'Width',\n",
              "  'Length',\n",
              "  'Curb_weight',\n",
              "  'Fuel_capacity',\n",
              "  'Fuel_efficiency',\n",
              "  'Power_perf_factor'])"
            ]
          },
          "metadata": {},
          "execution_count": 61
        }
      ]
    },
    {
      "cell_type": "markdown",
      "source": [
        "## Explore Categorical Data\n",
        "\n",
        "Since we have less categorical data. Let's explore it first"
      ],
      "metadata": {
        "id": "oc41I-ibVMng"
      }
    },
    {
      "cell_type": "code",
      "source": [
        "df[categorical].info()"
      ],
      "metadata": {
        "colab": {
          "base_uri": "https://localhost:8080/"
        },
        "id": "BK5sn2U0V0sG",
        "outputId": "3cd9fd45-ab61-459d-c9cd-5d663d32ff22"
      },
      "execution_count": 62,
      "outputs": [
        {
          "output_type": "stream",
          "name": "stdout",
          "text": [
            "<class 'pandas.core.frame.DataFrame'>\n",
            "RangeIndex: 157 entries, 0 to 156\n",
            "Data columns (total 4 columns):\n",
            " #   Column         Non-Null Count  Dtype \n",
            "---  ------         --------------  ----- \n",
            " 0   Manufacturer   157 non-null    object\n",
            " 1   Model          157 non-null    object\n",
            " 2   Vehicle_type   157 non-null    object\n",
            " 3   Latest_Launch  157 non-null    object\n",
            "dtypes: object(4)\n",
            "memory usage: 5.0+ KB\n"
          ]
        }
      ]
    },
    {
      "cell_type": "code",
      "source": [
        "# Convert all categorical data except for the date column to lowercase for better analysis\n",
        "for x in categorical:\n",
        "  if x != 'Latest_Launch':\n",
        "    df[x] = df[x].str.lower()"
      ],
      "metadata": {
        "id": "ZHgzApo-V4Ok"
      },
      "execution_count": 63,
      "outputs": []
    },
    {
      "cell_type": "code",
      "source": [
        "for x in categorical:\n",
        "  print(x, df[x].unique())\n",
        "  print('\\n')"
      ],
      "metadata": {
        "colab": {
          "base_uri": "https://localhost:8080/"
        },
        "id": "5872Jnu2WET6",
        "outputId": "549e702f-3df7-45eb-9ace-d8c7d04766cd"
      },
      "execution_count": 64,
      "outputs": [
        {
          "output_type": "stream",
          "name": "stdout",
          "text": [
            "Manufacturer ['acura' 'audi' 'bmw' 'buick' 'cadillac' 'chevrolet' 'chrysler' 'dodge'\n",
            " 'ford' 'honda' 'hyundai' 'infiniti' 'jaguar' 'jeep' 'lexus' 'lincoln'\n",
            " 'mitsubishi' 'mercury' 'mercedes-b' 'nissan' 'oldsmobile' 'plymouth'\n",
            " 'pontiac' 'porsche' 'saab' 'saturn' 'subaru' 'toyota' 'volkswagen'\n",
            " 'volvo']\n",
            "\n",
            "\n",
            "Model ['integra' 'tl' 'cl' 'rl' 'a4' 'a6' 'a8' '323i' '328i' '528i' 'century'\n",
            " 'regal' 'park avenue' 'lesabre' 'deville' 'seville' 'eldorado' 'catera'\n",
            " 'escalade' 'cavalier' 'malibu' 'lumina' 'monte carlo' 'camaro' 'corvette'\n",
            " 'prizm' 'metro' 'impala' 'sebring coupe' 'sebring conv.' 'concorde'\n",
            " 'cirrus' 'lhs' 'town & country' '300m' 'neon' 'avenger' 'stratus'\n",
            " 'intrepid' 'viper' 'ram pickup' 'ram wagon' 'ram van' 'dakota' 'durango'\n",
            " 'caravan' 'escort' 'mustang' 'contour' 'taurus' 'focus' 'crown victoria'\n",
            " 'explorer' 'windstar' 'expedition' 'ranger' 'f-series' 'civic' 'accord'\n",
            " 'cr-v' 'passport' 'odyssey' 'accent' 'elantra' 'sonata' 'i30' 's-type'\n",
            " 'wrangler' 'cherokee' 'grand cherokee' 'es300' 'gs300' 'gs400' 'ls400'\n",
            " 'lx470' 'rx300' 'continental' 'town car' 'navigator' 'mirage' 'eclipse'\n",
            " 'galant' 'diamante' '3000gt' 'montero' 'montero sport' 'mystique'\n",
            " 'cougar' 'sable' 'grand marquis' 'mountaineer' 'villager' 'c-class'\n",
            " 'e-class' 's-class' 'sl-class' 'slk' 'slk230' 'clk coupe' 'cl500'\n",
            " 'm-class' 'sentra' 'altima' 'maxima' 'quest' 'pathfinder' 'xterra'\n",
            " 'frontier' 'cutlass' 'intrigue' 'alero' 'aurora' 'bravada' 'silhouette'\n",
            " 'breeze' 'voyager' 'prowler' 'sunfire' 'grand am' 'firebird' 'grand prix'\n",
            " 'bonneville' 'montana' 'boxter' 'carrera coupe' 'carrera cabrio' '5-sep'\n",
            " '3-sep' 'sl' 'sc' 'sw' 'lw' 'ls' 'outback' 'forester' 'corolla' 'camry'\n",
            " 'avalon' 'celica' 'tacoma' 'sienna' 'rav4' '4runner' 'land cruiser'\n",
            " 'golf' 'jetta' 'passat' 'cabrio' 'gti' 'beetle' 's40' 'v40' 's70' 'v70'\n",
            " 'c70' 's80']\n",
            "\n",
            "\n",
            "Vehicle_type ['passenger' 'car']\n",
            "\n",
            "\n",
            "Latest_Launch ['2/2/2012' '6/3/2011' '1/4/2012' '3/10/2011' '10/8/2011' '8/9/2011'\n",
            " '2/27/2012' '6/28/2011' '1/29/2012' '4/4/2011' '11/2/2011' '9/3/2011'\n",
            " '3/23/2012' '7/23/2011' '2/23/2012' '4/29/2011' '11/27/2011' '9/28/2011'\n",
            " '4/17/2012' '8/17/2011' '3/19/2012' '5/24/2011' '12/22/2011' '10/23/2011'\n",
            " '5/12/2012' '9/11/2011' '4/13/2012' '6/18/2011' '1/16/2012' '11/17/2011'\n",
            " '6/6/2012' '10/6/2011' '5/8/2012' '7/13/2011' '2/10/2012' '12/12/2011'\n",
            " '7/1/2012' '10/31/2011' '6/2/2012' '8/7/2011' '3/6/2012' '1/6/2012'\n",
            " '7/26/2012' '11/25/2011' '6/27/2012' '9/1/2011' '3/31/2012' '1/31/2012'\n",
            " '8/20/2012' '12/20/2011' '7/22/2012' '9/26/2011' '4/25/2012' '2/25/2012'\n",
            " '9/14/2012' '1/14/2012' '8/16/2012' '10/21/2011' '5/20/2012' '3/21/2012'\n",
            " '10/9/2012' '2/8/2012' '9/10/2012' '11/15/2011' '6/14/2012' '4/15/2012'\n",
            " '11/3/2012' '3/4/2012' '10/5/2012' '12/10/2011' '7/9/2012' '5/10/2012'\n",
            " '11/28/2012' '3/29/2012' '10/30/2012' '8/3/2012' '6/4/2012' '12/23/2012'\n",
            " '4/23/2012' '11/24/2012' '8/28/2012' '6/29/2012' '1/17/2012' '5/18/2012'\n",
            " '12/19/2012' '9/22/2012' '7/24/2012' '2/13/2008' '10/20/2009' '4/24/2011'\n",
            " '7/12/2011' '6/13/2011' '3/17/2011' '1/16/2011' '8/6/2011' '7/8/2011'\n",
            " '4/11/2011' '2/10/2011' '8/31/2011' '8/2/2011' '5/6/2011' '3/7/2011'\n",
            " '9/25/2011' '1/24/2011' '8/27/2011' '5/31/2011' '4/1/2011' '2/18/2011'\n",
            " '9/21/2011' '6/25/2011' '4/26/2011' '11/14/2011' '1/25/2012' '11/26/2012'\n",
            " '6/16/2012' '10/15/2012' '5/18/2011' '2/19/2012' '12/21/2012' '7/11/2011'\n",
            " '11/9/2012' '6/12/2011' '3/16/2011' '1/15/2011' '8/5/2011' '12/4/2012'\n",
            " '7/7/2011' '12/29/2012' '8/1/2011' '10/20/2011']\n",
            "\n",
            "\n"
          ]
        }
      ]
    },
    {
      "cell_type": "code",
      "source": [
        "df[categorical].isnull().sum()"
      ],
      "metadata": {
        "colab": {
          "base_uri": "https://localhost:8080/"
        },
        "id": "PuSdlReTXBrm",
        "outputId": "aef362e6-d6c6-4488-83a2-cc379ccee021"
      },
      "execution_count": 65,
      "outputs": [
        {
          "output_type": "execute_result",
          "data": {
            "text/plain": [
              "Manufacturer     0\n",
              "Model            0\n",
              "Vehicle_type     0\n",
              "Latest_Launch    0\n",
              "dtype: int64"
            ]
          },
          "metadata": {},
          "execution_count": 65
        }
      ]
    },
    {
      "cell_type": "markdown",
      "source": [
        "Categorical Data seems to be cleaned with no missing values"
      ],
      "metadata": {
        "id": "x_Ga-8c-XV8O"
      }
    },
    {
      "cell_type": "markdown",
      "source": [
        "## Explore numerical data"
      ],
      "metadata": {
        "id": "_4PLNK1gXsd3"
      }
    },
    {
      "cell_type": "code",
      "source": [
        "df[numerical].isnull().sum()"
      ],
      "metadata": {
        "colab": {
          "base_uri": "https://localhost:8080/"
        },
        "id": "UBwAJD1GXujd",
        "outputId": "152a7584-fb0f-4a70-af07-393beeb54810"
      },
      "execution_count": 66,
      "outputs": [
        {
          "output_type": "execute_result",
          "data": {
            "text/plain": [
              "Sales_in_thousands      0\n",
              "__year_resale_value    36\n",
              "Price_in_thousands      2\n",
              "Engine_size             1\n",
              "Horsepower              1\n",
              "Wheelbase               1\n",
              "Width                   1\n",
              "Length                  1\n",
              "Curb_weight             2\n",
              "Fuel_capacity           1\n",
              "Fuel_efficiency         3\n",
              "Power_perf_factor       2\n",
              "dtype: int64"
            ]
          },
          "metadata": {},
          "execution_count": 66
        }
      ]
    },
    {
      "cell_type": "markdown",
      "source": [
        "Since numerical data has missing values. Let's interpolate the median into the missing spots and then run an IQR assesment to check for outliers"
      ],
      "metadata": {
        "id": "m8YnqtxsX7mf"
      }
    },
    {
      "cell_type": "code",
      "source": [
        "# Replace the missing values with the median\n",
        "for x in numerical:\n",
        "  if df[x].isnull().sum():\n",
        "    df[x].fillna(value=df[x].median(), inplace=True)\n",
        "\n",
        "df[numerical].isnull().sum()"
      ],
      "metadata": {
        "colab": {
          "base_uri": "https://localhost:8080/"
        },
        "id": "o7kpR8cnYX0g",
        "outputId": "77ee3533-e40a-4f67-adc3-d58e50ab04f9"
      },
      "execution_count": 67,
      "outputs": [
        {
          "output_type": "execute_result",
          "data": {
            "text/plain": [
              "Sales_in_thousands     0\n",
              "__year_resale_value    0\n",
              "Price_in_thousands     0\n",
              "Engine_size            0\n",
              "Horsepower             0\n",
              "Wheelbase              0\n",
              "Width                  0\n",
              "Length                 0\n",
              "Curb_weight            0\n",
              "Fuel_capacity          0\n",
              "Fuel_efficiency        0\n",
              "Power_perf_factor      0\n",
              "dtype: int64"
            ]
          },
          "metadata": {},
          "execution_count": 67
        }
      ]
    },
    {
      "cell_type": "code",
      "source": [
        "# Functions to apply the assesment of the IQR assesment\n",
        "def max_value(df2, variable, top):\n",
        "    return np.where(df2[variable] > top, top, df2[variable])\n",
        "\n",
        "def min_value(df2, variable, top):\n",
        "    return np.where(df2[variable] < top, top, df2[variable])\n"
      ],
      "metadata": {
        "id": "aQ5GLstCZnf-"
      },
      "execution_count": 68,
      "outputs": []
    },
    {
      "cell_type": "code",
      "source": [
        "# Run IQR assesment to check and cap outliers (low & high)\n",
        "outliers_max = {}\n",
        "outliers_min = {}\n",
        "for x in df[numerical]:\n",
        "  IQR = df[x].quantile(0.75) - df[x].quantile(0.25)\n",
        "  Lower_fence = df[x].quantile(0.25) - (IQR * 3)\n",
        "  Upper_fence = df[x].quantile(0.75) + (IQR * 3)\n",
        "  \n",
        "  print('min', df[x].min(), 'max', df[x].max())\n",
        "  print('{name} outliers are values < {lowerboundary} or > {upperboundary} \\n'.format(\n",
        "  name=x, lowerboundary=Lower_fence, upperboundary=Upper_fence))\n",
        "  outliers_max[x] = Upper_fence\n",
        "  outliers_min[x] = Lower_fence\n",
        "\n"
      ],
      "metadata": {
        "colab": {
          "base_uri": "https://localhost:8080/"
        },
        "id": "-A7USDJBZFMz",
        "outputId": "e3eb621e-54b8-4a33-a6f7-764a80fac186"
      },
      "execution_count": 69,
      "outputs": [
        {
          "output_type": "stream",
          "name": "stdout",
          "text": [
            "min 0.11 max 540.561\n",
            "Sales_in_thousands outliers are values < -147.412 or > 229.48200000000003 \n",
            "\n",
            "min 5.16 max 67.55\n",
            "__year_resale_value outliers are values < -4.240000000000004 or > 34.925000000000004 \n",
            "\n",
            "min 9.235 max 85.5\n",
            "Price_in_thousands outliers are values < -23.210000000000004 or > 73.285 \n",
            "\n",
            "min 1.0 max 8.0\n",
            "Engine_size outliers are values < -1.3000000000000007 or > 7.1000000000000005 \n",
            "\n",
            "min 55.0 max 450.0\n",
            "Horsepower outliers are values < -45.0 or > 410.0 \n",
            "\n",
            "min 92.6 max 138.7\n",
            "Wheelbase outliers are values < 75.39999999999999 or > 139.8 \n",
            "\n",
            "min 62.6 max 79.9\n",
            "Width outliers are values < 53.400000000000006 or > 88.4 \n",
            "\n",
            "min 149.4 max 224.5\n",
            "Length outliers are values < 122.1 or > 251.6 \n",
            "\n",
            "min 1.895 max 5.572\n",
            "Curb_weight outliers are values < 0.5660000000000003 or > 6.186999999999999 \n",
            "\n",
            "min 10.3 max 32.0\n",
            "Fuel_capacity outliers are values < 4.700000000000003 or > 30.599999999999998 \n",
            "\n",
            "min 15.0 max 45.0\n",
            "Fuel_efficiency outliers are values < 6.0 or > 41.0 \n",
            "\n",
            "min 23.27627233 max 188.144323\n",
            "Power_perf_factor outliers are values < -25.296016469999984 or > 175.42539812999996 \n",
            "\n"
          ]
        }
      ]
    },
    {
      "cell_type": "markdown",
      "source": [
        "Using IQR we can see that the numerical has a lot of outliers. Let's remove them"
      ],
      "metadata": {
        "id": "ni5gTXMjaMVK"
      }
    },
    {
      "cell_type": "code",
      "source": [
        "# Apply Max to outliers\n",
        "for x in outliers_max:\n",
        "  df[x] = max_value(df, x, outliers_max[x])\n",
        "\n",
        "# Apply min to outliers\n",
        "for x in outliers_min:\n",
        "  df[x] = min_value(df, x, outliers_min[x])"
      ],
      "metadata": {
        "id": "lwGExkX_a1da"
      },
      "execution_count": 70,
      "outputs": []
    },
    {
      "cell_type": "code",
      "source": [
        "# Horsepower had outliers so lets check for its max now to see if the ourliers were capped.\n",
        "df['Horsepower'].max()"
      ],
      "metadata": {
        "colab": {
          "base_uri": "https://localhost:8080/"
        },
        "id": "nEa1-BSpa8xH",
        "outputId": "8092613d-20e7-4f5a-d6d4-1e5acdcca79f"
      },
      "execution_count": 71,
      "outputs": [
        {
          "output_type": "execute_result",
          "data": {
            "text/plain": [
              "410.0"
            ]
          },
          "metadata": {},
          "execution_count": 71
        }
      ]
    },
    {
      "cell_type": "markdown",
      "source": [
        "## Visualize"
      ],
      "metadata": {
        "id": "_QBbdAqibPQn"
      }
    },
    {
      "cell_type": "code",
      "source": [
        "len(numerical)"
      ],
      "metadata": {
        "colab": {
          "base_uri": "https://localhost:8080/"
        },
        "id": "9Yl2uNFmbVaU",
        "outputId": "0d24912a-7ae0-48e3-cd13-db433753c258"
      },
      "execution_count": 72,
      "outputs": [
        {
          "output_type": "execute_result",
          "data": {
            "text/plain": [
              "12"
            ]
          },
          "metadata": {},
          "execution_count": 72
        }
      ]
    },
    {
      "cell_type": "code",
      "source": [
        "plt.figure(figsize=(25, 10))\n",
        "for i, x in enumerate(numerical):\n",
        "  plt.subplot(4, 3, i+1)\n",
        "  sns.boxplot(x=df[x])\n",
        "  plt.title(f'{x} spread')\n",
        "plt.tight_layout()"
      ],
      "metadata": {
        "colab": {
          "base_uri": "https://localhost:8080/",
          "height": 681
        },
        "id": "GRzThiRFbbRw",
        "outputId": "5adf3ce3-2059-4fd0-c649-87cc2b9624db"
      },
      "execution_count": 73,
      "outputs": [
        {
          "output_type": "display_data",
          "data": {
            "text/plain": [
              "<Figure size 1800x720 with 12 Axes>"
            ],
            "image/png": "[encoded data removed]"
          },
          "metadata": {
            "needs_background": "light"
          }
        }
      ]
    },
    {
      "cell_type": "code",
      "source": [
        "plt.figure(figsize=(25, 10))\n",
        "for i, x in enumerate(numerical):\n",
        "  plt.subplot(4, 3, i+1)\n",
        "  plt.hist(x=df[x])\n",
        "  plt.title(f'{x} spread')\n",
        "plt.tight_layout()"
      ],
      "metadata": {
        "colab": {
          "base_uri": "https://localhost:8080/",
          "height": 681
        },
        "id": "bRQgmCmrbv_-",
        "outputId": "20ca4709-84ab-42b8-c473-d70bc0bb8d37"
      },
      "execution_count": 74,
      "outputs": [
        {
          "output_type": "display_data",
          "data": {
            "text/plain": [
              "<Figure size 1800x720 with 12 Axes>"
            ],
            "image/png": "[encoded data removed]"
          },
          "metadata": {
            "needs_background": "light"
          }
        }
      ]
    },
    {
      "cell_type": "code",
      "source": [
        "# sns.pairplot(df[numerical])"
      ],
      "metadata": {
        "id": "wRFAQCvddRsO"
      },
      "execution_count": 75,
      "outputs": []
    },
    {
      "cell_type": "markdown",
      "source": [
        "Surprisingly a lot of the data is pretty close to having a normal distrubution with some slightly having a right skew. `Sales_in_thousands` & `Price_in_thousands` are the only numerical sets that are heavily right skewed\n"
      ],
      "metadata": {
        "id": "6Plax-WMcmMt"
      }
    },
    {
      "cell_type": "markdown",
      "source": [
        "# Preprocess data\n",
        "\n",
        "The data is ready for our neaural network, but first we need to\n",
        "\n",
        "For the first models we'll remove the date column \n",
        "\n",
        "* split into X, y\n",
        "* create testing and training set\n",
        "* One-hot encode\n"
      ],
      "metadata": {
        "id": "1cjRTefVeQrI"
      }
    },
    {
      "cell_type": "code",
      "source": [
        "from sklearn.model_selection import train_test_split\n",
        "from sklearn.compose import make_column_transformer\n",
        "from sklearn.preprocessing import MinMaxScaler, OneHotEncoder"
      ],
      "metadata": {
        "id": "vrbHC3FEeSZt"
      },
      "execution_count": 76,
      "outputs": []
    },
    {
      "cell_type": "code",
      "source": [
        "df = df.drop(['Latest_Launch'], axis=1)\n",
        "categorical.remove('Latest_Launch')\n",
        "df = pd.get_dummies(df)\n",
        "df.columns"
      ],
      "metadata": {
        "colab": {
          "base_uri": "https://localhost:8080/"
        },
        "id": "vX9wFKVNfCWo",
        "outputId": "4e3595e4-63b5-45bc-a94b-b4348fb8caa7"
      },
      "execution_count": 77,
      "outputs": [
        {
          "output_type": "execute_result",
          "data": {
            "text/plain": [
              "Index(['Sales_in_thousands', '__year_resale_value', 'Price_in_thousands',\n",
              "       'Engine_size', 'Horsepower', 'Wheelbase', 'Width', 'Length',\n",
              "       'Curb_weight', 'Fuel_capacity',\n",
              "       ...\n",
              "       'Model_v40', 'Model_v70', 'Model_villager', 'Model_viper',\n",
              "       'Model_voyager', 'Model_windstar', 'Model_wrangler', 'Model_xterra',\n",
              "       'Vehicle_type_car', 'Vehicle_type_passenger'],\n",
              "      dtype='object', length=200)"
            ]
          },
          "metadata": {},
          "execution_count": 77
        }
      ]
    },
    {
      "cell_type": "code",
      "source": [
        "\n",
        "\n",
        "scaler = MinMaxScaler()\n",
        "\n",
        "X = df.drop(['Sales_in_thousands'], axis=1)\n",
        "y = df.Sales_in_thousands\n",
        "\n",
        "X_train, X_test, y_train, y_test = train_test_split(X, y, test_size=0.2, random_state=42)\n",
        "\n",
        "X_train = scaler.fit_transform(X_train)\n",
        "X_test = scaler.transform(X_test)\n",
        "\n",
        "\n",
        "\n"
      ],
      "metadata": {
        "id": "LjGERMXrfEq2"
      },
      "execution_count": 78,
      "outputs": []
    },
    {
      "cell_type": "code",
      "source": [
        ""
      ],
      "metadata": {
        "colab": {
          "base_uri": "https://localhost:8080/"
        },
        "id": "0C2qstnnlOHD",
        "outputId": "5e01501f-c9bb-4b16-ef6e-745f98d3e2db"
      },
      "execution_count": 79,
      "outputs": [
        {
          "output_type": "execute_result",
          "data": {
            "text/plain": [
              "array([[0.163447  , 0.06046838, 0.13114754, ..., 0.        , 0.        ,\n",
              "        1.        ],\n",
              "       [0.0903746 , 0.04395004, 0.24590164, ..., 0.        , 1.        ,\n",
              "        0.        ],\n",
              "       [1.        , 0.50265418, 0.27868852, ..., 0.        , 0.        ,\n",
              "        1.        ],\n",
              "       ...,\n",
              "       [0.58340333, 0.47868852, 0.59016393, ..., 0.        , 0.        ,\n",
              "        1.        ],\n",
              "       [0.70183101, 0.35152225, 0.21311475, ..., 0.        , 0.        ,\n",
              "        1.        ],\n",
              "       [0.20611456, 0.17416081, 0.2295082 , ..., 0.        , 0.        ,\n",
              "        1.        ]])"
            ]
          },
          "metadata": {},
          "execution_count": 79
        }
      ]
    },
    {
      "cell_type": "code",
      "source": [
        ""
      ],
      "metadata": {
        "colab": {
          "base_uri": "https://localhost:8080/"
        },
        "id": "9lyPXSfulF5I",
        "outputId": "5f56528e-13d7-4ed0-a95d-2b550f253827"
      },
      "execution_count": 35,
      "outputs": [
        {
          "output_type": "execute_result",
          "data": {
            "text/plain": [
              "(     Sales_in_thousands  __year_resale_value  Price_in_thousands  Engine_size  \\\n",
              " 0                16.919               16.360              21.500          1.8   \n",
              " 1                39.384               19.875              28.400          3.2   \n",
              " 2                14.114               18.225              22.799          3.2   \n",
              " 3                 8.588               29.725              42.000          3.5   \n",
              " 4                20.397               22.255              23.990          1.8   \n",
              " ..                  ...                  ...                 ...          ...   \n",
              " 152               3.545               14.180              24.400          1.9   \n",
              " 153              15.245               14.180              27.500          2.4   \n",
              " 154              17.531               14.180              28.800          2.4   \n",
              " 155               3.493               14.180              45.500          2.3   \n",
              " 156              18.969               14.180              36.000          2.9   \n",
              " \n",
              "      Horsepower  Wheelbase  Width  Length  Curb_weight  Fuel_capacity  ...  \\\n",
              " 0         140.0      101.2   67.3   172.4        2.639           13.2  ...   \n",
              " 1         225.0      108.1   70.3   192.9        3.517           17.2  ...   \n",
              " 2         225.0      106.9   70.6   192.0        3.470           17.2  ...   \n",
              " 3         210.0      114.6   71.4   196.6        3.850           18.0  ...   \n",
              " 4         150.0      102.6   68.2   178.0        2.998           16.4  ...   \n",
              " ..          ...        ...    ...     ...          ...            ...  ...   \n",
              " 152       160.0      100.5   67.6   176.6        3.042           15.8  ...   \n",
              " 153       168.0      104.9   69.3   185.9        3.208           17.9  ...   \n",
              " 154       168.0      104.9   69.3   186.2        3.259           17.9  ...   \n",
              " 155       236.0      104.9   71.5   185.7        3.601           18.5  ...   \n",
              " 156       201.0      109.9   72.1   189.8        3.600           21.1  ...   \n",
              " \n",
              "      Model_v40  Model_v70  Model_villager  Model_viper  Model_voyager  \\\n",
              " 0            0          0               0            0              0   \n",
              " 1            0          0               0            0              0   \n",
              " 2            0          0               0            0              0   \n",
              " 3            0          0               0            0              0   \n",
              " 4            0          0               0            0              0   \n",
              " ..         ...        ...             ...          ...            ...   \n",
              " 152          1          0               0            0              0   \n",
              " 153          0          0               0            0              0   \n",
              " 154          0          1               0            0              0   \n",
              " 155          0          0               0            0              0   \n",
              " 156          0          0               0            0              0   \n",
              " \n",
              "      Model_windstar  Model_wrangler  Model_xterra  Vehicle_type_car  \\\n",
              " 0                 0               0             0                 0   \n",
              " 1                 0               0             0                 0   \n",
              " 2                 0               0             0                 0   \n",
              " 3                 0               0             0                 0   \n",
              " 4                 0               0             0                 0   \n",
              " ..              ...             ...           ...               ...   \n",
              " 152               0               0             0                 0   \n",
              " 153               0               0             0                 0   \n",
              " 154               0               0             0                 0   \n",
              " 155               0               0             0                 0   \n",
              " 156               0               0             0                 0   \n",
              " \n",
              "      Vehicle_type_passenger  \n",
              " 0                         1  \n",
              " 1                         1  \n",
              " 2                         1  \n",
              " 3                         1  \n",
              " 4                         1  \n",
              " ..                      ...  \n",
              " 152                       1  \n",
              " 153                       1  \n",
              " 154                       1  \n",
              " 155                       1  \n",
              " 156                       1  \n",
              " \n",
              " [157 rows x 200 columns],\n",
              "     Manufacturer    Model  Sales_in_thousands  __year_resale_value  \\\n",
              " 0          acura  integra              16.919               16.360   \n",
              " 1          acura       tl              39.384               19.875   \n",
              " 2          acura       cl              14.114               18.225   \n",
              " 3          acura       rl               8.588               29.725   \n",
              " 4           audi       a4              20.397               22.255   \n",
              " ..           ...      ...                 ...                  ...   \n",
              " 152        volvo      v40               3.545               14.180   \n",
              " 153        volvo      s70              15.245               14.180   \n",
              " 154        volvo      v70              17.531               14.180   \n",
              " 155        volvo      c70               3.493               14.180   \n",
              " 156        volvo      s80              18.969               14.180   \n",
              " \n",
              "     Vehicle_type  Price_in_thousands  Engine_size  Horsepower  Wheelbase  \\\n",
              " 0      passenger              21.500          1.8       140.0      101.2   \n",
              " 1      passenger              28.400          3.2       225.0      108.1   \n",
              " 2      passenger              22.799          3.2       225.0      106.9   \n",
              " 3      passenger              42.000          3.5       210.0      114.6   \n",
              " 4      passenger              23.990          1.8       150.0      102.6   \n",
              " ..           ...                 ...          ...         ...        ...   \n",
              " 152    passenger              24.400          1.9       160.0      100.5   \n",
              " 153    passenger              27.500          2.4       168.0      104.9   \n",
              " 154    passenger              28.800          2.4       168.0      104.9   \n",
              " 155    passenger              45.500          2.3       236.0      104.9   \n",
              " 156    passenger              36.000          2.9       201.0      109.9   \n",
              " \n",
              "      Width  Length  Curb_weight  Fuel_capacity  Fuel_efficiency  \\\n",
              " 0     67.3   172.4        2.639           13.2             28.0   \n",
              " 1     70.3   192.9        3.517           17.2             25.0   \n",
              " 2     70.6   192.0        3.470           17.2             26.0   \n",
              " 3     71.4   196.6        3.850           18.0             22.0   \n",
              " 4     68.2   178.0        2.998           16.4             27.0   \n",
              " ..     ...     ...          ...            ...              ...   \n",
              " 152   67.6   176.6        3.042           15.8             25.0   \n",
              " 153   69.3   185.9        3.208           17.9             25.0   \n",
              " 154   69.3   186.2        3.259           17.9             25.0   \n",
              " 155   71.5   185.7        3.601           18.5             23.0   \n",
              " 156   72.1   189.8        3.600           21.1             24.0   \n",
              " \n",
              "      Power_perf_factor  \n",
              " 0            58.280150  \n",
              " 1            91.370778  \n",
              " 2            72.030917  \n",
              " 3            91.389779  \n",
              " 4            62.777639  \n",
              " ..                 ...  \n",
              " 152          66.498812  \n",
              " 153          70.654495  \n",
              " 154          71.155978  \n",
              " 155         101.623357  \n",
              " 156          85.735655  \n",
              " \n",
              " [157 rows x 15 columns])"
            ]
          },
          "metadata": {},
          "execution_count": 35
        }
      ]
    },
    {
      "cell_type": "markdown",
      "source": [
        "# Create & Explore different models\n"
      ],
      "metadata": {
        "id": "D5_A_VMKgNM_"
      }
    },
    {
      "cell_type": "code",
      "source": [
        "tf.random.set_seed(42)\n",
        "\n",
        "model_1 = tf.keras.Sequential([\n",
        "                               tf.keras.layers.Dense(1)\n",
        "])\n",
        "\n",
        "model_1.compile(loss=tf.keras.losses.mae, optimizer = tf.keras.optimizers.Adam(0.1), metrics='mae')\n",
        "\n",
        "\n",
        "history_1 = model_1.fit(X_train, y_train, epochs=100, verbose=False)\n",
        "pd.DataFrame(history_1.history).plot()\n",
        "print('evaluation:', model_1.evaluate(X_test, y_test))"
      ],
      "metadata": {
        "colab": {
          "base_uri": "https://localhost:8080/",
          "height": 301
        },
        "id": "dzEmIZ_tgnas",
        "outputId": "35148ec1-f732-4034-c6aa-26872478d5bb"
      },
      "execution_count": 89,
      "outputs": [
        {
          "output_type": "stream",
          "name": "stdout",
          "text": [
            "1/1 [==============================] - 0s 131ms/step - loss: 29.3196 - mae: 29.3196\n",
            "evaluation: [29.319557189941406, 29.319557189941406]\n"
          ]
        },
        {
          "output_type": "display_data",
          "data": {
            "text/plain": [
              "<Figure size 432x288 with 1 Axes>"
            ],
            "image/png": "[encoded data removed]"
          },
          "metadata": {
            "needs_background": "light"
          }
        }
      ]
    },
    {
      "cell_type": "markdown",
      "source": [
        "the mae is around 29k. Lets try to add more layers to reduce it"
      ],
      "metadata": {
        "id": "vNvIqHhsmkFz"
      }
    },
    {
      "cell_type": "code",
      "source": [
        "tf.random.set_seed(42)\n",
        "\n",
        "model_2 = tf.keras.Sequential([\n",
        "                               tf.keras.layers.Dense(10),\n",
        "                               tf.keras.layers.Dense(1)\n",
        "])\n",
        "\n",
        "model_2.compile(loss=tf.keras.losses.mae, optimizer = tf.keras.optimizers.Adam(0.01), metrics='mae')\n",
        "\n",
        "\n",
        "history_2 = model_2.fit(X_train, y_train, epochs=100, verbose=False)\n",
        "pd.DataFrame(history_2.history).plot()\n",
        "print('evaluation:', model_2.evaluate(X_test, y_test))"
      ],
      "metadata": {
        "colab": {
          "base_uri": "https://localhost:8080/",
          "height": 301
        },
        "id": "DZdGhgiMmsyc",
        "outputId": "6768ff65-97ba-428c-b8bb-4b8e024d6c5a"
      },
      "execution_count": 104,
      "outputs": [
        {
          "output_type": "stream",
          "name": "stdout",
          "text": [
            "1/1 [==============================] - 0s 140ms/step - loss: 28.7661 - mae: 28.7661\n",
            "evaluation: [28.766128540039062, 28.766128540039062]\n"
          ]
        },
        {
          "output_type": "display_data",
          "data": {
            "text/plain": [
              "<Figure size 432x288 with 1 Axes>"
            ],
            "image/png": "[encoded data removed]"
          },
          "metadata": {
            "needs_background": "light"
          }
        }
      ]
    },
    {
      "cell_type": "markdown",
      "source": [
        "It would seem like the NN bottoms out the mae at around 29K"
      ],
      "metadata": {
        "id": "tCeE0CfIm1D5"
      }
    },
    {
      "cell_type": "code",
      "source": [
        ""
      ],
      "metadata": {
        "id": "1f8PvFyDoHVO"
      },
      "execution_count": null,
      "outputs": []
    }
  ]
}