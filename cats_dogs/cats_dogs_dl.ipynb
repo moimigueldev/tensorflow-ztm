{
  "nbformat": 4,
  "nbformat_minor": 0,
  "metadata": {
    "colab": {
      "name": "cats_dogs_dl.ipynb",
      "provenance": [],
      "collapsed_sections": [],
      "authorship_tag": "ABX9TyOrTvdiT4T61e9Hdh5/Y7jv",
      "include_colab_link": true
    },
    "kernelspec": {
      "name": "python3",
      "display_name": "Python 3"
    },
    "language_info": {
      "name": "python"
    },
    "accelerator": "GPU"
  },
  "cells": [
    {
      "cell_type": "markdown",
      "metadata": {
        "id": "view-in-github",
        "colab_type": "text"
      },
      "source": [
        "<a href=\"https://colab.research.google.com/github/moimigueldev/tensorflow-ztm/blob/main/cats_dogs/cats_dogs_dl.ipynb\" target=\"_parent\"><img src=\"https://colab.research.google.com/assets/colab-badge.svg\" alt=\"Open In Colab\"/></a>"
      ]
    },
    {
      "cell_type": "markdown",
      "source": [
        "# Classify dogs and cats with Binary CNN\n",
        "[Original Kaggle Notebook](https://www.kaggle.com/datasets/tongpython/cat-and-dog)"
      ],
      "metadata": {
        "id": "tD1yhJs5uAPy"
      }
    },
    {
      "cell_type": "markdown",
      "source": [
        "# Import Data and helpers"
      ],
      "metadata": {
        "id": "MnvfA8vBujVu"
      }
    },
    {
      "cell_type": "code",
      "source": [
        "import os\n",
        "list_dir = os.listdir('.')\n",
        "\n",
        "if 'cat_dog.zip?dl=0' not in list_dir:\n",
        "  # import dataset\n",
        "  !wget https://www.dropbox.com/s/qpul0hnbovcnmmb/cat_dog.zip?dl=0\n",
        "\n",
        "  # import helpers\n",
        "  !wget !wget !wget https://raw.githubusercontent.com/mrdbourke/tensorflow-deep-learning/main/extras/helper_functions.py"
      ],
      "metadata": {
        "id": "qKYPl0c-ulq0"
      },
      "execution_count": 140,
      "outputs": []
    },
    {
      "cell_type": "code",
      "source": [
        "from helper_functions import plot_loss_curves, walk_through_dir, compare_historys, unzip_data"
      ],
      "metadata": {
        "id": "dk9agfgBvWjT"
      },
      "execution_count": 141,
      "outputs": []
    },
    {
      "cell_type": "code",
      "source": [
        "list_dir = os.listdir('.')\n",
        "if 'images' not in list_dir:\n",
        "  unzip_data('cat_dog.zip?dl=0')\n"
      ],
      "metadata": {
        "id": "1EbdzvkwvN8K"
      },
      "execution_count": 142,
      "outputs": []
    },
    {
      "cell_type": "code",
      "source": [
        "walk_through_dir('images/train_10_percent')"
      ],
      "metadata": {
        "id": "1Bk9kbV-vz_n",
        "colab": {
          "base_uri": "https://localhost:8080/"
        },
        "outputId": "86a66968-95c8-4d97-f4ad-8c020ed5109c"
      },
      "execution_count": 143,
      "outputs": [
        {
          "output_type": "stream",
          "name": "stdout",
          "text": [
            "There are 2 directories and 0 images in 'images/train_10_percent'.\n",
            "There are 0 directories and 400 images in 'images/train_10_percent/cats'.\n",
            "There are 0 directories and 400 images in 'images/train_10_percent/dogs'.\n"
          ]
        }
      ]
    },
    {
      "cell_type": "markdown",
      "source": [
        "# Preprocess Data"
      ],
      "metadata": {
        "id": "vy3BS2s3v3VO"
      }
    },
    {
      "cell_type": "code",
      "source": [
        "data_augmentation_dial = 0.2\n",
        "import tensorflow as tf\n",
        "from tensorflow import keras\n",
        "from tensorflow.keras import layers\n",
        "from tensorflow.keras.layers.experimental import preprocessing\n",
        "\n",
        "# Create dat augmentation stage wsith horizontal flipping, rotations, zooms, etc\n",
        "data_augmentation = keras.Sequential([\n",
        "                                      preprocessing.RandomFlip('horizontal'),\n",
        "                                      preprocessing.RandomRotation(data_augmentation_dial),\n",
        "                                      preprocessing.RandomZoom(data_augmentation_dial),\n",
        "                                      preprocessing.RandomHeight(data_augmentation_dial),\n",
        "                                      preprocessing.RandomWidth(data_augmentation_dial),\n",
        "                                      \n",
        "                                      # Keep for models like ResNet50v2 but efficientNet's \n",
        "                                      # having resclaing built in means we don't need it for this model\n",
        "                                      # preprocessing.Rescale(1./255)\n",
        "], name='data_augmentation')"
      ],
      "metadata": {
        "id": "N2e5t5Hiv8ha"
      },
      "execution_count": 144,
      "outputs": []
    },
    {
      "cell_type": "code",
      "source": [
        "test_data = tf.keras.preprocessing.image_dataset_from_directory(\n",
        "    'images/test',\n",
        "    label_mode='binary',\n",
        "    image_size=(224, 224),\n",
        ")\n",
        "\n",
        "train_data = tf.keras.preprocessing.image_dataset_from_directory(\n",
        "    'images/train',\n",
        "    label_mode='binary',\n",
        "    image_size=(224, 224),\n",
        ")\n",
        "\n",
        "train_data_10_percent = tf.keras.preprocessing.image_dataset_from_directory(\n",
        "    'images/train_10_percent',\n",
        "    label_mode='binary',\n",
        "    image_size=(224, 224),\n",
        ")"
      ],
      "metadata": {
        "id": "eOpS4afvwU9T",
        "colab": {
          "base_uri": "https://localhost:8080/"
        },
        "outputId": "d11206da-80c3-4b73-c354-eb973893732b"
      },
      "execution_count": 145,
      "outputs": [
        {
          "output_type": "stream",
          "name": "stdout",
          "text": [
            "Found 2022 files belonging to 2 classes.\n",
            "Found 8000 files belonging to 2 classes.\n",
            "Found 800 files belonging to 2 classes.\n"
          ]
        }
      ]
    },
    {
      "cell_type": "markdown",
      "source": [
        "# Create base model"
      ],
      "metadata": {
        "id": "BQkMRvjNxlDZ"
      }
    },
    {
      "cell_type": "code",
      "source": [
        "input_shape = (224, 224, 3)\n",
        "\n",
        "base_model = tf.keras.applications.EfficientNetB0(include_top=False)\n",
        "base_model.trainable = False\n",
        "\n",
        "inputs = tf.keras.Input(shape=input_shape, name='input_layer')\n",
        "\n",
        "# If using a model like ResNet50v2 you will need to normalize inputs (you don't have to if you're using efficientNet(s))\n",
        "# x = tf.keras.layers.experimental.preprocessing.Rescaling(1./255)(inputs)\n",
        "\n",
        "x = data_augmentation(inputs)\n",
        "\n",
        "x = base_model(x, training=False)\n",
        "\n",
        "x = layers.GlobalAveragePooling2D(name='global_average_pooling_layer')(x)\n",
        "\n",
        "outputs = layers.Dense(2, activation='softmax', name='output_layer')(x)\n",
        "\n"
      ],
      "metadata": {
        "id": "ju-I1ImZxvIl"
      },
      "execution_count": 146,
      "outputs": []
    },
    {
      "cell_type": "markdown",
      "source": [
        "# Create Checkpoint callback"
      ],
      "metadata": {
        "id": "KPTC4h0zViYP"
      }
    },
    {
      "cell_type": "code",
      "source": [
        "checkpoint_path = 'efficientNetB0/checkpoint.ckpt'\n",
        "initial_epochs = 5\n",
        "\n",
        "checkpoint_callback = tf.keras.callbacks.ModelCheckpoint(\n",
        "    filepath=checkpoint_path,\n",
        "    save_weights=True,\n",
        "    save_best_only=False,\n",
        "    # save_freq=\"epoch\"\n",
        "    period=initial_epochs,\n",
        "    verbose=1\n",
        ")"
      ],
      "metadata": {
        "colab": {
          "base_uri": "https://localhost:8080/"
        },
        "id": "A_S7pj5jVnDV",
        "outputId": "1ae4a1e4-f887-4e4e-dd91-b5824efc93e9"
      },
      "execution_count": 147,
      "outputs": [
        {
          "output_type": "stream",
          "name": "stdout",
          "text": [
            "WARNING:tensorflow:`period` argument is deprecated. Please use `save_freq` to specify the frequency in number of batches seen.\n"
          ]
        }
      ]
    },
    {
      "cell_type": "markdown",
      "source": [
        "# EfficientNetB0"
      ],
      "metadata": {
        "id": "Hc0TQQthyr-D"
      }
    },
    {
      "cell_type": "markdown",
      "source": [
        "## Model 1: Feature Extraction\n"
      ],
      "metadata": {
        "id": "MnOJHgT-zGAU"
      }
    },
    {
      "cell_type": "code",
      "source": [
        "model_1 = keras.Model(inputs, outputs)\n",
        "\n",
        "model_1.compile(loss='sparse_categorical_crossentropy', optimizer=tf.keras.optimizers.Adam(), metrics=['accuracy'])\n",
        "\n",
        "\n",
        "history_1 = model_1.fit(\n",
        "    train_data_10_percent,\n",
        "    epochs=initial_epochs,\n",
        "    steps_per_epoch=len(train_data_10_percent),\n",
        "    validation_data=test_data,\n",
        "    validation_steps=int(.25 * len(test_data)),\n",
        "    callbacks=[checkpoint_callback]\n",
        ")\n",
        "\n"
      ],
      "metadata": {
        "id": "u8v2gXhozIl1",
        "colab": {
          "base_uri": "https://localhost:8080/"
        },
        "outputId": "e3270e55-9314-4f2d-941e-eaca40070a5d"
      },
      "execution_count": 148,
      "outputs": [
        {
          "output_type": "stream",
          "name": "stdout",
          "text": [
            "Epoch 1/5\n",
            "25/25 [==============================] - 13s 164ms/step - loss: 0.3485 - accuracy: 0.8537 - val_loss: 0.1505 - val_accuracy: 0.9590\n",
            "Epoch 2/5\n",
            "25/25 [==============================] - 3s 110ms/step - loss: 0.1484 - accuracy: 0.9538 - val_loss: 0.0990 - val_accuracy: 0.9727\n",
            "Epoch 3/5\n",
            "25/25 [==============================] - 3s 109ms/step - loss: 0.1105 - accuracy: 0.9650 - val_loss: 0.0803 - val_accuracy: 0.9805\n",
            "Epoch 4/5\n",
            "25/25 [==============================] - 3s 112ms/step - loss: 0.0868 - accuracy: 0.9688 - val_loss: 0.0673 - val_accuracy: 0.9844\n",
            "Epoch 5/5\n",
            "24/25 [===========================>..] - ETA: 0s - loss: 0.0810 - accuracy: 0.9779\n",
            "Epoch 5: saving model to efficientNetB0/checkpoint.ckpt\n",
            "INFO:tensorflow:Assets written to: efficientNetB0/checkpoint.ckpt/assets\n",
            "25/25 [==============================] - 38s 2s/step - loss: 0.0806 - accuracy: 0.9775 - val_loss: 0.0579 - val_accuracy: 0.9863\n"
          ]
        }
      ]
    },
    {
      "cell_type": "code",
      "source": [
        "plot_loss_curves(history_1)"
      ],
      "metadata": {
        "id": "wYrRHldazgRH",
        "colab": {
          "base_uri": "https://localhost:8080/",
          "height": 573
        },
        "outputId": "3fda4921-c164-4313-9e35-23a346af163f"
      },
      "execution_count": 149,
      "outputs": [
        {
          "output_type": "display_data",
          "data": {
            "text/plain": [
              "<Figure size 432x288 with 1 Axes>"
            ],
            "image/png": "[encoded data removed]"
          },
          "metadata": {
            "needs_background": "light"
          }
        },
        {
          "output_type": "display_data",
          "data": {
            "text/plain": [
              "<Figure size 432x288 with 1 Axes>"
            ],
            "image/png": "[encoded data removed]"
          },
          "metadata": {
            "needs_background": "light"
          }
        }
      ]
    },
    {
      "cell_type": "code",
      "source": [
        "model_1_results = model_1.evaluate(test_data)"
      ],
      "metadata": {
        "colab": {
          "base_uri": "https://localhost:8080/"
        },
        "id": "Ok0nUDig4fBv",
        "outputId": "147259b2-e8df-4e95-d3b7-d1019ad39f6c"
      },
      "execution_count": 150,
      "outputs": [
        {
          "output_type": "stream",
          "name": "stdout",
          "text": [
            "64/64 [==============================] - 4s 55ms/step - loss: 0.0623 - accuracy: 0.9812\n"
          ]
        }
      ]
    },
    {
      "cell_type": "markdown",
      "source": [
        "## Model 2: Fine Tuning\n",
        "EfficientNetB0 gives us great results right off the bat with data augmentation and with only 10% of the training data.\n",
        "\n",
        "Now let's try to unfreeze 10% layers and train on our own custom data"
      ],
      "metadata": {
        "id": "wuILtUP540Yn"
      }
    },
    {
      "cell_type": "code",
      "source": [
        "base_model.trainable = True\n",
        "\n",
        "# Freeze all layers except the last 10%\n",
        "for layer in base_model.layers[:- int(.10 * len(base_model.layers))]:\n",
        "  layer.trainable = False"
      ],
      "metadata": {
        "id": "I9zAzsqwV-t7"
      },
      "execution_count": 151,
      "outputs": []
    },
    {
      "cell_type": "code",
      "source": [
        "# # Create new model and recompile & fit\n",
        "model_2 = tf.keras.Model(inputs, outputs)\n",
        "model_2.load_weights(checkpoint_path)\n",
        "model_2.compile(loss='sparse_categorical_crossentropy', optimizer=tf.keras.optimizers.Adam(0.0001), metrics=['accuracy'])\n",
        "fine_tune_epochs = initial_epochs + 5\n",
        "history_2 = model_2.fit(\n",
        "    train_data,\n",
        "    epochs=fine_tune_epochs,\n",
        "    steps_per_epoch=len(train_data),\n",
        "    validation_data=test_data,\n",
        "    validation_steps=int(.25 * len(test_data)),\n",
        "    initial_epoch=history_1.epoch[-1]\n",
        ")\n",
        "compare_historys(history_1, history_2)"
      ],
      "metadata": {
        "colab": {
          "base_uri": "https://localhost:8080/",
          "height": 721
        },
        "id": "7ritvxdaWYgL",
        "outputId": "d5ff1a37-2327-45e2-efc8-4bdfd6ce6767"
      },
      "execution_count": 152,
      "outputs": [
        {
          "output_type": "stream",
          "name": "stdout",
          "text": [
            "Epoch 5/10\n",
            "250/250 [==============================] - 25s 77ms/step - loss: 0.1348 - accuracy: 0.9520 - val_loss: 0.0714 - val_accuracy: 0.9844\n",
            "Epoch 6/10\n",
            "250/250 [==============================] - 18s 72ms/step - loss: 0.0750 - accuracy: 0.9706 - val_loss: 0.0202 - val_accuracy: 0.9941\n",
            "Epoch 7/10\n",
            "250/250 [==============================] - 18s 72ms/step - loss: 0.0611 - accuracy: 0.9761 - val_loss: 0.0840 - val_accuracy: 0.9844\n",
            "Epoch 8/10\n",
            "250/250 [==============================] - 18s 72ms/step - loss: 0.0551 - accuracy: 0.9799 - val_loss: 0.0601 - val_accuracy: 0.9883\n",
            "Epoch 9/10\n",
            "250/250 [==============================] - 19s 73ms/step - loss: 0.0568 - accuracy: 0.9791 - val_loss: 0.0625 - val_accuracy: 0.9863\n",
            "Epoch 10/10\n",
            "250/250 [==============================] - 18s 69ms/step - loss: 0.0462 - accuracy: 0.9839 - val_loss: 0.0627 - val_accuracy: 0.9844\n"
          ]
        },
        {
          "output_type": "display_data",
          "data": {
            "text/plain": [
              "<Figure size 576x576 with 2 Axes>"
            ],
            "image/png": "[encoded data removed]"
          },
          "metadata": {
            "needs_background": "light"
          }
        }
      ]
    },
    {
      "cell_type": "code",
      "source": [
        "model_2_results = model_2.evaluate(test_data)"
      ],
      "metadata": {
        "id": "dYJeVOhuhzGg",
        "colab": {
          "base_uri": "https://localhost:8080/"
        },
        "outputId": "f61c012c-8977-487b-b71d-188d9f76bf62"
      },
      "execution_count": 153,
      "outputs": [
        {
          "output_type": "stream",
          "name": "stdout",
          "text": [
            "64/64 [==============================] - 4s 55ms/step - loss: 0.0364 - accuracy: 0.9862\n"
          ]
        }
      ]
    },
    {
      "cell_type": "markdown",
      "source": [
        "**Summary:** EfficientNetB0 gave us a high accuracy score and the improvement from unfreezing layers is minimal."
      ],
      "metadata": {
        "id": "TXSLtxaDjUyA"
      }
    },
    {
      "cell_type": "markdown",
      "source": [
        "# ResNet50V2\n",
        "\n",
        "EfficientNetB0 proved to be usefull even before fine tuning, so let's try a different popular model to compare results"
      ],
      "metadata": {
        "id": "A7ruu70tANCI"
      }
    },
    {
      "cell_type": "code",
      "source": [
        "# Create New Checkpoint\n",
        "checkpoint_path = 'resNet50V2/checkpoint.ckpt'\n",
        "checkpoint_callback = tf.keras.callbacks.ModelCheckpoint(\n",
        "    filepath=checkpoint_path,\n",
        "    save_weights=True,\n",
        "    save_best_only=False,\n",
        "    period=initial_epochs,\n",
        "    verbose=1\n",
        ")"
      ],
      "metadata": {
        "id": "j3ESyDylF5tG",
        "colab": {
          "base_uri": "https://localhost:8080/"
        },
        "outputId": "a6a9ac1a-cc0c-47f5-91fe-8fbd8211148c"
      },
      "execution_count": 154,
      "outputs": [
        {
          "output_type": "stream",
          "name": "stdout",
          "text": [
            "WARNING:tensorflow:`period` argument is deprecated. Please use `save_freq` to specify the frequency in number of batches seen.\n"
          ]
        }
      ]
    },
    {
      "cell_type": "code",
      "source": [
        "# Create base model\n",
        "input_shape = (224, 224, 3)\n",
        "\n",
        "resNet_model = tf.keras.applications.ResNet50V2(include_top=False)\n",
        "resNet_model.trainable = False\n",
        "\n",
        "inputs = tf.keras.Input(shape=input_shape, name='input_layer')\n",
        "\n",
        "\n",
        "x = data_augmentation(inputs)\n",
        "\n",
        "x = resNet_model(x, training=False)\n",
        "\n",
        "x = layers.GlobalAveragePooling2D(name='global_average_pooling_layer')(x)\n",
        "\n",
        "outputs = layers.Dense(2, activation='softmax', name='output_layer')(x)\n",
        "\n"
      ],
      "metadata": {
        "id": "5d0UJ69S-VNS"
      },
      "execution_count": 155,
      "outputs": []
    },
    {
      "cell_type": "markdown",
      "source": [
        "## Model 3"
      ],
      "metadata": {
        "id": "xxVtRhmNHhqQ"
      }
    },
    {
      "cell_type": "code",
      "source": [
        "# Compile & Fit the model\n",
        "\n",
        "model_3 = tf.keras.Model(inputs, outputs)\n",
        "model_3.compile(loss='sparse_categorical_crossentropy', optimizer=tf.keras.optimizers.Adam(0.01), metrics='accuracy')\n",
        "history_3 = model_3.fit(\n",
        "  train_data_10_percent,\n",
        "  epochs = initial_epochs,\n",
        "  steps_per_epoch=len(train_data_10_percent),\n",
        "  validation_data=test_data,\n",
        "  validation_steps=int(.25 * len(test_data)),\n",
        "  callbacks=[checkpoint_callback]\n",
        ")\n",
        "plot_loss_curves(history_3)"
      ],
      "metadata": {
        "id": "AzQK715x_VXw",
        "colab": {
          "base_uri": "https://localhost:8080/",
          "height": 799
        },
        "outputId": "4fa3c73d-38aa-4554-97b7-c6a31630e658"
      },
      "execution_count": 156,
      "outputs": [
        {
          "output_type": "stream",
          "name": "stdout",
          "text": [
            "Epoch 1/5\n",
            "25/25 [==============================] - 8s 175ms/step - loss: 160.2595 - accuracy: 0.5350 - val_loss: 103.5281 - val_accuracy: 0.4629\n",
            "Epoch 2/5\n",
            "25/25 [==============================] - 4s 146ms/step - loss: 43.4761 - accuracy: 0.5537 - val_loss: 41.0580 - val_accuracy: 0.4902\n",
            "Epoch 3/5\n",
            "25/25 [==============================] - 4s 146ms/step - loss: 31.7282 - accuracy: 0.5437 - val_loss: 35.3639 - val_accuracy: 0.5371\n",
            "Epoch 4/5\n",
            "25/25 [==============================] - 4s 135ms/step - loss: 26.8936 - accuracy: 0.5838 - val_loss: 59.6566 - val_accuracy: 0.4707\n",
            "Epoch 5/5\n",
            "25/25 [==============================] - ETA: 0s - loss: 20.9640 - accuracy: 0.5688\n",
            "Epoch 5: saving model to resNet50V2/checkpoint.ckpt\n",
            "INFO:tensorflow:Assets written to: resNet50V2/checkpoint.ckpt/assets\n",
            "25/25 [==============================] - 24s 993ms/step - loss: 20.9640 - accuracy: 0.5688 - val_loss: 54.2239 - val_accuracy: 0.4707\n"
          ]
        },
        {
          "output_type": "display_data",
          "data": {
            "text/plain": [
              "<Figure size 432x288 with 1 Axes>"
            ],
            "image/png": "[encoded data removed]"
          },
          "metadata": {
            "needs_background": "light"
          }
        },
        {
          "output_type": "display_data",
          "data": {
            "text/plain": [
              "<Figure size 432x288 with 1 Axes>"
            ],
            "image/png": "[encoded data removed]"
          },
          "metadata": {
            "needs_background": "light"
          }
        }
      ]
    },
    {
      "cell_type": "code",
      "source": [
        "model_3_results = model_3.evaluate(test_data)"
      ],
      "metadata": {
        "id": "kyESKR1T_kzU",
        "colab": {
          "base_uri": "https://localhost:8080/"
        },
        "outputId": "628dca5b-7de0-441b-a0a6-c1af39f712b0"
      },
      "execution_count": 157,
      "outputs": [
        {
          "output_type": "stream",
          "name": "stdout",
          "text": [
            "64/64 [==============================] - 4s 62ms/step - loss: 52.9491 - accuracy: 0.5000\n"
          ]
        }
      ]
    },
    {
      "cell_type": "markdown",
      "source": [
        "Not very good results with ResNet50V2\n",
        "\n",
        "Let's try unfreezing some layers and training on full test dataset to see if model improves\n",
        "\n",
        "Let's try unlocking the last 10% of base layers"
      ],
      "metadata": {
        "id": "EHS5ShMa_xg3"
      }
    },
    {
      "cell_type": "code",
      "source": [
        "resNet_model.trainable = True\n",
        "\n",
        "# Freeze all layers except the last 10%\n",
        "for layer in resNet_model.layers[:- int(.10 * len(resNet_model.layers))]:\n",
        "  layer.trainable = False\n",
        "\n"
      ],
      "metadata": {
        "id": "k2zY3BfsENqS"
      },
      "execution_count": 158,
      "outputs": []
    },
    {
      "cell_type": "markdown",
      "source": [
        "##Model 4"
      ],
      "metadata": {
        "id": "khZgl7fTHkxP"
      }
    },
    {
      "cell_type": "code",
      "source": [
        "# # Create new model and recompile & fit\n",
        "model_4 = tf.keras.Model(inputs, outputs)\n",
        "model_4.load_weights(checkpoint_path)\n",
        "model_4.compile(loss='sparse_categorical_crossentropy', optimizer=tf.keras.optimizers.Adam(0.0001), metrics=['accuracy'])\n",
        "fine_tune_epochs = initial_epochs + 5\n",
        "history_4 = model_4.fit(\n",
        "    train_data,\n",
        "    epochs=fine_tune_epochs,\n",
        "    steps_per_epoch=len(train_data),\n",
        "    validation_data=test_data,\n",
        "    validation_steps=int(.25 * len(test_data)),\n",
        "    initial_epoch=history_3.epoch[-1]\n",
        ")\n",
        "compare_historys(history_3, history_4)\n",
        "\n",
        "\n"
      ],
      "metadata": {
        "id": "zJG8izKLEXrL",
        "colab": {
          "base_uri": "https://localhost:8080/",
          "height": 721
        },
        "outputId": "81006f67-319e-4eda-d566-e60dbccc69b4"
      },
      "execution_count": 159,
      "outputs": [
        {
          "output_type": "stream",
          "name": "stdout",
          "text": [
            "Epoch 5/10\n",
            "250/250 [==============================] - 29s 102ms/step - loss: 1273802.6250 - accuracy: 0.5027 - val_loss: 0.6949 - val_accuracy: 0.4648\n",
            "Epoch 6/10\n",
            "250/250 [==============================] - 25s 99ms/step - loss: 0.6955 - accuracy: 0.5005 - val_loss: 0.6936 - val_accuracy: 0.4805\n",
            "Epoch 7/10\n",
            "250/250 [==============================] - 24s 96ms/step - loss: 0.6933 - accuracy: 0.5031 - val_loss: 0.6940 - val_accuracy: 0.4707\n",
            "Epoch 8/10\n",
            "250/250 [==============================] - 24s 97ms/step - loss: 0.6965 - accuracy: 0.4976 - val_loss: 0.6947 - val_accuracy: 0.4629\n",
            "Epoch 9/10\n",
            "250/250 [==============================] - 25s 97ms/step - loss: 48.3863 - accuracy: 0.5002 - val_loss: 0.6939 - val_accuracy: 0.4746\n",
            "Epoch 10/10\n",
            "250/250 [==============================] - 25s 99ms/step - loss: 0.6934 - accuracy: 0.4950 - val_loss: 0.6944 - val_accuracy: 0.4531\n"
          ]
        },
        {
          "output_type": "display_data",
          "data": {
            "text/plain": [
              "<Figure size 576x576 with 2 Axes>"
            ],
            "image/png": "[encoded data removed]"
          },
          "metadata": {
            "needs_background": "light"
          }
        }
      ]
    },
    {
      "cell_type": "code",
      "source": [
        "model_4_results = model_4.evaluate(test_data)"
      ],
      "metadata": {
        "id": "-MOULMb_IVSJ",
        "colab": {
          "base_uri": "https://localhost:8080/"
        },
        "outputId": "9d939a7a-998d-4df8-c4f4-0fa5bebb2fab"
      },
      "execution_count": 160,
      "outputs": [
        {
          "output_type": "stream",
          "name": "stdout",
          "text": [
            "64/64 [==============================] - 4s 62ms/step - loss: 0.6932 - accuracy: 0.5000\n"
          ]
        }
      ]
    },
    {
      "cell_type": "markdown",
      "source": [
        "Summary: ResNet50V2 did not perform nearly as well as efficientNetB0. Let's try one more model "
      ],
      "metadata": {
        "id": "HGE0BD6sFba8"
      }
    },
    {
      "cell_type": "markdown",
      "source": [
        "# Xception"
      ],
      "metadata": {
        "id": "TG6itdnhG9Md"
      }
    },
    {
      "cell_type": "code",
      "source": [
        "# Create New Checkpoint\n",
        "checkpoint_path = 'xception/checkpoint.ckpt'\n",
        "checkpoint_callback = tf.keras.callbacks.ModelCheckpoint(\n",
        "    filepath=checkpoint_path,\n",
        "    save_weights=True,\n",
        "    save_best_only=False,\n",
        "    period=initial_epochs,\n",
        "    verbose=1\n",
        ")"
      ],
      "metadata": {
        "id": "TxoMXYwSHBKD",
        "colab": {
          "base_uri": "https://localhost:8080/"
        },
        "outputId": "017fbd83-4728-4fc7-b67d-6d1e9f11bc4d"
      },
      "execution_count": 161,
      "outputs": [
        {
          "output_type": "stream",
          "name": "stdout",
          "text": [
            "WARNING:tensorflow:`period` argument is deprecated. Please use `save_freq` to specify the frequency in number of batches seen.\n"
          ]
        }
      ]
    },
    {
      "cell_type": "code",
      "source": [
        "# Create base model\n",
        "input_shape = (224, 224, 3)\n",
        "\n",
        "xception_model = tf.keras.applications.Xception(include_top=False)\n",
        "xception_model.trainable = False\n",
        "\n",
        "inputs = tf.keras.Input(shape=input_shape, name='input_layer')\n",
        "\n",
        "x = data_augmentation(inputs)\n",
        "\n",
        "x = xception_model(x, training=False)\n",
        "\n",
        "x = layers.GlobalAveragePooling2D(name='global_average_pooling_layer')(x)\n",
        "\n",
        "outputs = layers.Dense(2, activation='softmax', name='output_layer')(x)\n",
        "\n"
      ],
      "metadata": {
        "id": "ROkta4qLHPYn"
      },
      "execution_count": 162,
      "outputs": []
    },
    {
      "cell_type": "markdown",
      "source": [
        "## Model 5"
      ],
      "metadata": {
        "id": "1xmUCeQaHZ8s"
      }
    },
    {
      "cell_type": "code",
      "source": [
        "# Compile & Fit the model\n",
        "\n",
        "model_5 = tf.keras.Model(inputs, outputs)\n",
        "model_5.compile(loss='sparse_categorical_crossentropy', optimizer=tf.keras.optimizers.Adam(), metrics='accuracy')\n",
        "history_5 = model_5.fit(\n",
        "  train_data_10_percent,\n",
        "  epochs = initial_epochs,\n",
        "  steps_per_epoch=len(train_data_10_percent),\n",
        "  validation_data=test_data,\n",
        "  validation_steps=int(.25 * len(test_data)),\n",
        "  callbacks=[checkpoint_callback]\n",
        ")\n",
        "plot_loss_curves(history_5)"
      ],
      "metadata": {
        "id": "PmOr2K9nHslH",
        "colab": {
          "base_uri": "https://localhost:8080/",
          "height": 799
        },
        "outputId": "6059255b-d557-4afb-c035-6abc37ae4b8c"
      },
      "execution_count": 163,
      "outputs": [
        {
          "output_type": "stream",
          "name": "stdout",
          "text": [
            "Epoch 1/5\n",
            "25/25 [==============================] - 9s 245ms/step - loss: 2.9347 - accuracy: 0.5225 - val_loss: 1.7480 - val_accuracy: 0.5605\n",
            "Epoch 2/5\n",
            "25/25 [==============================] - 5s 211ms/step - loss: 1.7965 - accuracy: 0.5550 - val_loss: 1.6173 - val_accuracy: 0.5977\n",
            "Epoch 3/5\n",
            "25/25 [==============================] - 5s 204ms/step - loss: 1.6064 - accuracy: 0.5612 - val_loss: 1.5434 - val_accuracy: 0.5996\n",
            "Epoch 4/5\n",
            "25/25 [==============================] - 5s 204ms/step - loss: 1.5470 - accuracy: 0.5537 - val_loss: 1.8335 - val_accuracy: 0.6016\n",
            "Epoch 5/5\n",
            "25/25 [==============================] - ETA: 0s - loss: 1.7782 - accuracy: 0.5275\n",
            "Epoch 5: saving model to xception/checkpoint.ckpt\n",
            "INFO:tensorflow:Assets written to: xception/checkpoint.ckpt/assets\n",
            "25/25 [==============================] - 22s 881ms/step - loss: 1.7782 - accuracy: 0.5275 - val_loss: 1.6521 - val_accuracy: 0.5801\n"
          ]
        },
        {
          "output_type": "display_data",
          "data": {
            "text/plain": [
              "<Figure size 432x288 with 1 Axes>"
            ],
            "image/png": "[encoded data removed]"
          },
          "metadata": {
            "needs_background": "light"
          }
        },
        {
          "output_type": "display_data",
          "data": {
            "text/plain": [
              "<Figure size 432x288 with 1 Axes>"
            ],
            "image/png": "[encoded data removed]"
          },
          "metadata": {
            "needs_background": "light"
          }
        }
      ]
    },
    {
      "cell_type": "code",
      "source": [
        "model_5_results = model_5.evaluate(test_data)"
      ],
      "metadata": {
        "id": "Eu4uO2W8Hx1N",
        "colab": {
          "base_uri": "https://localhost:8080/"
        },
        "outputId": "283a4d9c-9a19-4b84-df64-f446b5b40f08"
      },
      "execution_count": 164,
      "outputs": [
        {
          "output_type": "stream",
          "name": "stdout",
          "text": [
            "64/64 [==============================] - 6s 85ms/step - loss: 1.7025 - accuracy: 0.5589\n"
          ]
        }
      ]
    },
    {
      "cell_type": "markdown",
      "source": [
        "## Model 6"
      ],
      "metadata": {
        "id": "3gwJeNShIRTw"
      }
    },
    {
      "cell_type": "code",
      "source": [
        "xception_model.trainable = True\n",
        "\n",
        "# Freeze all layers except the last 30%\n",
        "for layer in xception_model.layers[:- int(.30 * len(xception_model.layers))]:\n",
        "  layer.trainable = False\n",
        "\n"
      ],
      "metadata": {
        "id": "G6kipkZRJPL5"
      },
      "execution_count": 165,
      "outputs": []
    },
    {
      "cell_type": "code",
      "source": [
        "# # Create new model and recompile & fit\n",
        "model_6 = tf.keras.Model(inputs, outputs)\n",
        "model_6.load_weights(checkpoint_path)\n",
        "model_6.compile(loss='sparse_categorical_crossentropy', optimizer=tf.keras.optimizers.Adam(0.0001), metrics=['accuracy'])\n",
        "fine_tune_epochs = initial_epochs + 5\n",
        "history_6 = model_6.fit(\n",
        "    train_data,\n",
        "    epochs=fine_tune_epochs,\n",
        "    steps_per_epoch=len(train_data),\n",
        "    validation_data=test_data,\n",
        "    validation_steps=int(.25 * len(test_data)),\n",
        "    initial_epoch=history_5.epoch[-1]\n",
        ")\n",
        "compare_historys(history_5, history_6)\n",
        "\n",
        "\n"
      ],
      "metadata": {
        "id": "9b-lqtvYJfKR",
        "colab": {
          "base_uri": "https://localhost:8080/",
          "height": 721
        },
        "outputId": "53e0a6d2-6d00-4cca-cd5e-4a35d285c911"
      },
      "execution_count": 166,
      "outputs": [
        {
          "output_type": "stream",
          "name": "stdout",
          "text": [
            "Epoch 5/10\n",
            "250/250 [==============================] - 50s 185ms/step - loss: 5.3865 - accuracy: 0.4981 - val_loss: 0.6931 - val_accuracy: 0.5371\n",
            "Epoch 6/10\n",
            "250/250 [==============================] - 45s 179ms/step - loss: 0.6932 - accuracy: 0.4945 - val_loss: 0.6931 - val_accuracy: 0.5254\n",
            "Epoch 7/10\n",
            "250/250 [==============================] - 44s 173ms/step - loss: 0.6932 - accuracy: 0.4997 - val_loss: 0.6930 - val_accuracy: 0.5449\n",
            "Epoch 8/10\n",
            "250/250 [==============================] - 43s 171ms/step - loss: 0.6932 - accuracy: 0.4970 - val_loss: 0.6931 - val_accuracy: 0.5254\n",
            "Epoch 9/10\n",
            "250/250 [==============================] - 43s 172ms/step - loss: 0.6932 - accuracy: 0.4967 - val_loss: 0.6931 - val_accuracy: 0.5000\n",
            "Epoch 10/10\n",
            "250/250 [==============================] - 40s 160ms/step - loss: 0.6932 - accuracy: 0.4978 - val_loss: 0.6931 - val_accuracy: 0.5312\n"
          ]
        },
        {
          "output_type": "display_data",
          "data": {
            "text/plain": [
              "<Figure size 576x576 with 2 Axes>"
            ],
            "image/png": "[encoded data removed]"
          },
          "metadata": {
            "needs_background": "light"
          }
        }
      ]
    },
    {
      "cell_type": "code",
      "source": [
        "model_6_results = model_6.evaluate(test_data)"
      ],
      "metadata": {
        "id": "Kid3UqaoZ5DJ",
        "colab": {
          "base_uri": "https://localhost:8080/"
        },
        "outputId": "4ce9458c-ad91-499e-f4e2-8f473f391a3e"
      },
      "execution_count": 167,
      "outputs": [
        {
          "output_type": "stream",
          "name": "stdout",
          "text": [
            "64/64 [==============================] - 6s 84ms/step - loss: 0.6931 - accuracy: 0.5000\n"
          ]
        }
      ]
    },
    {
      "cell_type": "markdown",
      "source": [
        "`Exception` gave us horrible results when unfreezing layers to train on custom data_augmentation\n",
        "Just to make sure let's create a new xception model and evaluate the data without fitting to see if we could have gotten a better score\n"
      ],
      "metadata": {
        "id": "rjLWwk9aJtxP"
      }
    },
    {
      "cell_type": "markdown",
      "source": [
        "## Model 7\n"
      ],
      "metadata": {
        "id": "OY8bdy3kZiB_"
      }
    },
    {
      "cell_type": "code",
      "source": [
        "# Create base model\n",
        "input_shape = (224, 224, 3)\n",
        "\n",
        "xception_model = tf.keras.applications.Xception(include_top=False)\n",
        "xception_model.trainable = False\n",
        "\n",
        "inputs = tf.keras.Input(shape=input_shape, name='input_layer')\n",
        "\n",
        "x = data_augmentation(inputs)\n",
        "\n",
        "x = xception_model(x, training=False)\n",
        "\n",
        "x = layers.GlobalAveragePooling2D(name='global_average_pooling_layer')(x)\n",
        "\n",
        "outputs = layers.Dense(2, activation='softmax', name='output_layer')(x)\n",
        "\n"
      ],
      "metadata": {
        "id": "4oB7EFFVZleT"
      },
      "execution_count": 168,
      "outputs": []
    },
    {
      "cell_type": "code",
      "source": [
        "# Compile & Fit the model\n",
        "\n",
        "model_7 = tf.keras.Model(inputs, outputs)\n",
        "model_7.compile(loss='sparse_categorical_crossentropy', optimizer=tf.keras.optimizers.Adam(), metrics=['accuracy'])\n",
        "model_7_results = model_7.evaluate(test_data)\n"
      ],
      "metadata": {
        "id": "XsS-Hr3YZpnm",
        "colab": {
          "base_uri": "https://localhost:8080/"
        },
        "outputId": "5cbf300b-42da-48c3-ba6b-a024b8543a71"
      },
      "execution_count": 169,
      "outputs": [
        {
          "output_type": "stream",
          "name": "stdout",
          "text": [
            "64/64 [==============================] - 7s 84ms/step - loss: 2.2300 - accuracy: 0.5460\n"
          ]
        }
      ]
    },
    {
      "cell_type": "code",
      "source": [
        "model_7_results[1], model_6_results[1]"
      ],
      "metadata": {
        "id": "htJOeW4Kja0l",
        "colab": {
          "base_uri": "https://localhost:8080/"
        },
        "outputId": "95f3dfe6-de36-4fe6-ecb0-ee4a681b9560"
      },
      "execution_count": 170,
      "outputs": [
        {
          "output_type": "execute_result",
          "data": {
            "text/plain": [
              "(0.5459940433502197, 0.5)"
            ]
          },
          "metadata": {},
          "execution_count": 170
        }
      ]
    },
    {
      "cell_type": "markdown",
      "source": [
        "Summary: When comparing `model_6` which is trained on custom data and `model_7` which is not trained on custom data, we see that they both perform the same at `~0.5` accuracy"
      ],
      "metadata": {
        "id": "XEUcwNnyj83z"
      }
    },
    {
      "cell_type": "markdown",
      "source": [
        " # Comparing models "
      ],
      "metadata": {
        "id": "U2dqL_bgkrlO"
      }
    },
    {
      "cell_type": "code",
      "source": [
        "import pandas as pd\n",
        "models = [\n",
        "          model_1_results,\n",
        "          model_2_results,\n",
        "          model_3_results,\n",
        "          model_4_results,\n",
        "          model_5_results,\n",
        "          model_6_results,\n",
        "          model_7_results,\n",
        "]\n",
        "\n",
        "\n",
        "results = pd.DataFrame(models, columns=['loss', 'accuracy'])\n",
        "results"
      ],
      "metadata": {
        "id": "Ptz-GV_-kvec",
        "colab": {
          "base_uri": "https://localhost:8080/",
          "height": 269
        },
        "outputId": "50bfa022-ba3e-451d-9202-2dd102d1e93c"
      },
      "execution_count": 171,
      "outputs": [
        {
          "output_type": "execute_result",
          "data": {
            "text/plain": [
              "        loss  accuracy\n",
              "0   0.062276  0.981207\n",
              "1   0.036441  0.986152\n",
              "2  52.949055  0.500000\n",
              "3   0.693221  0.500000\n",
              "4   1.702467  0.558853\n",
              "5   0.693148  0.500000\n",
              "6   2.230036  0.545994"
            ],
            "text/html": [
              "\n",
              "  <div id=\"df-d3977237-7266-4be3-9c13-f25f609cd861\">\n",
              "    <div class=\"colab-df-container\">\n",
              "      <div>\n",
              "<style scoped>\n",
              "    .dataframe tbody tr th:only-of-type {\n",
              "        vertical-align: middle;\n",
              "    }\n",
              "\n",
              "    .dataframe tbody tr th {\n",
              "        vertical-align: top;\n",
              "    }\n",
              "\n",
              "    .dataframe thead th {\n",
              "        text-align: right;\n",
              "    }\n",
              "</style>\n",
              "<table border=\"1\" class=\"dataframe\">\n",
              "  <thead>\n",
              "    <tr style=\"text-align: right;\">\n",
              "      <th></th>\n",
              "      <th>loss</th>\n",
              "      <th>accuracy</th>\n",
              "    </tr>\n",
              "  </thead>\n",
              "  <tbody>\n",
              "    <tr>\n",
              "      <th>0</th>\n",
              "      <td>0.062276</td>\n",
              "      <td>0.981207</td>\n",
              "    </tr>\n",
              "    <tr>\n",
              "      <th>1</th>\n",
              "      <td>0.036441</td>\n",
              "      <td>0.986152</td>\n",
              "    </tr>\n",
              "    <tr>\n",
              "      <th>2</th>\n",
              "      <td>52.949055</td>\n",
              "      <td>0.500000</td>\n",
              "    </tr>\n",
              "    <tr>\n",
              "      <th>3</th>\n",
              "      <td>0.693221</td>\n",
              "      <td>0.500000</td>\n",
              "    </tr>\n",
              "    <tr>\n",
              "      <th>4</th>\n",
              "      <td>1.702467</td>\n",
              "      <td>0.558853</td>\n",
              "    </tr>\n",
              "    <tr>\n",
              "      <th>5</th>\n",
              "      <td>0.693148</td>\n",
              "      <td>0.500000</td>\n",
              "    </tr>\n",
              "    <tr>\n",
              "      <th>6</th>\n",
              "      <td>2.230036</td>\n",
              "      <td>0.545994</td>\n",
              "    </tr>\n",
              "  </tbody>\n",
              "</table>\n",
              "</div>\n",
              "      <button class=\"colab-df-convert\" onclick=\"convertToInteractive('df-d3977237-7266-4be3-9c13-f25f609cd861')\"\n",
              "              title=\"Convert this dataframe to an interactive table.\"\n",
              "              style=\"display:none;\">\n",
              "        \n",
              "  <svg xmlns=\"http://www.w3.org/2000/svg\" height=\"24px\"viewBox=\"0 0 24 24\"\n",
              "       width=\"24px\">\n",
              "    <path d=\"M0 0h24v24H0V0z\" fill=\"none\"/>\n",
              "    <path d=\"M18.56 5.44l.94 2.06.94-2.06 2.06-.94-2.06-.94-.94-2.06-.94 2.06-2.06.94zm-11 1L8.5 8.5l.94-2.06 2.06-.94-2.06-.94L8.5 2.5l-.94 2.06-2.06.94zm10 10l.94 2.06.94-2.06 2.06-.94-2.06-.94-.94-2.06-.94 2.06-2.06.94z\"/><path d=\"M17.41 7.96l-1.37-1.37c-.4-.4-.92-.59-1.43-.59-.52 0-1.04.2-1.43.59L10.3 9.45l-7.72 7.72c-.78.78-.78 2.05 0 2.83L4 21.41c.39.39.9.59 1.41.59.51 0 1.02-.2 1.41-.59l7.78-7.78 2.81-2.81c.8-.78.8-2.07 0-2.86zM5.41 20L4 18.59l7.72-7.72 1.47 1.35L5.41 20z\"/>\n",
              "  </svg>\n",
              "      </button>\n",
              "      \n",
              "  <style>\n",
              "    .colab-df-container {\n",
              "      display:flex;\n",
              "      flex-wrap:wrap;\n",
              "      gap: 12px;\n",
              "    }\n",
              "\n",
              "    .colab-df-convert {\n",
              "      background-color: #E8F0FE;\n",
              "      border: none;\n",
              "      border-radius: 50%;\n",
              "      cursor: pointer;\n",
              "      display: none;\n",
              "      fill: #1967D2;\n",
              "      height: 32px;\n",
              "      padding: 0 0 0 0;\n",
              "      width: 32px;\n",
              "    }\n",
              "\n",
              "    .colab-df-convert:hover {\n",
              "      background-color: #E2EBFA;\n",
              "      box-shadow: 0px 1px 2px rgba(60, 64, 67, 0.3), 0px 1px 3px 1px rgba(60, 64, 67, 0.15);\n",
              "      fill: #174EA6;\n",
              "    }\n",
              "\n",
              "    [theme=dark] .colab-df-convert {\n",
              "      background-color: #3B4455;\n",
              "      fill: #D2E3FC;\n",
              "    }\n",
              "\n",
              "    [theme=dark] .colab-df-convert:hover {\n",
              "      background-color: #434B5C;\n",
              "      box-shadow: 0px 1px 3px 1px rgba(0, 0, 0, 0.15);\n",
              "      filter: drop-shadow(0px 1px 2px rgba(0, 0, 0, 0.3));\n",
              "      fill: #FFFFFF;\n",
              "    }\n",
              "  </style>\n",
              "\n",
              "      <script>\n",
              "        const buttonEl =\n",
              "          document.querySelector('#df-d3977237-7266-4be3-9c13-f25f609cd861 button.colab-df-convert');\n",
              "        buttonEl.style.display =\n",
              "          google.colab.kernel.accessAllowed ? 'block' : 'none';\n",
              "\n",
              "        async function convertToInteractive(key) {\n",
              "          const element = document.querySelector('#df-d3977237-7266-4be3-9c13-f25f609cd861');\n",
              "          const dataTable =\n",
              "            await google.colab.kernel.invokeFunction('convertToInteractive',\n",
              "                                                     [key], {});\n",
              "          if (!dataTable) return;\n",
              "\n",
              "          const docLinkHtml = 'Like what you see? Visit the ' +\n",
              "            '<a target=\"_blank\" href=https://colab.research.google.com/notebooks/data_table.ipynb>data table notebook</a>'\n",
              "            + ' to learn more about interactive tables.';\n",
              "          element.innerHTML = '';\n",
              "          dataTable['output_type'] = 'display_data';\n",
              "          await google.colab.output.renderOutput(dataTable, element);\n",
              "          const docLink = document.createElement('div');\n",
              "          docLink.innerHTML = docLinkHtml;\n",
              "          element.appendChild(docLink);\n",
              "        }\n",
              "      </script>\n",
              "    </div>\n",
              "  </div>\n",
              "  "
            ]
          },
          "metadata": {},
          "execution_count": 171
        }
      ]
    },
    {
      "cell_type": "markdown",
      "source": [
        "Summary: As we can see, the first 2 models performed the best which run off of EfficientNetB0 and our fine tuned model [2] has the highest accuracy score\n",
        "Lets's use model_2 to make predictions\n"
      ],
      "metadata": {
        "id": "OwkQIubZk6zH"
      }
    },
    {
      "cell_type": "code",
      "source": [
        ""
      ],
      "metadata": {
        "id": "G0jL1eN0ls4l"
      },
      "execution_count": 171,
      "outputs": []
    },
    {
      "cell_type": "markdown",
      "source": [
        "# Predictions: EfficientNetB0 Model 2"
      ],
      "metadata": {
        "id": "MJQMQ0lRmdNn"
      }
    },
    {
      "cell_type": "code",
      "source": [
        "# upload file(s)\n",
        "from google.colab import files\n",
        "\n",
        "uploaded = files.upload()\n"
      ],
      "metadata": {
        "colab": {
          "resources": {
            "http://localhost:8080/nbextensions/google.colab/files.js": {
              "data": "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",
              "ok": true,
              "headers": [
                [
                  "content-type",
                  "application/javascript"
                ]
              ],
              "status": 200,
              "status_text": ""
            }
          },
          "base_uri": "https://localhost:8080/",
          "height": 107
        },
        "id": "QM5NaVsdmcDq",
        "outputId": "37273d3d-9cd1-4b5b-89e7-79aa2eb13d7b"
      },
      "execution_count": 173,
      "outputs": [
        {
          "output_type": "display_data",
          "data": {
            "text/plain": [
              "<IPython.core.display.HTML object>"
            ],
            "text/html": [
              "\n",
              "     <input type=\"file\" id=\"files-cd9d840d-dea5-4424-906a-2027a4c53413\" name=\"files[]\" multiple disabled\n",
              "        style=\"border:none\" />\n",
              "     <output id=\"result-cd9d840d-dea5-4424-906a-2027a4c53413\">\n",
              "      Upload widget is only available when the cell has been executed in the\n",
              "      current browser session. Please rerun this cell to enable.\n",
              "      </output>\n",
              "      <script src=\"/nbextensions/google.colab/files.js\"></script> "
            ]
          },
          "metadata": {}
        },
        {
          "output_type": "stream",
          "name": "stdout",
          "text": [
            "Saving nugget.jpg to nugget (1).jpg\n",
            "Saving ashley.jpg to ashley (1).jpg\n"
          ]
        }
      ]
    },
    {
      "cell_type": "code",
      "source": [
        "from IPython.display import Image\n",
        "Image(filename='nugget.jpg', width=500, height=300)"
      ],
      "metadata": {
        "id": "0uHiR-fNmnzb"
      },
      "execution_count": null,
      "outputs": []
    },
    {
      "cell_type": "code",
      "source": [
        "import numpy as np\n",
        "from tensorflow.keras.preprocessing import image\n",
        "def prepare_image(file):\n",
        "  img = image.load_img(file, target_size=(224, 224))\n",
        "  img_array = image.img_to_array(img)\n",
        "  img_array_expanded_dims = np.expand_dims(img_array, axis=0)\n",
        "  return tf.keras.applications.efficientnet.preprocess_input(img_array_expanded_dims)"
      ],
      "metadata": {
        "id": "utL0c5AtnuIy"
      },
      "execution_count": 174,
      "outputs": []
    },
    {
      "cell_type": "code",
      "source": [
        "results = model_2.predict(prepare_image('/content/images/test/dogs/dog.4015.jpg'), verbose=1)\n",
        "results"
      ],
      "metadata": {
        "colab": {
          "base_uri": "https://localhost:8080/"
        },
        "id": "gQZvPr0vpd9Q",
        "outputId": "88b67159-7399-4676-be3c-3dc572e16482"
      },
      "execution_count": 194,
      "outputs": [
        {
          "output_type": "stream",
          "name": "stdout",
          "text": [
            "1/1 [==============================] - 0s 25ms/step\n"
          ]
        },
        {
          "output_type": "execute_result",
          "data": {
            "text/plain": [
              "array([[0.00184338, 0.9981566 ]], dtype=float32)"
            ]
          },
          "metadata": {},
          "execution_count": 194
        }
      ]
    },
    {
      "cell_type": "code",
      "source": [
        "results, np.argmax(results, axis=1)"
      ],
      "metadata": {
        "colab": {
          "base_uri": "https://localhost:8080/"
        },
        "id": "wVKhl_P5r_sw",
        "outputId": "0a672598-4a97-443f-86f0-71ee0fecee96"
      },
      "execution_count": 195,
      "outputs": [
        {
          "output_type": "execute_result",
          "data": {
            "text/plain": [
              "(array([[0.00184338, 0.9981566 ]], dtype=float32), array([1]))"
            ]
          },
          "metadata": {},
          "execution_count": 195
        }
      ]
    },
    {
      "cell_type": "code",
      "source": [
        "test_data.class_names"
      ],
      "metadata": {
        "colab": {
          "base_uri": "https://localhost:8080/"
        },
        "id": "r7dHRjcmsX9T",
        "outputId": "e11185ff-1aa0-47f0-ab1f-d36346c80ca6"
      },
      "execution_count": 186,
      "outputs": [
        {
          "output_type": "execute_result",
          "data": {
            "text/plain": [
              "['cats', 'dogs']"
            ]
          },
          "metadata": {},
          "execution_count": 186
        }
      ]
    },
    {
      "cell_type": "code",
      "source": [
        ""
      ],
      "metadata": {
        "id": "jvNcpsn-uEt5"
      },
      "execution_count": null,
      "outputs": []
    }
  ]
}