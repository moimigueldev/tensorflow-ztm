{
  "nbformat": 4,
  "nbformat_minor": 0,
  "metadata": {
    "colab": {
      "name": "cats_dogs_dl.ipynb",
      "provenance": [],
      "collapsed_sections": [],
      "toc_visible": true,
      "authorship_tag": "ABX9TyNckH+znhdxmrkS0jaVG12m",
      "include_colab_link": true
    },
    "kernelspec": {
      "name": "python3",
      "display_name": "Python 3"
    },
    "language_info": {
      "name": "python"
    },
    "accelerator": "GPU"
  },
  "cells": [
    {
      "cell_type": "markdown",
      "metadata": {
        "id": "view-in-github",
        "colab_type": "text"
      },
      "source": [
        "<a href=\"https://colab.research.google.com/github/moimigueldev/tensorflow-ztm/blob/main/cats_dogs/cats_dogs_dl.ipynb\" target=\"_parent\"><img src=\"https://colab.research.google.com/assets/colab-badge.svg\" alt=\"Open In Colab\"/></a>"
      ]
    },
    {
      "cell_type": "markdown",
      "source": [
        "# Classify dogs and cats with Binary CNN\n",
        "[Original Kaggle Notebook](https://www.kaggle.com/datasets/tongpython/cat-and-dog)"
      ],
      "metadata": {
        "id": "tD1yhJs5uAPy"
      }
    },
    {
      "cell_type": "markdown",
      "source": [
        "# Import Data and helpers"
      ],
      "metadata": {
        "id": "MnvfA8vBujVu"
      }
    },
    {
      "cell_type": "code",
      "source": [
        "import os\n",
        "list_dir = os.listdir('.')\n",
        "\n",
        "if 'cat_dog.zip?dl=0' not in list_dir:\n",
        "  # import dataset\n",
        "  !wget https://www.dropbox.com/s/qpul0hnbovcnmmb/cat_dog.zip?dl=0\n",
        "\n",
        "  # import helpers\n",
        "  !wget !wget !wget https://raw.githubusercontent.com/mrdbourke/tensorflow-deep-learning/main/extras/helper_functions.py"
      ],
      "metadata": {
        "id": "qKYPl0c-ulq0"
      },
      "execution_count": null,
      "outputs": []
    },
    {
      "cell_type": "code",
      "source": [
        "from helper_functions import plot_loss_curves, walk_through_dir, compare_historys, unzip_data"
      ],
      "metadata": {
        "id": "dk9agfgBvWjT"
      },
      "execution_count": null,
      "outputs": []
    },
    {
      "cell_type": "code",
      "source": [
        "list_dir = os.listdir('.')\n",
        "if 'images' not in list_dir:\n",
        "  unzip_data('cat_dog.zip?dl=0')\n"
      ],
      "metadata": {
        "id": "1EbdzvkwvN8K"
      },
      "execution_count": null,
      "outputs": []
    },
    {
      "cell_type": "code",
      "source": [
        "walk_through_dir('images/train_10_percent')"
      ],
      "metadata": {
        "id": "1Bk9kbV-vz_n",
        "colab": {
          "base_uri": "https://localhost:8080/"
        },
        "outputId": "7321570f-9582-4e8c-9149-d1fc8d84f19f"
      },
      "execution_count": null,
      "outputs": [
        {
          "output_type": "stream",
          "name": "stdout",
          "text": [
            "There are 2 directories and 0 images in 'images/train_10_percent'.\n",
            "There are 0 directories and 400 images in 'images/train_10_percent/cats'.\n",
            "There are 0 directories and 400 images in 'images/train_10_percent/dogs'.\n"
          ]
        }
      ]
    },
    {
      "cell_type": "markdown",
      "source": [
        "# Preprocess Data"
      ],
      "metadata": {
        "id": "vy3BS2s3v3VO"
      }
    },
    {
      "cell_type": "code",
      "source": [
        "data_augmentation_dial = 0.2\n",
        "import tensorflow as tf\n",
        "from tensorflow import keras\n",
        "from tensorflow.keras import layers\n",
        "from tensorflow.keras.layers.experimental import preprocessing\n",
        "\n",
        "# Create dat augmentation stage wsith horizontal flipping, rotations, zooms, etc\n",
        "data_augmentation = keras.Sequential([\n",
        "                                      preprocessing.RandomFlip('horizontal'),\n",
        "                                      preprocessing.RandomRotation(data_augmentation_dial),\n",
        "                                      preprocessing.RandomZoom(data_augmentation_dial),\n",
        "                                      preprocessing.RandomHeight(data_augmentation_dial),\n",
        "                                      preprocessing.RandomWidth(data_augmentation_dial),\n",
        "                                      \n",
        "                                      # Keep for models like ResNet50v2 but efficientNet's \n",
        "                                      # having resclaing built in means we don't need it for this model\n",
        "                                      # preprocessing.Rescale(1./255)\n",
        "], name='data_augmentation')"
      ],
      "metadata": {
        "id": "N2e5t5Hiv8ha"
      },
      "execution_count": null,
      "outputs": []
    },
    {
      "cell_type": "code",
      "source": [
        "test_data = tf.keras.preprocessing.image_dataset_from_directory(\n",
        "    'images/test',\n",
        "    label_mode='binary',\n",
        "    image_size=(224, 224),\n",
        ")\n",
        "\n",
        "train_data = tf.keras.preprocessing.image_dataset_from_directory(\n",
        "    'images/train',\n",
        "    label_mode='binary',\n",
        "    image_size=(224, 224),\n",
        ")\n",
        "\n",
        "train_data_10_percent = tf.keras.preprocessing.image_dataset_from_directory(\n",
        "    'images/train_10_percent',\n",
        "    label_mode='binary',\n",
        "    image_size=(224, 224),\n",
        ")"
      ],
      "metadata": {
        "id": "eOpS4afvwU9T",
        "colab": {
          "base_uri": "https://localhost:8080/"
        },
        "outputId": "0212ed25-6fa7-4921-d9c7-3ae8872faadf"
      },
      "execution_count": null,
      "outputs": [
        {
          "output_type": "stream",
          "name": "stdout",
          "text": [
            "Found 2022 files belonging to 2 classes.\n",
            "Found 8000 files belonging to 2 classes.\n",
            "Found 800 files belonging to 2 classes.\n"
          ]
        }
      ]
    },
    {
      "cell_type": "markdown",
      "source": [
        "# Create base model"
      ],
      "metadata": {
        "id": "BQkMRvjNxlDZ"
      }
    },
    {
      "cell_type": "code",
      "source": [
        "input_shape = (224, 224, 3)\n",
        "\n",
        "base_model = tf.keras.applications.EfficientNetB0(include_top=False)\n",
        "base_model.trainable = False\n",
        "\n",
        "inputs = tf.keras.Input(shape=input_shape, name='input_layer')\n",
        "\n",
        "# If using a model like ResNet50v2 you will need to normalize inputs (you don't have to if you're using efficientNet(s))\n",
        "# x = tf.keras.layers.experimental.preprocessing.Rescaling(1./255)(inputs)\n",
        "\n",
        "x = data_augmentation(inputs)\n",
        "\n",
        "x = base_model(x, training=False)\n",
        "\n",
        "x = layers.GlobalAveragePooling2D(name='global_average_pooling_layer')(x)\n",
        "\n",
        "outputs = layers.Dense(1, activation='sigmoid', name='output_layer')(x)\n",
        "\n"
      ],
      "metadata": {
        "id": "ju-I1ImZxvIl"
      },
      "execution_count": null,
      "outputs": []
    },
    {
      "cell_type": "markdown",
      "source": [
        "# Create Checkpoint callback"
      ],
      "metadata": {
        "id": "KPTC4h0zViYP"
      }
    },
    {
      "cell_type": "code",
      "source": [
        "checkpoint_path = 'efficientNetB0/checkpoint.ckpt'\n",
        "initial_epochs = 5\n",
        "\n",
        "checkpoint_callback = tf.keras.callbacks.ModelCheckpoint(\n",
        "    filepath=checkpoint_path,\n",
        "    save_weights=True,\n",
        "    save_best_only=False,\n",
        "    # save_freq=\"epoch\"\n",
        "    period=initial_epochs,\n",
        "    verbose=1\n",
        ")"
      ],
      "metadata": {
        "colab": {
          "base_uri": "https://localhost:8080/"
        },
        "id": "A_S7pj5jVnDV",
        "outputId": "92e2b455-dbdd-42d8-f3df-8e95b74d6978"
      },
      "execution_count": null,
      "outputs": [
        {
          "output_type": "stream",
          "name": "stdout",
          "text": [
            "WARNING:tensorflow:`period` argument is deprecated. Please use `save_freq` to specify the frequency in number of batches seen.\n"
          ]
        }
      ]
    },
    {
      "cell_type": "markdown",
      "source": [
        "# EfficientNetB0"
      ],
      "metadata": {
        "id": "Hc0TQQthyr-D"
      }
    },
    {
      "cell_type": "markdown",
      "source": [
        "## Model 1: Feature Extraction\n"
      ],
      "metadata": {
        "id": "MnOJHgT-zGAU"
      }
    },
    {
      "cell_type": "code",
      "source": [
        "model_1 = keras.Model(inputs, outputs)\n",
        "\n",
        "model_1.compile(loss='binary_crossentropy', optimizer=tf.keras.optimizers.Adam(), metrics=['accuracy'])\n",
        "\n",
        "\n",
        "history_1 = model_1.fit(\n",
        "    train_data_10_percent,\n",
        "    epochs=initial_epochs,\n",
        "    steps_per_epoch=len(train_data_10_percent),\n",
        "    validation_data=test_data,\n",
        "    validation_steps=int(.25 * len(test_data)),\n",
        "    callbacks=[checkpoint_callback]\n",
        ")\n",
        "\n"
      ],
      "metadata": {
        "id": "u8v2gXhozIl1",
        "colab": {
          "base_uri": "https://localhost:8080/"
        },
        "outputId": "6d734a38-d432-42c2-c61f-f9cc65b06026"
      },
      "execution_count": null,
      "outputs": [
        {
          "output_type": "stream",
          "name": "stdout",
          "text": [
            "Epoch 1/5\n",
            "25/25 [==============================] - 10s 198ms/step - loss: 0.4889 - accuracy: 0.7887 - val_loss: 0.2534 - val_accuracy: 0.9355\n",
            "Epoch 2/5\n",
            "25/25 [==============================] - 3s 119ms/step - loss: 0.2418 - accuracy: 0.9375 - val_loss: 0.1560 - val_accuracy: 0.9688\n",
            "Epoch 3/5\n",
            "25/25 [==============================] - 3s 119ms/step - loss: 0.1780 - accuracy: 0.9463 - val_loss: 0.1132 - val_accuracy: 0.9805\n",
            "Epoch 4/5\n",
            "25/25 [==============================] - 3s 117ms/step - loss: 0.1537 - accuracy: 0.9563 - val_loss: 0.0963 - val_accuracy: 0.9785\n",
            "Epoch 5/5\n",
            "24/25 [===========================>..] - ETA: 0s - loss: 0.1250 - accuracy: 0.9661\n",
            "Epoch 5: saving model to efficientNetB0/checkpoint.ckpt\n",
            "INFO:tensorflow:Assets written to: efficientNetB0/checkpoint.ckpt/assets\n",
            "25/25 [==============================] - 38s 2s/step - loss: 0.1241 - accuracy: 0.9663 - val_loss: 0.0985 - val_accuracy: 0.9805\n"
          ]
        }
      ]
    },
    {
      "cell_type": "code",
      "source": [
        "plot_loss_curves(history_1)"
      ],
      "metadata": {
        "id": "wYrRHldazgRH",
        "colab": {
          "base_uri": "https://localhost:8080/",
          "height": 573
        },
        "outputId": "b48f349b-ad95-49a3-e054-b7804b58c9e7"
      },
      "execution_count": null,
      "outputs": [
        {
          "output_type": "display_data",
          "data": {
            "text/plain": [
              "<Figure size 432x288 with 1 Axes>"
            ],
            "image/png": "[encoded data removed]"
          },
          "metadata": {
            "needs_background": "light"
          }
        },
        {
          "output_type": "display_data",
          "data": {
            "text/plain": [
              "<Figure size 432x288 with 1 Axes>"
            ],
            "image/png": "[encoded data removed]"
          },
          "metadata": {
            "needs_background": "light"
          }
        }
      ]
    },
    {
      "cell_type": "code",
      "source": [
        "model_1_results = model_1.evaluate(test_data)"
      ],
      "metadata": {
        "colab": {
          "base_uri": "https://localhost:8080/"
        },
        "id": "Ok0nUDig4fBv",
        "outputId": "66475355-b9e0-4726-9e22-7bcee3cef023"
      },
      "execution_count": null,
      "outputs": [
        {
          "output_type": "stream",
          "name": "stdout",
          "text": [
            "64/64 [==============================] - 4s 54ms/step - loss: 0.0909 - accuracy: 0.9797\n"
          ]
        }
      ]
    },
    {
      "cell_type": "markdown",
      "source": [
        "## Model 2: Fine Tuning\n",
        "EfficientNetB0 gives us great results right off the bat with data augmentation and with only 10% of the training data.\n",
        "\n",
        "Now let's try to unfreeze 10% layers and train on our own custom data"
      ],
      "metadata": {
        "id": "wuILtUP540Yn"
      }
    },
    {
      "cell_type": "code",
      "source": [
        "base_model.trainable = True\n",
        "\n",
        "# Freeze all layers except the last 10%\n",
        "for layer in base_model.layers[:- int(.10 * len(base_model.layers))]:\n",
        "  layer.trainable = False"
      ],
      "metadata": {
        "id": "I9zAzsqwV-t7"
      },
      "execution_count": null,
      "outputs": []
    },
    {
      "cell_type": "code",
      "source": [
        "# # Create new model and recompile & fit\n",
        "model_2 = tf.keras.Model(inputs, outputs)\n",
        "model_2.load_weights(checkpoint_path)\n",
        "model_2.compile(loss='binary_crossentropy', optimizer=tf.keras.optimizers.Adam(0.0001), metrics=['accuracy'])\n",
        "fine_tune_epochs = initial_epochs + 5\n",
        "history_2 = model_2.fit(\n",
        "    train_data,\n",
        "    epochs=fine_tune_epochs,\n",
        "    steps_per_epoch=len(train_data),\n",
        "    validation_data=test_data,\n",
        "    validation_steps=int(.25 * len(test_data)),\n",
        "    initial_epoch=history_1.epoch[-1]\n",
        ")\n",
        "compare_historys(history_1, history_2)"
      ],
      "metadata": {
        "colab": {
          "base_uri": "https://localhost:8080/"
        },
        "id": "7ritvxdaWYgL",
        "outputId": "acf3e8f4-50fd-4238-d03d-becda910be3a"
      },
      "execution_count": null,
      "outputs": [
        {
          "output_type": "stream",
          "name": "stdout",
          "text": [
            "Epoch 5/10\n",
            "250/250 [==============================] - 27s 86ms/step - loss: 0.1239 - accuracy: 0.9532 - val_loss: 0.0351 - val_accuracy: 0.9883\n",
            "Epoch 6/10\n",
            "171/250 [===================>..........] - ETA: 6s - loss: 0.0722 - accuracy: 0.9715"
          ]
        }
      ]
    },
    {
      "cell_type": "code",
      "source": [
        "model_2_results = model_2.evaluate(test_data)"
      ],
      "metadata": {
        "id": "dYJeVOhuhzGg"
      },
      "execution_count": null,
      "outputs": []
    },
    {
      "cell_type": "markdown",
      "source": [
        "**Summary:** EfficientNetB0 gave us a high accuracy score and the improvement from unfreezing layers is minimal."
      ],
      "metadata": {
        "id": "TXSLtxaDjUyA"
      }
    },
    {
      "cell_type": "markdown",
      "source": [
        "# ResNet50V2\n",
        "\n",
        "EfficientNetB0 proved to be usefull even before fine tuning, so let's try a different popular model to compare results"
      ],
      "metadata": {
        "id": "A7ruu70tANCI"
      }
    },
    {
      "cell_type": "code",
      "source": [
        "# Create New Checkpoint\n",
        "checkpoint_path = 'resNet50V2/checkpoint.ckpt'\n",
        "checkpoint_callback = tf.keras.callbacks.ModelCheckpoint(\n",
        "    filepath=checkpoint_path,\n",
        "    save_weights=True,\n",
        "    save_best_only=False,\n",
        "    period=initial_epochs,\n",
        "    verbose=1\n",
        ")"
      ],
      "metadata": {
        "id": "j3ESyDylF5tG"
      },
      "execution_count": null,
      "outputs": []
    },
    {
      "cell_type": "code",
      "source": [
        "# Create base model\n",
        "input_shape = (224, 224, 3)\n",
        "\n",
        "resNet_model = tf.keras.applications.ResNet50V2(include_top=False)\n",
        "resNet_model.trainable = False\n",
        "\n",
        "inputs = tf.keras.Input(shape=input_shape, name='input_layer')\n",
        "\n",
        "\n",
        "x = data_augmentation(inputs)\n",
        "\n",
        "x = resNet_model(x, training=False)\n",
        "\n",
        "x = layers.GlobalAveragePooling2D(name='global_average_pooling_layer')(x)\n",
        "\n",
        "outputs = layers.Dense(1, activation='sigmoid', name='output_layer')(x)\n",
        "\n"
      ],
      "metadata": {
        "id": "5d0UJ69S-VNS"
      },
      "execution_count": null,
      "outputs": []
    },
    {
      "cell_type": "markdown",
      "source": [
        "## Model 3"
      ],
      "metadata": {
        "id": "xxVtRhmNHhqQ"
      }
    },
    {
      "cell_type": "code",
      "source": [
        "# Compile & Fit the model\n",
        "\n",
        "model_3 = tf.keras.Model(inputs, outputs)\n",
        "model_3.compile(loss='binary_crossentropy', optimizer=tf.keras.optimizers.Adam(0.01), metrics='accuracy')\n",
        "history_3 = model_3.fit(\n",
        "  train_data_10_percent,\n",
        "  epochs = initial_epochs,\n",
        "  steps_per_epoch=len(train_data_10_percent),\n",
        "  validation_data=test_data,\n",
        "  validation_steps=int(.25 * len(test_data)),\n",
        "  callbacks=[checkpoint_callback]\n",
        ")\n",
        "plot_loss_curves(history_3)"
      ],
      "metadata": {
        "id": "AzQK715x_VXw"
      },
      "execution_count": null,
      "outputs": []
    },
    {
      "cell_type": "code",
      "source": [
        "model_3_results = model_3.evaluate(test_data)"
      ],
      "metadata": {
        "id": "kyESKR1T_kzU"
      },
      "execution_count": null,
      "outputs": []
    },
    {
      "cell_type": "markdown",
      "source": [
        "Not very good results with ResNet50V2\n",
        "\n",
        "Let's try unfreezing some layers and training on full test dataset to see if model improves\n",
        "\n",
        "Let's try unlocking the last 10% of base layers"
      ],
      "metadata": {
        "id": "EHS5ShMa_xg3"
      }
    },
    {
      "cell_type": "code",
      "source": [
        "resNet_model.trainable = True\n",
        "\n",
        "# Freeze all layers except the last 10%\n",
        "for layer in resNet_model.layers[:- int(.10 * len(resNet_model.layers))]:\n",
        "  layer.trainable = False\n",
        "\n"
      ],
      "metadata": {
        "id": "k2zY3BfsENqS"
      },
      "execution_count": null,
      "outputs": []
    },
    {
      "cell_type": "markdown",
      "source": [
        "##Model 4"
      ],
      "metadata": {
        "id": "khZgl7fTHkxP"
      }
    },
    {
      "cell_type": "code",
      "source": [
        "# # Create new model and recompile & fit\n",
        "model_4 = tf.keras.Model(inputs, outputs)\n",
        "model_4.load_weights(checkpoint_path)\n",
        "model_4.compile(loss='binary_crossentropy', optimizer=tf.keras.optimizers.Adam(0.0001), metrics=['accuracy'])\n",
        "fine_tune_epochs = initial_epochs + 5\n",
        "history_4 = model_4.fit(\n",
        "    train_data,\n",
        "    epochs=fine_tune_epochs,\n",
        "    steps_per_epoch=len(train_data),\n",
        "    validation_data=test_data,\n",
        "    validation_steps=int(.25 * len(test_data)),\n",
        "    initial_epoch=history_3.epoch[-1]\n",
        ")\n",
        "compare_historys(history_3, history_4)\n",
        "\n",
        "\n"
      ],
      "metadata": {
        "id": "zJG8izKLEXrL"
      },
      "execution_count": null,
      "outputs": []
    },
    {
      "cell_type": "code",
      "source": [
        "model_4_results = model_4.evaluate(test_data)"
      ],
      "metadata": {
        "id": "-MOULMb_IVSJ"
      },
      "execution_count": null,
      "outputs": []
    },
    {
      "cell_type": "markdown",
      "source": [
        "Summary: ResNet50V2 did not perform nearly as well as efficientNetB0. Let's try one more model "
      ],
      "metadata": {
        "id": "HGE0BD6sFba8"
      }
    },
    {
      "cell_type": "markdown",
      "source": [
        "# Xception"
      ],
      "metadata": {
        "id": "TG6itdnhG9Md"
      }
    },
    {
      "cell_type": "code",
      "source": [
        "# Create New Checkpoint\n",
        "checkpoint_path = 'xception/checkpoint.ckpt'\n",
        "checkpoint_callback = tf.keras.callbacks.ModelCheckpoint(\n",
        "    filepath=checkpoint_path,\n",
        "    save_weights=True,\n",
        "    save_best_only=False,\n",
        "    period=initial_epochs,\n",
        "    verbose=1\n",
        ")"
      ],
      "metadata": {
        "id": "TxoMXYwSHBKD"
      },
      "execution_count": null,
      "outputs": []
    },
    {
      "cell_type": "code",
      "source": [
        "# Create base model\n",
        "input_shape = (224, 224, 3)\n",
        "\n",
        "xception_model = tf.keras.applications.Xception(include_top=False)\n",
        "xception_model.trainable = False\n",
        "\n",
        "inputs = tf.keras.Input(shape=input_shape, name='input_layer')\n",
        "\n",
        "x = data_augmentation(inputs)\n",
        "\n",
        "x = xception_model(x, training=False)\n",
        "\n",
        "x = layers.GlobalAveragePooling2D(name='global_average_pooling_layer')(x)\n",
        "\n",
        "outputs = layers.Dense(1, activation='sigmoid', name='output_layer')(x)\n",
        "\n"
      ],
      "metadata": {
        "id": "ROkta4qLHPYn"
      },
      "execution_count": null,
      "outputs": []
    },
    {
      "cell_type": "markdown",
      "source": [
        "## Model 5"
      ],
      "metadata": {
        "id": "1xmUCeQaHZ8s"
      }
    },
    {
      "cell_type": "code",
      "source": [
        "# Compile & Fit the model\n",
        "\n",
        "model_5 = tf.keras.Model(inputs, outputs)\n",
        "model_5.compile(loss='binary_crossentropy', optimizer=tf.keras.optimizers.Adam(), metrics='accuracy')\n",
        "history_5 = model_5.fit(\n",
        "  train_data_10_percent,\n",
        "  epochs = initial_epochs,\n",
        "  steps_per_epoch=len(train_data_10_percent),\n",
        "  validation_data=test_data,\n",
        "  validation_steps=int(.25 * len(test_data)),\n",
        "  callbacks=[checkpoint_callback]\n",
        ")\n",
        "plot_loss_curves(history_5)"
      ],
      "metadata": {
        "id": "PmOr2K9nHslH"
      },
      "execution_count": null,
      "outputs": []
    },
    {
      "cell_type": "code",
      "source": [
        "model_5_results = model_5.evaluate(test_data)"
      ],
      "metadata": {
        "id": "Eu4uO2W8Hx1N"
      },
      "execution_count": null,
      "outputs": []
    },
    {
      "cell_type": "markdown",
      "source": [
        "## Model 6"
      ],
      "metadata": {
        "id": "3gwJeNShIRTw"
      }
    },
    {
      "cell_type": "code",
      "source": [
        "xception_model.trainable = True\n",
        "\n",
        "# Freeze all layers except the last 30%\n",
        "for layer in xception_model.layers[:- int(.30 * len(xception_model.layers))]:\n",
        "  layer.trainable = False\n",
        "\n"
      ],
      "metadata": {
        "id": "G6kipkZRJPL5"
      },
      "execution_count": null,
      "outputs": []
    },
    {
      "cell_type": "code",
      "source": [
        "# # Create new model and recompile & fit\n",
        "model_6 = tf.keras.Model(inputs, outputs)\n",
        "model_6.load_weights(checkpoint_path)\n",
        "model_6.compile(loss='binary_crossentropy', optimizer=tf.keras.optimizers.Adam(0.0001), metrics=['accuracy'])\n",
        "fine_tune_epochs = initial_epochs + 5\n",
        "history_6 = model_6.fit(\n",
        "    train_data,\n",
        "    epochs=fine_tune_epochs,\n",
        "    steps_per_epoch=len(train_data),\n",
        "    validation_data=test_data,\n",
        "    validation_steps=int(.25 * len(test_data)),\n",
        "    initial_epoch=history_5.epoch[-1]\n",
        ")\n",
        "compare_historys(history_5, history_6)\n",
        "\n",
        "\n"
      ],
      "metadata": {
        "id": "9b-lqtvYJfKR"
      },
      "execution_count": null,
      "outputs": []
    },
    {
      "cell_type": "code",
      "source": [
        "model_6_results = model_6.evaluate(test_data)"
      ],
      "metadata": {
        "id": "Kid3UqaoZ5DJ"
      },
      "execution_count": null,
      "outputs": []
    },
    {
      "cell_type": "markdown",
      "source": [
        "`Exception` gave us horrible results when unfreezing layers to train on custom data_augmentation\n",
        "Just to make sure let's create a new xception model and evaluate the data without fitting to see if we could have gotten a better score\n"
      ],
      "metadata": {
        "id": "rjLWwk9aJtxP"
      }
    },
    {
      "cell_type": "markdown",
      "source": [
        "## Model 7\n"
      ],
      "metadata": {
        "id": "OY8bdy3kZiB_"
      }
    },
    {
      "cell_type": "code",
      "source": [
        "# Create base model\n",
        "input_shape = (224, 224, 3)\n",
        "\n",
        "xception_model = tf.keras.applications.Xception(include_top=False)\n",
        "xception_model.trainable = False\n",
        "\n",
        "inputs = tf.keras.Input(shape=input_shape, name='input_layer')\n",
        "\n",
        "x = data_augmentation(inputs)\n",
        "\n",
        "x = xception_model(x, training=False)\n",
        "\n",
        "x = layers.GlobalAveragePooling2D(name='global_average_pooling_layer')(x)\n",
        "\n",
        "outputs = layers.Dense(1, activation='sigmoid', name='output_layer')(x)\n",
        "\n"
      ],
      "metadata": {
        "id": "4oB7EFFVZleT"
      },
      "execution_count": null,
      "outputs": []
    },
    {
      "cell_type": "code",
      "source": [
        "# Compile & Fit the model\n",
        "\n",
        "model_7 = tf.keras.Model(inputs, outputs)\n",
        "model_7.compile(loss='binary_crossentropy', optimizer=tf.keras.optimizers.Adam(), metrics=['accuracy'])\n",
        "model_7_results = model_7.evaluate(test_data)\n"
      ],
      "metadata": {
        "id": "XsS-Hr3YZpnm"
      },
      "execution_count": null,
      "outputs": []
    },
    {
      "cell_type": "code",
      "source": [
        "model_7_results[1], model_6_results[1]"
      ],
      "metadata": {
        "id": "htJOeW4Kja0l"
      },
      "execution_count": null,
      "outputs": []
    },
    {
      "cell_type": "markdown",
      "source": [
        "Summary: When comparing `model_6` which is trained on custom data and `model_7` which is not trained on custom data, we see that they both perform the same at `~0.5` accuracy"
      ],
      "metadata": {
        "id": "XEUcwNnyj83z"
      }
    },
    {
      "cell_type": "markdown",
      "source": [
        " # Comparing models "
      ],
      "metadata": {
        "id": "U2dqL_bgkrlO"
      }
    },
    {
      "cell_type": "code",
      "source": [
        "import pandas as pd\n",
        "models = [\n",
        "          model_1_results,\n",
        "          model_2_results,\n",
        "          model_3_results,\n",
        "          model_4_results,\n",
        "          model_5_results,\n",
        "          model_6_results,\n",
        "          model_7_results,\n",
        "]\n",
        "\n",
        "\n",
        "results = pd.DataFrame(models, columns=['loss', 'accuracy'])\n",
        "results"
      ],
      "metadata": {
        "id": "Ptz-GV_-kvec"
      },
      "execution_count": null,
      "outputs": []
    },
    {
      "cell_type": "code",
      "source": [
        "# model_1_results.append('efficientNetB0')\n"
      ],
      "metadata": {
        "id": "OwkQIubZk6zH"
      },
      "execution_count": null,
      "outputs": []
    },
    {
      "cell_type": "code",
      "source": [
        ""
      ],
      "metadata": {
        "id": "G0jL1eN0ls4l"
      },
      "execution_count": null,
      "outputs": []
    },
    {
      "cell_type": "code",
      "source": [
        ""
      ],
      "metadata": {
        "id": "MJQMQ0lRmdNn"
      },
      "execution_count": null,
      "outputs": []
    },
    {
      "cell_type": "code",
      "source": [
        ""
      ],
      "metadata": {
        "id": "0uHiR-fNmnzb"
      },
      "execution_count": null,
      "outputs": []
    }
  ]
}